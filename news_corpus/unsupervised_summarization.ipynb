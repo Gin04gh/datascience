{
 "cells": [
  {
   "cell_type": "markdown",
   "metadata": {},
   "source": [
    "Unsupervised Neural Multi-document Abstractive Summarization  \n",
    "https://arxiv.org/abs/1810.05739"
   ]
  },
  {
   "cell_type": "code",
   "execution_count": 4,
   "metadata": {},
   "outputs": [],
   "source": [
    "import re\n",
    "import numpy as np\n",
    "import matplotlib\n",
    "import matplotlib.pylab as plt\n",
    "from sklearn import datasets\n",
    "import chainer\n",
    "import chainer.functions as F\n",
    "import chainer.links as L"
   ]
  },
  {
   "cell_type": "code",
   "execution_count": 3,
   "metadata": {},
   "outputs": [
    {
     "name": "stderr",
     "output_type": "stream",
     "text": [
      "Downloading 20news dataset. This may take a few minutes.\n",
      "Downloading dataset from https://ndownloader.figshare.com/files/5975967 (14 MB)\n"
     ]
    }
   ],
   "source": [
    "categories = ['sci.space']\n",
    "test = datasets.fetch_20newsgroups(subset='test', categories=categories)\n",
    "test.data = np.array(test.data, dtype=np.object)"
   ]
  },
  {
   "cell_type": "code",
   "execution_count": 5,
   "metadata": {},
   "outputs": [
    {
     "data": {
      "text/plain": [
       "394"
      ]
     },
     "execution_count": 5,
     "metadata": {},
     "output_type": "execute_result"
    }
   ],
   "source": [
    "len(test.data)"
   ]
  },
  {
   "cell_type": "code",
   "execution_count": 29,
   "metadata": {},
   "outputs": [],
   "source": [
    "def analyzer(text):\n",
    "    \n",
    "    vocab = {'<EOS>': 0}\n",
    "    \n",
    "    text = text.lower() # 小文字化\n",
    "    text = text.replace('\\n', '') # 改行削除\n",
    "    text = text.replace('\\t', '') # タブ削除\n",
    "    \n",
    "    doc = []\n",
    "    max_words = 0\n",
    "    for sentence in text.split('.'):\n",
    "        words = sentence.split(' ')\n",
    "        while '' in words:\n",
    "            words.remove('')\n",
    "        if len(words) > max_words:\n",
    "            max_words = len(words)\n",
    "        doc.append(words)\n",
    "        \n",
    "    for words in doc:\n",
    "        for w in words:\n",
    "            if w not in vocab:\n",
    "                vocab[w] = len(vocab)\n",
    "    \n",
    "    doc_ids = []\n",
    "    for words in doc:\n",
    "        id_ = [vocab[w] for w in words]\n",
    "        while len(id_) < max_words:\n",
    "            id_.append(-1)\n",
    "        doc_ids.append(id_)\n",
    "    \n",
    "    return doc, doc_ids, vocab, max_words"
   ]
  },
  {
   "cell_type": "code",
   "execution_count": 30,
   "metadata": {},
   "outputs": [
    {
     "name": "stdout",
     "output_type": "stream",
     "text": [
      "From: daveka@microsoft.com (Dave Kappl)\n",
      "Subject: Re: Abyss--breathing fluids\n",
      "Organization: Microsoft Corp.\n",
      "Distribution: usa\n",
      "Lines: 26\n",
      "\n",
      "In article <1r8esd$lrh@agate.berkeley.edu> isaackuo@skippy.berkeley.edu wrote:\n",
      "> Are breathable liquids possible?\n",
      "> \n",
      "> I remember seeing an old Nova or The Nature of Things where this idea was\n",
      "> touched upon (it might have been some other TV show).  If nothing else, I know\n",
      "> such liquids ARE possible because...\n",
      "> \n",
      "> They showed a large glass full of this liquid, and put a white mouse (rat?) in\n",
      "> it.  Since the liquid was not dense, the mouse would float, so it was held down\n",
      "> by tongs clutching its tail.  The thing struggled quite a bit, but it was\n",
      "> certainly held down long enough so that it was breathing the liquid.  It never\n",
      "> did slow down in its frantic attempts to swim to the top.\n",
      "> \n",
      "> Now, this may not have been the most humane of demonstrations, but it certainly\n",
      "> shows breathable liquids can be made.\n",
      "> -- \n",
      "> *Isaac Kuo (isaackuo@math.berkeley.edu)\t*       ___\n",
      "> *\t\t\t\t\t* _____/_o_\\_____\n",
      "> *\tTwinkle, twinkle, little .sig,\t*(==(/_______\\)==)\n",
      "> *\tKeep it less than 5 lines big.\t* \\==\\/     \\/==/\n",
      "\n",
      "This was on \"That's Incredible\" several years ago.  The volume of liquid\n",
      "the rat had to breath was considerably smaller than what a human would have\n",
      "to breath, so maybe it is possible for a rat but not a human.\n",
      "\n",
      "DaveTheRave\n",
      "\n",
      "([['from:', 'daveka@microsoft'], ['com', '(dave', 'kappl)subject:', 're:', 'abyss--breathing', 'fluidsorganization:', 'microsoft', 'corp'], ['distribution:', 'usalines:', '26in', 'article', '<1r8esd$lrh@agate'], ['berkeley'], ['edu>', 'isaackuo@skippy'], ['berkeley'], ['edu', 'wrote:>', 'are', 'breathable', 'liquids', 'possible?>', '>', 'i', 'remember', 'seeing', 'an', 'old', 'nova', 'or', 'the', 'nature', 'of', 'things', 'where', 'this', 'idea', 'was>', 'touched', 'upon', '(it', 'might', 'have', 'been', 'some', 'other', 'tv', 'show)'], ['if', 'nothing', 'else,', 'i', 'know>', 'such', 'liquids', 'are', 'possible', 'because'], [], [], ['>', '>', 'they', 'showed', 'a', 'large', 'glass', 'full', 'of', 'this', 'liquid,', 'and', 'put', 'a', 'white', 'mouse', '(rat?)', 'in>', 'it'], ['since', 'the', 'liquid', 'was', 'not', 'dense,', 'the', 'mouse', 'would', 'float,', 'so', 'it', 'was', 'held', 'down>', 'by', 'tongs', 'clutching', 'its', 'tail'], ['the', 'thing', 'struggled', 'quite', 'a', 'bit,', 'but', 'it', 'was>', 'certainly', 'held', 'down', 'long', 'enough', 'so', 'that', 'it', 'was', 'breathing', 'the', 'liquid'], ['it', 'never>', 'did', 'slow', 'down', 'in', 'its', 'frantic', 'attempts', 'to', 'swim', 'to', 'the', 'top'], ['>', '>', 'now,', 'this', 'may', 'not', 'have', 'been', 'the', 'most', 'humane', 'of', 'demonstrations,', 'but', 'it', 'certainly>', 'shows', 'breathable', 'liquids', 'can', 'be', 'made'], ['>', '--', '>', '*isaac', 'kuo', '(isaackuo@math'], ['berkeley'], ['edu)*', '___>', '**', '_____/_o_\\\\_____>', '*twinkle,', 'twinkle,', 'little'], ['sig,*(==(/_______\\\\)==)>', '*keep', 'it', 'less', 'than', '5', 'lines', 'big'], ['*', '\\\\==\\\\/', '\\\\/==/this', 'was', 'on', '\"that\\'s', 'incredible\"', 'several', 'years', 'ago'], ['the', 'volume', 'of', 'liquidthe', 'rat', 'had', 'to', 'breath', 'was', 'considerably', 'smaller', 'than', 'what', 'a', 'human', 'would', 'haveto', 'breath,', 'so', 'maybe', 'it', 'is', 'possible', 'for', 'a', 'rat', 'but', 'not', 'a', 'human'], ['davetherave']], [[1, 2, -1, -1, -1, -1, -1, -1, -1, -1, -1, -1, -1, -1, -1, -1, -1, -1, -1, -1, -1, -1, -1, -1, -1, -1, -1, -1, -1, -1, -1, -1], [3, 4, 5, 6, 7, 8, 9, 10, -1, -1, -1, -1, -1, -1, -1, -1, -1, -1, -1, -1, -1, -1, -1, -1, -1, -1, -1, -1, -1, -1, -1, -1], [11, 12, 13, 14, 15, -1, -1, -1, -1, -1, -1, -1, -1, -1, -1, -1, -1, -1, -1, -1, -1, -1, -1, -1, -1, -1, -1, -1, -1, -1, -1, -1], [16, -1, -1, -1, -1, -1, -1, -1, -1, -1, -1, -1, -1, -1, -1, -1, -1, -1, -1, -1, -1, -1, -1, -1, -1, -1, -1, -1, -1, -1, -1, -1], [17, 18, -1, -1, -1, -1, -1, -1, -1, -1, -1, -1, -1, -1, -1, -1, -1, -1, -1, -1, -1, -1, -1, -1, -1, -1, -1, -1, -1, -1, -1, -1], [16, -1, -1, -1, -1, -1, -1, -1, -1, -1, -1, -1, -1, -1, -1, -1, -1, -1, -1, -1, -1, -1, -1, -1, -1, -1, -1, -1, -1, -1, -1, -1], [19, 20, 21, 22, 23, 24, 25, 26, 27, 28, 29, 30, 31, 32, 33, 34, 35, 36, 37, 38, 39, 40, 41, 42, 43, 44, 45, 46, 47, 48, 49, 50], [51, 52, 53, 26, 54, 55, 23, 21, 56, 57, -1, -1, -1, -1, -1, -1, -1, -1, -1, -1, -1, -1, -1, -1, -1, -1, -1, -1, -1, -1, -1, -1], [-1, -1, -1, -1, -1, -1, -1, -1, -1, -1, -1, -1, -1, -1, -1, -1, -1, -1, -1, -1, -1, -1, -1, -1, -1, -1, -1, -1, -1, -1, -1, -1], [-1, -1, -1, -1, -1, -1, -1, -1, -1, -1, -1, -1, -1, -1, -1, -1, -1, -1, -1, -1, -1, -1, -1, -1, -1, -1, -1, -1, -1, -1, -1, -1], [25, 25, 58, 59, 60, 61, 62, 63, 35, 38, 64, 65, 66, 60, 67, 68, 69, 70, 71, -1, -1, -1, -1, -1, -1, -1, -1, -1, -1, -1, -1, -1], [72, 33, 73, 74, 75, 76, 33, 68, 77, 78, 79, 71, 74, 80, 81, 82, 83, 84, 85, 86, -1, -1, -1, -1, -1, -1, -1, -1, -1, -1, -1, -1], [33, 87, 88, 89, 60, 90, 91, 71, 40, 92, 80, 93, 94, 95, 79, 96, 71, 74, 97, 33, 73, -1, -1, -1, -1, -1, -1, -1, -1, -1, -1, -1], [71, 98, 99, 100, 93, 101, 85, 102, 103, 104, 105, 104, 33, 106, -1, -1, -1, -1, -1, -1, -1, -1, -1, -1, -1, -1, -1, -1, -1, -1, -1, -1], [25, 25, 107, 38, 108, 75, 45, 46, 33, 109, 110, 35, 111, 91, 71, 112, 113, 22, 23, 114, 115, 116, -1, -1, -1, -1, -1, -1, -1, -1, -1, -1], [25, 117, 25, 118, 119, 120, -1, -1, -1, -1, -1, -1, -1, -1, -1, -1, -1, -1, -1, -1, -1, -1, -1, -1, -1, -1, -1, -1, -1, -1, -1, -1], [16, -1, -1, -1, -1, -1, -1, -1, -1, -1, -1, -1, -1, -1, -1, -1, -1, -1, -1, -1, -1, -1, -1, -1, -1, -1, -1, -1, -1, -1, -1, -1], [121, 122, 123, 124, 125, 126, 127, -1, -1, -1, -1, -1, -1, -1, -1, -1, -1, -1, -1, -1, -1, -1, -1, -1, -1, -1, -1, -1, -1, -1, -1, -1], [128, 129, 71, 130, 131, 132, 133, 134, -1, -1, -1, -1, -1, -1, -1, -1, -1, -1, -1, -1, -1, -1, -1, -1, -1, -1, -1, -1, -1, -1, -1, -1], [135, 136, 137, 74, 138, 139, 140, 141, 142, 143, -1, -1, -1, -1, -1, -1, -1, -1, -1, -1, -1, -1, -1, -1, -1, -1, -1, -1, -1, -1, -1, -1], [33, 144, 35, 145, 146, 147, 104, 148, 74, 149, 150, 131, 151, 60, 152, 77, 153, 154, 79, 155, 71, 156, 56, 157, 60, 146, 91, 75, 60, 152, -1, -1], [158, -1, -1, -1, -1, -1, -1, -1, -1, -1, -1, -1, -1, -1, -1, -1, -1, -1, -1, -1, -1, -1, -1, -1, -1, -1, -1, -1, -1, -1, -1, -1]], {'<EOS>': 0, 'from:': 1, 'daveka@microsoft': 2, 'com': 3, '(dave': 4, 'kappl)subject:': 5, 're:': 6, 'abyss--breathing': 7, 'fluidsorganization:': 8, 'microsoft': 9, 'corp': 10, 'distribution:': 11, 'usalines:': 12, '26in': 13, 'article': 14, '<1r8esd$lrh@agate': 15, 'berkeley': 16, 'edu>': 17, 'isaackuo@skippy': 18, 'edu': 19, 'wrote:>': 20, 'are': 21, 'breathable': 22, 'liquids': 23, 'possible?>': 24, '>': 25, 'i': 26, 'remember': 27, 'seeing': 28, 'an': 29, 'old': 30, 'nova': 31, 'or': 32, 'the': 33, 'nature': 34, 'of': 35, 'things': 36, 'where': 37, 'this': 38, 'idea': 39, 'was>': 40, 'touched': 41, 'upon': 42, '(it': 43, 'might': 44, 'have': 45, 'been': 46, 'some': 47, 'other': 48, 'tv': 49, 'show)': 50, 'if': 51, 'nothing': 52, 'else,': 53, 'know>': 54, 'such': 55, 'possible': 56, 'because': 57, 'they': 58, 'showed': 59, 'a': 60, 'large': 61, 'glass': 62, 'full': 63, 'liquid,': 64, 'and': 65, 'put': 66, 'white': 67, 'mouse': 68, '(rat?)': 69, 'in>': 70, 'it': 71, 'since': 72, 'liquid': 73, 'was': 74, 'not': 75, 'dense,': 76, 'would': 77, 'float,': 78, 'so': 79, 'held': 80, 'down>': 81, 'by': 82, 'tongs': 83, 'clutching': 84, 'its': 85, 'tail': 86, 'thing': 87, 'struggled': 88, 'quite': 89, 'bit,': 90, 'but': 91, 'certainly': 92, 'down': 93, 'long': 94, 'enough': 95, 'that': 96, 'breathing': 97, 'never>': 98, 'did': 99, 'slow': 100, 'in': 101, 'frantic': 102, 'attempts': 103, 'to': 104, 'swim': 105, 'top': 106, 'now,': 107, 'may': 108, 'most': 109, 'humane': 110, 'demonstrations,': 111, 'certainly>': 112, 'shows': 113, 'can': 114, 'be': 115, 'made': 116, '--': 117, '*isaac': 118, 'kuo': 119, '(isaackuo@math': 120, 'edu)*': 121, '___>': 122, '**': 123, '_____/_o_\\\\_____>': 124, '*twinkle,': 125, 'twinkle,': 126, 'little': 127, 'sig,*(==(/_______\\\\)==)>': 128, '*keep': 129, 'less': 130, 'than': 131, '5': 132, 'lines': 133, 'big': 134, '*': 135, '\\\\==\\\\/': 136, '\\\\/==/this': 137, 'on': 138, '\"that\\'s': 139, 'incredible\"': 140, 'several': 141, 'years': 142, 'ago': 143, 'volume': 144, 'liquidthe': 145, 'rat': 146, 'had': 147, 'breath': 148, 'considerably': 149, 'smaller': 150, 'what': 151, 'human': 152, 'haveto': 153, 'breath,': 154, 'maybe': 155, 'is': 156, 'for': 157, 'davetherave': 158}, 32)\n"
     ]
    }
   ],
   "source": [
    "i = 1\n",
    "print(test.data[i])\n",
    "print(analyzer(test.data[i]))"
   ]
  },
  {
   "cell_type": "code",
   "execution_count": null,
   "metadata": {},
   "outputs": [],
   "source": []
  },
  {
   "cell_type": "code",
   "execution_count": null,
   "metadata": {},
   "outputs": [],
   "source": []
  }
 ],
 "metadata": {
  "kernelspec": {
   "display_name": "Python 3",
   "language": "python",
   "name": "python3"
  },
  "language_info": {
   "codemirror_mode": {
    "name": "ipython",
    "version": 3
   },
   "file_extension": ".py",
   "mimetype": "text/x-python",
   "name": "python",
   "nbconvert_exporter": "python",
   "pygments_lexer": "ipython3",
   "version": "3.6.3"
  }
 },
 "nbformat": 4,
 "nbformat_minor": 2
}
