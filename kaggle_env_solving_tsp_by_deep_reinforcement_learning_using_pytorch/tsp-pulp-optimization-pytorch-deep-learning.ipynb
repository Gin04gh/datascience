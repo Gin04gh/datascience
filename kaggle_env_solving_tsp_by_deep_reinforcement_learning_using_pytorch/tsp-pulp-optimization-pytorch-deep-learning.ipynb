{
 "cells": [
  {
   "cell_type": "markdown",
   "metadata": {
    "papermill": {
     "duration": 0.015482,
     "end_time": "2021-01-23T09:25:03.988419",
     "exception": false,
     "start_time": "2021-01-23T09:25:03.972937",
     "status": "completed"
    },
    "tags": []
   },
   "source": [
    "### This notebook is the tutorial that comparison of solving TSP using MIP by PuLP and Deep Reinforcement Learning by PyTorch."
   ]
  },
  {
   "cell_type": "code",
   "execution_count": 1,
   "metadata": {
    "_cell_guid": "b1076dfc-b9ad-4769-8c92-a6c4dae69d19",
    "_uuid": "8f2839f25d086af736a60e9eeb907d3b93b6e0e5",
    "papermill": {
     "duration": 0.788142,
     "end_time": "2021-01-23T09:25:04.791270",
     "exception": false,
     "start_time": "2021-01-23T09:25:04.003128",
     "status": "completed"
    },
    "tags": []
   },
   "outputs": [],
   "source": [
    "import itertools\n",
    "\n",
    "import numpy as np\n",
    "import pandas as pd\n",
    "from scipy.spatial import distance_matrix\n",
    "import matplotlib\n",
    "import matplotlib.pylab as plt\n",
    "import seaborn as sns\n",
    "\n",
    "import warnings\n",
    "warnings.filterwarnings(\"ignore\")"
   ]
  },
  {
   "cell_type": "markdown",
   "metadata": {
    "papermill": {
     "duration": 0.014488,
     "end_time": "2021-01-23T09:25:04.821160",
     "exception": false,
     "start_time": "2021-01-23T09:25:04.806672",
     "status": "completed"
    },
    "tags": []
   },
   "source": [
    "## Traveling Salesman Problem; TSP"
   ]
  },
  {
   "cell_type": "code",
   "execution_count": 2,
   "metadata": {
    "papermill": {
     "duration": 0.041589,
     "end_time": "2021-01-23T09:25:04.877656",
     "exception": false,
     "start_time": "2021-01-23T09:25:04.836067",
     "status": "completed"
    },
    "tags": []
   },
   "outputs": [
    {
     "data": {
      "text/html": [
       "<div>\n",
       "<style scoped>\n",
       "    .dataframe tbody tr th:only-of-type {\n",
       "        vertical-align: middle;\n",
       "    }\n",
       "\n",
       "    .dataframe tbody tr th {\n",
       "        vertical-align: top;\n",
       "    }\n",
       "\n",
       "    .dataframe thead th {\n",
       "        text-align: right;\n",
       "    }\n",
       "</style>\n",
       "<table border=\"1\" class=\"dataframe\">\n",
       "  <thead>\n",
       "    <tr style=\"text-align: right;\">\n",
       "      <th></th>\n",
       "      <th>x</th>\n",
       "      <th>y</th>\n",
       "    </tr>\n",
       "  </thead>\n",
       "  <tbody>\n",
       "    <tr>\n",
       "      <th>0</th>\n",
       "      <td>0</td>\n",
       "      <td>0</td>\n",
       "    </tr>\n",
       "    <tr>\n",
       "      <th>1</th>\n",
       "      <td>13</td>\n",
       "      <td>95</td>\n",
       "    </tr>\n",
       "    <tr>\n",
       "      <th>2</th>\n",
       "      <td>78</td>\n",
       "      <td>9</td>\n",
       "    </tr>\n",
       "    <tr>\n",
       "      <th>3</th>\n",
       "      <td>75</td>\n",
       "      <td>14</td>\n",
       "    </tr>\n",
       "    <tr>\n",
       "      <th>4</th>\n",
       "      <td>37</td>\n",
       "      <td>3</td>\n",
       "    </tr>\n",
       "    <tr>\n",
       "      <th>5</th>\n",
       "      <td>1</td>\n",
       "      <td>19</td>\n",
       "    </tr>\n",
       "    <tr>\n",
       "      <th>6</th>\n",
       "      <td>10</td>\n",
       "      <td>89</td>\n",
       "    </tr>\n",
       "    <tr>\n",
       "      <th>7</th>\n",
       "      <td>67</td>\n",
       "      <td>40</td>\n",
       "    </tr>\n",
       "    <tr>\n",
       "      <th>8</th>\n",
       "      <td>32</td>\n",
       "      <td>74</td>\n",
       "    </tr>\n",
       "    <tr>\n",
       "      <th>9</th>\n",
       "      <td>59</td>\n",
       "      <td>99</td>\n",
       "    </tr>\n",
       "    <tr>\n",
       "      <th>10</th>\n",
       "      <td>9</td>\n",
       "      <td>69</td>\n",
       "    </tr>\n",
       "    <tr>\n",
       "      <th>11</th>\n",
       "      <td>34</td>\n",
       "      <td>41</td>\n",
       "    </tr>\n",
       "    <tr>\n",
       "      <th>12</th>\n",
       "      <td>28</td>\n",
       "      <td>85</td>\n",
       "    </tr>\n",
       "    <tr>\n",
       "      <th>13</th>\n",
       "      <td>26</td>\n",
       "      <td>94</td>\n",
       "    </tr>\n",
       "    <tr>\n",
       "      <th>14</th>\n",
       "      <td>73</td>\n",
       "      <td>89</td>\n",
       "    </tr>\n",
       "  </tbody>\n",
       "</table>\n",
       "</div>"
      ],
      "text/plain": [
       "     x   y\n",
       "0    0   0\n",
       "1   13  95\n",
       "2   78   9\n",
       "3   75  14\n",
       "4   37   3\n",
       "5    1  19\n",
       "6   10  89\n",
       "7   67  40\n",
       "8   32  74\n",
       "9   59  99\n",
       "10   9  69\n",
       "11  34  41\n",
       "12  28  85\n",
       "13  26  94\n",
       "14  73  89"
      ]
     },
     "execution_count": 2,
     "metadata": {},
     "output_type": "execute_result"
    }
   ],
   "source": [
    "# Define TSP\n",
    "\n",
    "n_customer = 14\n",
    "n_point = n_customer + 1\n",
    "\n",
    "df = pd.DataFrame({\n",
    "    'x': np.random.randint(0, 100, n_point),\n",
    "    'y': np.random.randint(0, 100, n_point),\n",
    "})\n",
    "\n",
    "df.iloc[0]['x'] = 0\n",
    "df.iloc[0]['y'] = 0\n",
    "\n",
    "df"
   ]
  },
  {
   "cell_type": "code",
   "execution_count": 3,
   "metadata": {
    "papermill": {
     "duration": 0.880449,
     "end_time": "2021-01-23T09:25:05.773618",
     "exception": false,
     "start_time": "2021-01-23T09:25:04.893169",
     "status": "completed"
    },
    "tags": []
   },
   "outputs": [
    {
     "data": {
      "image/png": "[encoded data removed]",
      "text/plain": [
       "<Figure size 936x792 with 2 Axes>"
      ]
     },
     "metadata": {
      "needs_background": "light"
     },
     "output_type": "display_data"
    }
   ],
   "source": [
    "# Get the distance matrix\n",
    "\n",
    "distances = pd.DataFrame(distance_matrix(df[['x', 'y']].values, df[['x', 'y']].values), index=df.index, columns=df.index).values\n",
    "\n",
    "fig, ax = plt.subplots(figsize=(13, 11))\n",
    "sns.heatmap(distances, ax=ax, cmap='Blues', annot=True, fmt='.0f', cbar=True, cbar_kws={\"shrink\": .3}, linewidths=.1)\n",
    "plt.title('distance matrix')\n",
    "plt.show()"
   ]
  },
  {
   "cell_type": "code",
   "execution_count": 4,
   "metadata": {
    "papermill": {
     "duration": 0.256933,
     "end_time": "2021-01-23T09:25:06.049446",
     "exception": false,
     "start_time": "2021-01-23T09:25:05.792513",
     "status": "completed"
    },
    "tags": []
   },
   "outputs": [
    {
     "data": {
      "image/png": "[encoded data removed]",
      "text/plain": [
       "<Figure size 360x360 with 1 Axes>"
      ]
     },
     "metadata": {
      "needs_background": "light"
     },
     "output_type": "display_data"
    }
   ],
   "source": [
    "# Check TSP state\n",
    "\n",
    "plt.figure(figsize=(5, 5))\n",
    "\n",
    "# Draw the problem state\n",
    "for i, row in df.iterrows():\n",
    "    if i == 0:\n",
    "        plt.scatter(row['x'], row['y'], c='r')\n",
    "        plt.text(row['x'] + 1, row['y'] + 1, 'depot')\n",
    "    else:\n",
    "        plt.scatter(row['x'], row['y'], c='black')\n",
    "        plt.text(row['x'] + 1, row['y'] + 1, f'{i}')\n",
    "        \n",
    "plt.xlim([-10, 110])\n",
    "plt.ylim([-10, 110])\n",
    "plt.title('points: id')\n",
    "plt.show()"
   ]
  },
  {
   "cell_type": "markdown",
   "metadata": {
    "papermill": {
     "duration": 0.018108,
     "end_time": "2021-01-23T09:25:06.090906",
     "exception": false,
     "start_time": "2021-01-23T09:25:06.072798",
     "status": "completed"
    },
    "tags": []
   },
   "source": [
    "### 1. Solving using Mixed Integer Problem; MIP by PuLP"
   ]
  },
  {
   "cell_type": "code",
   "execution_count": 5,
   "metadata": {
    "papermill": {
     "duration": 15.97408,
     "end_time": "2021-01-23T09:25:22.082615",
     "exception": false,
     "start_time": "2021-01-23T09:25:06.108535",
     "status": "completed"
    },
    "tags": []
   },
   "outputs": [
    {
     "name": "stdout",
     "output_type": "stream",
     "text": [
      "Collecting pulp\r\n",
      "  Downloading PuLP-2.4-py3-none-any.whl (40.6 MB)\r\n",
      "\u001b[K     |████████████████████████████████| 40.6 MB 4.4 MB/s \r\n",
      "\u001b[?25hCollecting amply>=0.1.2\r\n",
      "  Downloading amply-0.1.4-py3-none-any.whl (16 kB)\r\n",
      "Requirement already satisfied: pyparsing in /opt/conda/lib/python3.7/site-packages (from amply>=0.1.2->pulp) (2.4.6)\r\n",
      "Requirement already satisfied: docutils>=0.3 in /opt/conda/lib/python3.7/site-packages (from amply>=0.1.2->pulp) (0.15.2)\r\n",
      "Installing collected packages: amply, pulp\r\n",
      "Successfully installed amply-0.1.4 pulp-2.4\r\n"
     ]
    }
   ],
   "source": [
    "!pip install pulp"
   ]
  },
  {
   "cell_type": "code",
   "execution_count": 6,
   "metadata": {
    "papermill": {
     "duration": 0.117636,
     "end_time": "2021-01-23T09:25:22.310335",
     "exception": false,
     "start_time": "2021-01-23T09:25:22.192699",
     "status": "completed"
    },
    "tags": []
   },
   "outputs": [],
   "source": [
    "import pulp"
   ]
  },
  {
   "cell_type": "code",
   "execution_count": 7,
   "metadata": {
    "papermill": {
     "duration": 2.399702,
     "end_time": "2021-01-23T09:25:24.826055",
     "exception": false,
     "start_time": "2021-01-23T09:25:22.426353",
     "status": "completed"
    },
    "tags": []
   },
   "outputs": [
    {
     "name": "stdout",
     "output_type": "stream",
     "text": [
      "CPU times: user 24.4 ms, sys: 4.96 ms, total: 29.3 ms\n",
      "Wall time: 2.24 s\n"
     ]
    },
    {
     "data": {
      "text/plain": [
       "(1, 'Optimal', 371.8792316020913)"
      ]
     },
     "execution_count": 7,
     "metadata": {},
     "output_type": "execute_result"
    }
   ],
   "source": [
    "%%time\n",
    "\n",
    "# Set the problem\n",
    "problem = pulp.LpProblem('tsp_mip', pulp.LpMinimize)\n",
    "\n",
    "# Set valiables\n",
    "x = pulp.LpVariable.dicts('x', ((i, j) for i in range(n_point) for j in range(n_point)), lowBound=0, upBound=1, cat='Binary')\n",
    "# We need to keep track of the order in the tour to eliminate the possibility of subtours\n",
    "u = pulp.LpVariable.dicts('u', (i for i in range(n_point)), lowBound=1, upBound=n_point, cat='Integer')\n",
    "\n",
    "# Set objective function\n",
    "problem += pulp.lpSum(distances[i][j] * x[i, j] for i in range(n_point) for j in range(n_point))\n",
    "\n",
    "# Set constrains\n",
    "for i in range(n_point):\n",
    "    problem += x[i, i] == 0\n",
    "\n",
    "for i in range(n_point):\n",
    "    problem += pulp.lpSum(x[i, j] for j in range(n_point)) == 1\n",
    "    problem += pulp.lpSum(x[j, i] for j in range(n_point)) == 1\n",
    "\n",
    "# Eliminate subtour\n",
    "for i in range(n_point):\n",
    "    for j in range(n_point):\n",
    "        if i != j and (i != 0 and j != 0):\n",
    "            problem += u[i] - u[j] <= n_point * (1 - x[i, j]) - 1\n",
    "            \n",
    "# Solve the problem\n",
    "status = problem.solve()\n",
    "\n",
    "# output status, value of objective function\n",
    "status, pulp.LpStatus[status], pulp.value(problem.objective)"
   ]
  },
  {
   "cell_type": "code",
   "execution_count": 8,
   "metadata": {
    "papermill": {
     "duration": 0.440767,
     "end_time": "2021-01-23T09:25:25.333006",
     "exception": false,
     "start_time": "2021-01-23T09:25:24.892239",
     "status": "completed"
    },
    "tags": []
   },
   "outputs": [
    {
     "data": {
      "image/png": "[encoded data removed]",
      "text/plain": [
       "<Figure size 360x360 with 1 Axes>"
      ]
     },
     "metadata": {
      "needs_background": "light"
     },
     "output_type": "display_data"
    }
   ],
   "source": [
    "# Check TSP state and optimized route\n",
    "\n",
    "plt.figure(figsize=(5, 5))\n",
    "\n",
    "# Draw the problem state\n",
    "for i, row in df.iterrows():\n",
    "    if i == 0:\n",
    "        plt.scatter(row['x'], row['y'], c='r')\n",
    "        plt.text(row['x'] + 1, row['y'] + 1, 'depot')\n",
    "        \n",
    "    else:\n",
    "        plt.scatter(row['x'], row['y'], c='black')\n",
    "        plt.text(row['x'] + 1, row['y'] + 1, f'{i}')\n",
    "        \n",
    "plt.xlim([-10, 110])\n",
    "plt.ylim([-10, 110])\n",
    "plt.title('points: id')\n",
    "\n",
    "# Draw the optimal route\n",
    "routes = [(i, j) for i in range(n_point) for j in range(n_point) if pulp.value(x[i, j]) == 1]\n",
    "arrowprops = dict(arrowstyle='->', connectionstyle='arc3', edgecolor='blue')\n",
    "for i, j in routes:\n",
    "    plt.annotate('', xy=[df.iloc[j]['x'], df.iloc[j]['y']], xytext=[df.iloc[i]['x'], df.iloc[i]['y']], arrowprops=arrowprops)\n",
    "                \n",
    "plt.show()"
   ]
  },
  {
   "cell_type": "markdown",
   "metadata": {
    "papermill": {
     "duration": 0.061702,
     "end_time": "2021-01-23T09:25:25.458179",
     "exception": false,
     "start_time": "2021-01-23T09:25:25.396477",
     "status": "completed"
    },
    "tags": []
   },
   "source": [
    "### 2. Solving using Deep Reinforcement Learning by PyTorch\n",
    "\n",
    "### Use the following deep learning model and deep reinforcement learning architecture\n",
    "\n",
    "* <i>Pointer Networks</i>: https://arxiv.org/abs/1506.03134\n",
    "* <i>Neural Combinatorial Optimization with Reinforcement Learning</i>: https://arxiv.org/abs/1611.09940"
   ]
  },
  {
   "cell_type": "code",
   "execution_count": 9,
   "metadata": {
    "papermill": {
     "duration": 1.513682,
     "end_time": "2021-01-23T09:25:27.034039",
     "exception": false,
     "start_time": "2021-01-23T09:25:25.520357",
     "status": "completed"
    },
    "tags": []
   },
   "outputs": [
    {
     "data": {
      "text/plain": [
       "('1.4.0', True)"
      ]
     },
     "execution_count": 9,
     "metadata": {},
     "output_type": "execute_result"
    }
   ],
   "source": [
    "import math\n",
    "\n",
    "import torch\n",
    "import torch.nn as nn\n",
    "import torch.optim as optim\n",
    "import torch.autograd as autograd\n",
    "import torch.nn.functional as F\n",
    "from torch.autograd import Variable\n",
    "from torch.utils.data import Dataset, DataLoader\n",
    "from tqdm.notebook import tqdm\n",
    "\n",
    "use_cuda = torch.cuda.is_available()\n",
    "\n",
    "torch.__version__, use_cuda"
   ]
  },
  {
   "cell_type": "code",
   "execution_count": 10,
   "metadata": {
    "papermill": {
     "duration": 0.071941,
     "end_time": "2021-01-23T09:25:27.167893",
     "exception": false,
     "start_time": "2021-01-23T09:25:27.095952",
     "status": "completed"
    },
    "tags": []
   },
   "outputs": [],
   "source": [
    "def reward(sample_solution, use_cuda=use_cuda):\n",
    "    batch_size = sample_solution[0].size(0)\n",
    "    n = len(sample_solution) # sample_solution is seq_len of [batch_size]\n",
    "    tour_len = Variable(torch.zeros([batch_size])).cuda() if use_cuda else Variable(torch.zeros([batch_size]))\n",
    "    for i in range(n - 1):\n",
    "        tour_len += torch.norm(sample_solution[i] - sample_solution[i + 1], dim=1)\n",
    "    tour_len += torch.norm(sample_solution[n - 1] - sample_solution[0], dim=1)\n",
    "\n",
    "    return tour_len"
   ]
  },
  {
   "cell_type": "code",
   "execution_count": 11,
   "metadata": {
    "papermill": {
     "duration": 0.082036,
     "end_time": "2021-01-23T09:25:27.311313",
     "exception": false,
     "start_time": "2021-01-23T09:25:27.229277",
     "status": "completed"
    },
    "tags": []
   },
   "outputs": [],
   "source": [
    "class Attention(nn.Module):\n",
    "    def __init__(self, hidden_size, use_tanh=False, C=10, use_cuda=use_cuda):\n",
    "        super(Attention, self).__init__()\n",
    "        self.use_tanh = use_tanh\n",
    "        self.C = C\n",
    "\n",
    "        # Bahdanau algo\n",
    "        self.W_query = nn.Linear(hidden_size, hidden_size)\n",
    "        self.W_ref   = nn.Conv1d(hidden_size, hidden_size, 1, 1)\n",
    "\n",
    "        V = torch.cuda.FloatTensor(hidden_size) if use_cuda else torch.FloatTensor(hidden_size)\n",
    "        self.V = nn.Parameter(V)\n",
    "        self.V.data.uniform_(-(1. / math.sqrt(hidden_size)) , 1. / math.sqrt(hidden_size))\n",
    "        \n",
    "    def forward(self, query, ref):\n",
    "        # query = [batch_size, hidden_size]\n",
    "        # ref   = [batch_size, seq_len, hidden_size]\n",
    "        batch_size = ref.size(0)\n",
    "        seq_len    = ref.size(1)\n",
    "        \n",
    "        # Bahdanau algo\n",
    "        ref = ref.permute(0, 2, 1)\n",
    "        query = self.W_query(query).unsqueeze(2)                           # [batch_size x hidden_size x           1]\n",
    "        ref   = self.W_ref(ref)                                            # [batch_size x hidden_size x     seq_len] \n",
    "        expanded_query = query.repeat(1, 1, seq_len)                       # [batch_size x hidden_size x     seq_len]\n",
    "        V = self.V.unsqueeze(0).unsqueeze(0).repeat(batch_size, 1, 1)      # [batch_size x           1 x hidden_size]\n",
    "        logits = torch.bmm(V, torch.tanh(expanded_query + ref)).squeeze(1)\n",
    "        \n",
    "        if self.use_tanh:\n",
    "            logits = self.C * torch.tanh(logits)\n",
    "            \n",
    "        return ref, logits"
   ]
  },
  {
   "cell_type": "code",
   "execution_count": 12,
   "metadata": {
    "papermill": {
     "duration": 0.077926,
     "end_time": "2021-01-23T09:25:27.458543",
     "exception": false,
     "start_time": "2021-01-23T09:25:27.380617",
     "status": "completed"
    },
    "tags": []
   },
   "outputs": [],
   "source": [
    "class GraphEmbedding(nn.Module):\n",
    "    def __init__(self, input_size, embedding_size, use_cuda=use_cuda):\n",
    "        super(GraphEmbedding, self).__init__()\n",
    "        self.embedding_size = embedding_size\n",
    "        self.use_cuda = use_cuda\n",
    "        \n",
    "        self.embedding = nn.Parameter(torch.FloatTensor(input_size, embedding_size)) \n",
    "        self.embedding.data.uniform_(-(1. / math.sqrt(embedding_size)), 1. / math.sqrt(embedding_size))\n",
    "        \n",
    "    def forward(self, inputs):\n",
    "        # inputs = [batch_size, input_size, seq_len]\n",
    "        batch_size = inputs.size(0)\n",
    "        seq_len    = inputs.size(2)\n",
    "        embedding = self.embedding.repeat(batch_size, 1, 1)  \n",
    "        embedded = []\n",
    "        inputs = inputs.unsqueeze(1)\n",
    "        for i in range(seq_len):\n",
    "            embedded.append(torch.bmm(inputs[:, :, :, i].float(), embedding))\n",
    "        embedded = torch.cat(embedded, 1)\n",
    "        return embedded"
   ]
  },
  {
   "cell_type": "code",
   "execution_count": 13,
   "metadata": {
    "papermill": {
     "duration": 0.087601,
     "end_time": "2021-01-23T09:25:27.610652",
     "exception": false,
     "start_time": "2021-01-23T09:25:27.523051",
     "status": "completed"
    },
    "tags": []
   },
   "outputs": [],
   "source": [
    "class PointerNet(nn.Module):\n",
    "    def __init__(self, embedding_size, hidden_size, seq_len, n_glimpses, tanh_exploration, use_tanh, use_cuda=use_cuda):\n",
    "        super(PointerNet, self).__init__()\n",
    "        self.embedding_size = embedding_size\n",
    "        self.hidden_size    = hidden_size\n",
    "        self.n_glimpses     = n_glimpses\n",
    "        self.seq_len        = seq_len\n",
    "        self.use_cuda       = use_cuda\n",
    "        \n",
    "        self.embedding = GraphEmbedding(2, embedding_size, use_cuda=use_cuda)\n",
    "        self.encoder   = nn.LSTM(embedding_size, hidden_size, batch_first=True)\n",
    "        self.decoder   = nn.LSTM(embedding_size, hidden_size, batch_first=True)\n",
    "        self.pointer   = Attention(hidden_size, use_tanh=use_tanh, C=tanh_exploration, use_cuda=use_cuda)\n",
    "        self.glimpse   = Attention(hidden_size, use_tanh=False, use_cuda=use_cuda)\n",
    "        \n",
    "        self.decoder_start_input = nn.Parameter(torch.FloatTensor(embedding_size))\n",
    "        self.decoder_start_input.data.uniform_(-(1. / math.sqrt(embedding_size)), 1. / math.sqrt(embedding_size))\n",
    "        \n",
    "    def apply_mask_to_logits(self, logits, mask, idxs):\n",
    "        batch_size = logits.size(0)\n",
    "        clone_mask = mask.clone()\n",
    "\n",
    "        if idxs is not None:\n",
    "            clone_mask[[i for i in range(batch_size)], idxs.data] = 1\n",
    "            logits[clone_mask] = -np.inf\n",
    "        return logits, clone_mask\n",
    "            \n",
    "    def forward(self, inputs):\n",
    "        # inputs = [batch_size, 1, seq_len]\n",
    "        batch_size = inputs.size(0)\n",
    "        seq_len    = inputs.size(2)\n",
    "        \n",
    "        embedded = self.embedding(inputs)\n",
    "        encoder_outputs, (hidden, context) = self.encoder(embedded)\n",
    "        \n",
    "        prev_probs    = []\n",
    "        prev_idxs     = []\n",
    "        mask          = torch.zeros(batch_size, seq_len).byte().cuda() if self.use_cuda else torch.zeros(batch_size, seq_len).byte()        \n",
    "        idxs          = None\n",
    "        decoder_input = self.decoder_start_input.unsqueeze(0).repeat(batch_size, 1)\n",
    "        \n",
    "        for i in range(seq_len):\n",
    "            \n",
    "            _, (hidden, context) = self.decoder(decoder_input.unsqueeze(1), (hidden, context))\n",
    "            \n",
    "            query = hidden.squeeze(0)\n",
    "            for i in range(self.n_glimpses):\n",
    "                ref, logits = self.glimpse(query, encoder_outputs)\n",
    "                logits, mask = self.apply_mask_to_logits(logits, mask, idxs)\n",
    "                query = torch.bmm(ref, F.softmax(logits).unsqueeze(2)).squeeze(2) \n",
    "                \n",
    "            _, logits = self.pointer(query, encoder_outputs)\n",
    "            logits, mask = self.apply_mask_to_logits(logits, mask, idxs)\n",
    "            probs = F.softmax(logits)\n",
    "            \n",
    "            idxs = probs.multinomial(num_samples=1).squeeze(1)\n",
    "            for old_idxs in prev_idxs:\n",
    "                if old_idxs.eq(idxs).data.any():\n",
    "                    idxs = probs.multinomial(num_samples=1).squeeze(1)\n",
    "                    break\n",
    "            decoder_input = embedded[[i for i in range(batch_size)], idxs.data, :] \n",
    "            \n",
    "            prev_probs.append(probs)\n",
    "            prev_idxs.append(idxs)\n",
    "            \n",
    "        return prev_probs, prev_idxs"
   ]
  },
  {
   "cell_type": "code",
   "execution_count": 14,
   "metadata": {
    "papermill": {
     "duration": 0.07465,
     "end_time": "2021-01-23T09:25:27.746872",
     "exception": false,
     "start_time": "2021-01-23T09:25:27.672222",
     "status": "completed"
    },
    "tags": []
   },
   "outputs": [],
   "source": [
    "class NeuralCombinatorialOptimization(nn.Module):\n",
    "    def __init__(self, embedding_size, hidden_size, seq_len, n_glimpses, tanh_exploration, use_tanh, reward, use_cuda=use_cuda):\n",
    "        super(NeuralCombinatorialOptimization, self).__init__()\n",
    "        self.reward   = reward\n",
    "        self.use_cuda = use_cuda\n",
    "        \n",
    "        self.actor = PointerNet(embedding_size, hidden_size, seq_len, n_glimpses, tanh_exploration, use_tanh, use_cuda)\n",
    "\n",
    "    def forward(self, inputs):\n",
    "        # inputs = [batch_size, input_size, seq_len]\n",
    "        batch_size = inputs.size(0)\n",
    "        input_size = inputs.size(1)\n",
    "        seq_len    = inputs.size(2)\n",
    "        \n",
    "        probs, action_idxs = self.actor(inputs)\n",
    "       \n",
    "        actions = []\n",
    "        inputs = inputs.transpose(1, 2)\n",
    "        for action_id in action_idxs:\n",
    "            actions.append(inputs[[x for x in range(batch_size)], action_id.data, :])\n",
    "            \n",
    "        action_probs = []    \n",
    "        for prob, action_id in zip(probs, action_idxs):\n",
    "            action_probs.append(prob[[x for x in range(batch_size)], action_id.data])\n",
    "\n",
    "        R = self.reward(actions, self.use_cuda)\n",
    "        \n",
    "        return R, action_probs, actions, action_idxs"
   ]
  },
  {
   "cell_type": "code",
   "execution_count": 15,
   "metadata": {
    "papermill": {
     "duration": 0.081875,
     "end_time": "2021-01-23T09:25:27.902129",
     "exception": false,
     "start_time": "2021-01-23T09:25:27.820254",
     "status": "completed"
    },
    "tags": []
   },
   "outputs": [],
   "source": [
    "class Trainer:\n",
    "    def __init__(self, model, train_data, max_grad_norm=2., use_cuda=use_cuda):\n",
    "        self.model         = model\n",
    "        self.use_cuda      = use_cuda\n",
    "        \n",
    "        self.train_data    = train_data.unsqueeze(0)\n",
    "        self.train_data    = Variable(self.train_data).cuda() if use_cuda else Variable(self.train_data)\n",
    "\n",
    "        self.actor_optim   = optim.Adam(model.actor.parameters(), lr=1e-4)\n",
    "        self.max_grad_norm = max_grad_norm\n",
    "        \n",
    "        self.train_loss = []\n",
    "        self.train_tour = []\n",
    "        self.epochs     = 0\n",
    "        \n",
    "    def train(self, n_epochs):\n",
    "        critic_exp_mvg_avg = torch.zeros(1).cuda() if self.use_cuda else torch.zeros(1)\n",
    "        \n",
    "        self.model.train() # Set train mode\n",
    "        iterator = tqdm(range(n_epochs))\n",
    "        \n",
    "        for epoch in iterator:\n",
    "            iterator.set_description(f'epoch {epoch + 1}/{n_epochs}')\n",
    "            \n",
    "            R, probs, actions, actions_idxs = self.model(self.train_data)\n",
    "\n",
    "            critic_exp_mvg_avg = (critic_exp_mvg_avg * beta) + ((1. - beta) * R.mean())\n",
    "            advantage = R - critic_exp_mvg_avg\n",
    "\n",
    "            logprobs = 0\n",
    "            for prob in probs: \n",
    "                logprob = torch.log(prob)\n",
    "                logprobs += logprob\n",
    "            logprobs[logprobs < -1000] = 0.  \n",
    "\n",
    "            reinforce = advantage * logprobs\n",
    "            actor_loss = reinforce.mean()\n",
    "\n",
    "            self.actor_optim.zero_grad()\n",
    "            actor_loss.backward()\n",
    "            torch.nn.utils.clip_grad_norm_(self.model.actor.parameters(), float(self.max_grad_norm), norm_type=2)\n",
    "\n",
    "            self.actor_optim.step()\n",
    "            critic_exp_mvg_avg = critic_exp_mvg_avg.detach()\n",
    "\n",
    "            l = float(actor_loss.data)\n",
    "            r = float(R.mean().data)\n",
    "            self.train_loss.append(l)\n",
    "            self.train_tour.append(r)\n",
    "            self.epochs += 1\n",
    "            \n",
    "            iterator.set_postfix(loss='{}'.format(l), reward='{}'.format(r))\n",
    "                    \n",
    "        self.model.eval() # Set not train mode\n",
    "            \n",
    "    def predict(self):\n",
    "        R, probs, actions, actions_idxs = self.model(self.train_data)\n",
    "        return R, probs, actions, actions_idxs"
   ]
  },
  {
   "cell_type": "code",
   "execution_count": 16,
   "metadata": {
    "papermill": {
     "duration": 0.06904,
     "end_time": "2021-01-23T09:25:28.032300",
     "exception": false,
     "start_time": "2021-01-23T09:25:27.963260",
     "status": "completed"
    },
    "tags": []
   },
   "outputs": [],
   "source": [
    "# Set hyper parameters\n",
    "\n",
    "embedding_size   = 128\n",
    "hidden_size      = 128\n",
    "n_glimpses       = 1\n",
    "tanh_exploration = 10\n",
    "use_tanh         = True\n",
    "\n",
    "beta             = 0.99\n",
    "max_grad_norm    = 2."
   ]
  },
  {
   "cell_type": "code",
   "execution_count": 17,
   "metadata": {
    "papermill": {
     "duration": 3.835067,
     "end_time": "2021-01-23T09:25:31.928690",
     "exception": false,
     "start_time": "2021-01-23T09:25:28.093623",
     "status": "completed"
    },
    "tags": []
   },
   "outputs": [],
   "source": [
    "# Define the model\n",
    "\n",
    "model = NeuralCombinatorialOptimization(embedding_size, hidden_size, n_point, n_glimpses, tanh_exploration, use_tanh, reward, use_cuda=use_cuda)\n",
    "\n",
    "if use_cuda:\n",
    "    model = model.cuda()"
   ]
  },
  {
   "cell_type": "code",
   "execution_count": 18,
   "metadata": {
    "papermill": {
     "duration": 0.075115,
     "end_time": "2021-01-23T09:25:32.068121",
     "exception": false,
     "start_time": "2021-01-23T09:25:31.993006",
     "status": "completed"
    },
    "tags": []
   },
   "outputs": [],
   "source": [
    "train_data = torch.tensor(df.values.transpose(), dtype=torch.float32)\n",
    "trainer = Trainer(model, train_data)"
   ]
  },
  {
   "cell_type": "code",
   "execution_count": 19,
   "metadata": {
    "papermill": {
     "duration": 93.865746,
     "end_time": "2021-01-23T09:27:05.997891",
     "exception": false,
     "start_time": "2021-01-23T09:25:32.132145",
     "status": "completed"
    },
    "tags": []
   },
   "outputs": [
    {
     "data": {
      "application/vnd.jupyter.widget-view+json": {
       "model_id": "ea9cf84f355e4c0bba164fcb494a1b04",
       "version_major": 2,
       "version_minor": 0
      },
      "text/plain": [
       "HBox(children=(FloatProgress(value=0.0, max=1000.0), HTML(value='')))"
      ]
     },
     "metadata": {},
     "output_type": "display_data"
    },
    {
     "name": "stdout",
     "output_type": "stream",
     "text": [
      "\n",
      "CPU times: user 1min 25s, sys: 2.21 s, total: 1min 27s\n",
      "Wall time: 1min 32s\n"
     ]
    }
   ],
   "source": [
    "%%time\n",
    "\n",
    "trainer.train(n_epochs=1000)"
   ]
  },
  {
   "cell_type": "code",
   "execution_count": 20,
   "metadata": {
    "papermill": {
     "duration": 0.322965,
     "end_time": "2021-01-23T09:27:06.388629",
     "exception": false,
     "start_time": "2021-01-23T09:27:06.065664",
     "status": "completed"
    },
    "tags": []
   },
   "outputs": [
    {
     "data": {
      "image/png": "[encoded data removed]",
      "text/plain": [
       "<Figure size 432x288 with 2 Axes>"
      ]
     },
     "metadata": {
      "needs_background": "light"
     },
     "output_type": "display_data"
    }
   ],
   "source": [
    "fig, ax1 = plt.subplots()\n",
    "ax2 = ax1.twinx()\n",
    "\n",
    "ax1.plot(trainer.train_tour, color='skyblue')\n",
    "ax1.set_ylabel('reward')\n",
    "\n",
    "ax2.plot(trainer.train_loss, color='orange')\n",
    "ax2.set_ylabel('loss')\n",
    "\n",
    "ax1.set_xlabel('epoch')\n",
    "\n",
    "fig.tight_layout()\n",
    "plt.title('reward and loss')\n",
    "plt.show()"
   ]
  },
  {
   "cell_type": "code",
   "execution_count": 21,
   "metadata": {
    "papermill": {
     "duration": 0.109826,
     "end_time": "2021-01-23T09:27:06.567319",
     "exception": false,
     "start_time": "2021-01-23T09:27:06.457493",
     "status": "completed"
    },
    "tags": []
   },
   "outputs": [],
   "source": [
    "# Predict using trained model\n",
    "R, probs, actions, actions_idxs = trainer.predict()"
   ]
  },
  {
   "cell_type": "code",
   "execution_count": 22,
   "metadata": {
    "papermill": {
     "duration": 0.396536,
     "end_time": "2021-01-23T09:27:07.033201",
     "exception": false,
     "start_time": "2021-01-23T09:27:06.636665",
     "status": "completed"
    },
    "tags": []
   },
   "outputs": [
    {
     "data": {
      "image/png": "[encoded data removed]",
      "text/plain": [
       "<Figure size 360x360 with 1 Axes>"
      ]
     },
     "metadata": {
      "needs_background": "light"
     },
     "output_type": "display_data"
    }
   ],
   "source": [
    "plt.figure(figsize=(5, 5))\n",
    "\n",
    "# Draw the problem state\n",
    "for i, row in df.iterrows():\n",
    "    if i == 0:\n",
    "        plt.scatter(row['x'], row['y'], c='r')\n",
    "        plt.text(row['x'] + 1, row['y'] + 1, 'depot')\n",
    "        \n",
    "    else:\n",
    "        plt.scatter(row['x'], row['y'], c='black')\n",
    "        plt.text(row['x'] + 1, row['y'] + 1, f'{i}')\n",
    "        \n",
    "plt.xlim([-10, 110])\n",
    "plt.ylim([-10, 110])\n",
    "plt.title('points: id')\n",
    "\n",
    "# Draw the optimal route\n",
    "routes = [int(tensor) for tensor in actions_idxs]\n",
    "routes = [(routes[i-1], routes[i]) for i in range(len(routes))]\n",
    "arrowprops = dict(arrowstyle='->', connectionstyle='arc3', edgecolor='navy')\n",
    "for i, j in routes:\n",
    "    plt.annotate('', xy=[df.iloc[j]['x'], df.iloc[j]['y']], xytext=[df.iloc[i]['x'], df.iloc[i]['y']], arrowprops=arrowprops)\n",
    "                \n",
    "plt.show()"
   ]
  },
  {
   "cell_type": "markdown",
   "metadata": {
    "papermill": {
     "duration": 0.066646,
     "end_time": "2021-01-23T09:27:07.167053",
     "exception": false,
     "start_time": "2021-01-23T09:27:07.100407",
     "status": "completed"
    },
    "tags": []
   },
   "source": [
    "### Thanks."
   ]
  },
  {
   "cell_type": "code",
   "execution_count": null,
   "metadata": {
    "papermill": {
     "duration": 0.065656,
     "end_time": "2021-01-23T09:27:07.299445",
     "exception": false,
     "start_time": "2021-01-23T09:27:07.233789",
     "status": "completed"
    },
    "tags": []
   },
   "outputs": [],
   "source": []
  }
 ],
 "metadata": {
  "kernelspec": {
   "display_name": "Python 3",
   "language": "python",
   "name": "python3"
  },
  "language_info": {
   "codemirror_mode": {
    "name": "ipython",
    "version": 3
   },
   "file_extension": ".py",
   "mimetype": "text/x-python",
   "name": "python",
   "nbconvert_exporter": "python",
   "pygments_lexer": "ipython3",
   "version": "3.7.6"
  },
  "papermill": {
   "duration": 127.990363,
   "end_time": "2021-01-23T09:27:08.374089",
   "environment_variables": {},
   "exception": null,
   "input_path": "__notebook__.ipynb",
   "output_path": "__notebook__.ipynb",
   "parameters": {},
   "start_time": "2021-01-23T09:25:00.383726",
   "version": "1.2.1"
  },
  "widgets": {
   "application/vnd.jupyter.widget-state+json": {
    "state": {
     "3e343c84dc1a4d378af329889f83afce": {
      "model_module": "@jupyter-widgets/base",
      "model_module_version": "1.2.0",
      "model_name": "LayoutModel",
      "state": {
       "_model_module": "@jupyter-widgets/base",
       "_model_module_version": "1.2.0",
       "_model_name": "LayoutModel",
       "_view_count": null,
       "_view_module": "@jupyter-widgets/base",
       "_view_module_version": "1.2.0",
       "_view_name": "LayoutView",
       "align_content": null,
       "align_items": null,
       "align_self": null,
       "border": null,
       "bottom": null,
       "display": null,
       "flex": null,
       "flex_flow": null,
       "grid_area": null,
       "grid_auto_columns": null,
       "grid_auto_flow": null,
       "grid_auto_rows": null,
       "grid_column": null,
       "grid_gap": null,
       "grid_row": null,
       "grid_template_areas": null,
       "grid_template_columns": null,
       "grid_template_rows": null,
       "height": null,
       "justify_content": null,
       "justify_items": null,
       "left": null,
       "margin": null,
       "max_height": null,
       "max_width": null,
       "min_height": null,
       "min_width": null,
       "object_fit": null,
       "object_position": null,
       "order": null,
       "overflow": null,
       "overflow_x": null,
       "overflow_y": null,
       "padding": null,
       "right": null,
       "top": null,
       "visibility": null,
       "width": null
      }
     },
     "42ffee8a3a5048128d5e93062021af4e": {
      "model_module": "@jupyter-widgets/controls",
      "model_module_version": "1.5.0",
      "model_name": "DescriptionStyleModel",
      "state": {
       "_model_module": "@jupyter-widgets/controls",
       "_model_module_version": "1.5.0",
       "_model_name": "DescriptionStyleModel",
       "_view_count": null,
       "_view_module": "@jupyter-widgets/base",
       "_view_module_version": "1.2.0",
       "_view_name": "StyleView",
       "description_width": ""
      }
     },
     "7ff1b74a99e6462499920fb6be11a44d": {
      "model_module": "@jupyter-widgets/controls",
      "model_module_version": "1.5.0",
      "model_name": "ProgressStyleModel",
      "state": {
       "_model_module": "@jupyter-widgets/controls",
       "_model_module_version": "1.5.0",
       "_model_name": "ProgressStyleModel",
       "_view_count": null,
       "_view_module": "@jupyter-widgets/base",
       "_view_module_version": "1.2.0",
       "_view_name": "StyleView",
       "bar_color": null,
       "description_width": "initial"
      }
     },
     "85c2161af49c45fdabd60fa33036c43d": {
      "model_module": "@jupyter-widgets/base",
      "model_module_version": "1.2.0",
      "model_name": "LayoutModel",
      "state": {
       "_model_module": "@jupyter-widgets/base",
       "_model_module_version": "1.2.0",
       "_model_name": "LayoutModel",
       "_view_count": null,
       "_view_module": "@jupyter-widgets/base",
       "_view_module_version": "1.2.0",
       "_view_name": "LayoutView",
       "align_content": null,
       "align_items": null,
       "align_self": null,
       "border": null,
       "bottom": null,
       "display": null,
       "flex": null,
       "flex_flow": null,
       "grid_area": null,
       "grid_auto_columns": null,
       "grid_auto_flow": null,
       "grid_auto_rows": null,
       "grid_column": null,
       "grid_gap": null,
       "grid_row": null,
       "grid_template_areas": null,
       "grid_template_columns": null,
       "grid_template_rows": null,
       "height": null,
       "justify_content": null,
       "justify_items": null,
       "left": null,
       "margin": null,
       "max_height": null,
       "max_width": null,
       "min_height": null,
       "min_width": null,
       "object_fit": null,
       "object_position": null,
       "order": null,
       "overflow": null,
       "overflow_x": null,
       "overflow_y": null,
       "padding": null,
       "right": null,
       "top": null,
       "visibility": null,
       "width": null
      }
     },
     "95c546ca8e5b42079de7d373f05c6bee": {
      "model_module": "@jupyter-widgets/controls",
      "model_module_version": "1.5.0",
      "model_name": "HTMLModel",
      "state": {
       "_dom_classes": [],
       "_model_module": "@jupyter-widgets/controls",
       "_model_module_version": "1.5.0",
       "_model_name": "HTMLModel",
       "_view_count": null,
       "_view_module": "@jupyter-widgets/controls",
       "_view_module_version": "1.5.0",
       "_view_name": "HTMLView",
       "description": "",
       "description_tooltip": null,
       "layout": "IPY_MODEL_3e343c84dc1a4d378af329889f83afce",
       "placeholder": "​",
       "style": "IPY_MODEL_42ffee8a3a5048128d5e93062021af4e",
       "value": " 1000/1000 [01:32&lt;00:00, 10.80it/s, loss=42.68362808227539, reward=390.813232421875]"
      }
     },
     "9f3ee30ef04341589230d459cbaa9dc9": {
      "model_module": "@jupyter-widgets/controls",
      "model_module_version": "1.5.0",
      "model_name": "FloatProgressModel",
      "state": {
       "_dom_classes": [],
       "_model_module": "@jupyter-widgets/controls",
       "_model_module_version": "1.5.0",
       "_model_name": "FloatProgressModel",
       "_view_count": null,
       "_view_module": "@jupyter-widgets/controls",
       "_view_module_version": "1.5.0",
       "_view_name": "ProgressView",
       "bar_style": "success",
       "description": "epoch 1000/1000: 100%",
       "description_tooltip": null,
       "layout": "IPY_MODEL_d3c2fe0406a242e9a05de4f2df63952a",
       "max": 1000.0,
       "min": 0.0,
       "orientation": "horizontal",
       "style": "IPY_MODEL_7ff1b74a99e6462499920fb6be11a44d",
       "value": 1000.0
      }
     },
     "d3c2fe0406a242e9a05de4f2df63952a": {
      "model_module": "@jupyter-widgets/base",
      "model_module_version": "1.2.0",
      "model_name": "LayoutModel",
      "state": {
       "_model_module": "@jupyter-widgets/base",
       "_model_module_version": "1.2.0",
       "_model_name": "LayoutModel",
       "_view_count": null,
       "_view_module": "@jupyter-widgets/base",
       "_view_module_version": "1.2.0",
       "_view_name": "LayoutView",
       "align_content": null,
       "align_items": null,
       "align_self": null,
       "border": null,
       "bottom": null,
       "display": null,
       "flex": null,
       "flex_flow": null,
       "grid_area": null,
       "grid_auto_columns": null,
       "grid_auto_flow": null,
       "grid_auto_rows": null,
       "grid_column": null,
       "grid_gap": null,
       "grid_row": null,
       "grid_template_areas": null,
       "grid_template_columns": null,
       "grid_template_rows": null,
       "height": null,
       "justify_content": null,
       "justify_items": null,
       "left": null,
       "margin": null,
       "max_height": null,
       "max_width": null,
       "min_height": null,
       "min_width": null,
       "object_fit": null,
       "object_position": null,
       "order": null,
       "overflow": null,
       "overflow_x": null,
       "overflow_y": null,
       "padding": null,
       "right": null,
       "top": null,
       "visibility": null,
       "width": null
      }
     },
     "ea9cf84f355e4c0bba164fcb494a1b04": {
      "model_module": "@jupyter-widgets/controls",
      "model_module_version": "1.5.0",
      "model_name": "HBoxModel",
      "state": {
       "_dom_classes": [],
       "_model_module": "@jupyter-widgets/controls",
       "_model_module_version": "1.5.0",
       "_model_name": "HBoxModel",
       "_view_count": null,
       "_view_module": "@jupyter-widgets/controls",
       "_view_module_version": "1.5.0",
       "_view_name": "HBoxView",
       "box_style": "",
       "children": [
        "IPY_MODEL_9f3ee30ef04341589230d459cbaa9dc9",
        "IPY_MODEL_95c546ca8e5b42079de7d373f05c6bee"
       ],
       "layout": "IPY_MODEL_85c2161af49c45fdabd60fa33036c43d"
      }
     }
    },
    "version_major": 2,
    "version_minor": 0
   }
  }
 },
 "nbformat": 4,
 "nbformat_minor": 4
}
