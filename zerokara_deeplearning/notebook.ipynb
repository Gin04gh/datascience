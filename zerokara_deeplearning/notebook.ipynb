{
 "cells": [
  {
   "cell_type": "code",
   "execution_count": 1,
   "metadata": {
    "collapsed": true
   },
   "outputs": [],
   "source": [
    "import sys\n",
    "import numpy as np\n",
    "import matplotlib\n",
    "import matplotlib.pylab as plt\n",
    "from mpl_toolkits.mplot3d import Axes3D\n",
    "from tqdm import tqdm"
   ]
  },
  {
   "cell_type": "code",
   "execution_count": 2,
   "metadata": {},
   "outputs": [],
   "source": [
    "import urllib\n",
    "from sklearn.datasets import fetch_mldata\n",
    "\n",
    "try:\n",
    "    mnist = fetch_mldata('MNIST original')\n",
    "except urllib.error.HTTPError as ex:\n",
    "    from six.moves import urllib\n",
    "    from scipy.io import loadmat\n",
    "    import os\n",
    "    print('Could not download MNIST data from mldata.org, trying alternative...')\n",
    "    mnist_alternative_url = 'https://github.com/amplab/datascience-sp14/raw/master/lab7/mldata/mnist-original.mat'\n",
    "    mnist_path = './mnist-original.mat'\n",
    "    response = urllib.request.urlopen(mnist_alternative_url)\n",
    "    with open(mnist_path, 'wb') as f:\n",
    "        content = response.read()\n",
    "        f.write(content)\n",
    "    mnist_raw = loadmat(mnist_path)\n",
    "    mnist = {\n",
    "        \"data\": mnist_raw['data'].T,\n",
    "        \"target\": mnist_raw['label'][0],\n",
    "        \"COL_NAMES\": ['label', 'data'],\n",
    "        \"DESCR\": 'mldata.org dataset: mnist-original',\n",
    "    }\n",
    "    print('Success!')"
   ]
  },
  {
   "cell_type": "code",
   "execution_count": 3,
   "metadata": {},
   "outputs": [
    {
     "data": {
      "text/plain": [
       "((70000, 784), (70000,))"
      ]
     },
     "execution_count": 3,
     "metadata": {},
     "output_type": "execute_result"
    }
   ],
   "source": [
    "mnist['data'].shape, mnist['target'].shape"
   ]
  },
  {
   "cell_type": "code",
   "execution_count": 4,
   "metadata": {
    "collapsed": true
   },
   "outputs": [],
   "source": [
    "def relu(x):\n",
    "    \n",
    "    return np.maximum(0, x)"
   ]
  },
  {
   "cell_type": "code",
   "execution_count": 5,
   "metadata": {},
   "outputs": [
    {
     "data": {
      "text/plain": [
       "array([0.1, 0. , 0.5])"
      ]
     },
     "execution_count": 5,
     "metadata": {},
     "output_type": "execute_result"
    }
   ],
   "source": [
    "x = np.array([0.1, -0.9, 0.5])\n",
    "relu(x)"
   ]
  },
  {
   "cell_type": "code",
   "execution_count": 6,
   "metadata": {
    "collapsed": true
   },
   "outputs": [],
   "source": [
    "def softmax(x):\n",
    "    \n",
    "    if x.ndim == 2:\n",
    "        x = x.T\n",
    "        x = x - np.max(x, axis=0)\n",
    "        y = np.exp(x) / np.sum(np.exp(x), axis=0)\n",
    "        return y.T \n",
    "\n",
    "    x = x - np.max(x) # オーバーフロー対策\n",
    "    return np.exp(x) / np.sum(np.exp(x))"
   ]
  },
  {
   "cell_type": "code",
   "execution_count": 7,
   "metadata": {
    "collapsed": true
   },
   "outputs": [],
   "source": [
    "def cross_entropy_error(y, t):\n",
    "    \n",
    "    if y.ndim == 1:\n",
    "        t = t.reshape(1, t.size)\n",
    "        y = y.reshape(1, y.size)\n",
    "        \n",
    "    # 教師データがone-hot-vectorの場合、正解ラベルのインデックスに変換\n",
    "    if t.size == y.size:\n",
    "        t = t.argmax(axis=1)\n",
    "             \n",
    "    batch_size = y.shape[0]\n",
    "    return -np.sum(np.log(y[np.arange(batch_size), t] + 1e-7)) / batch_size"
   ]
  },
  {
   "cell_type": "code",
   "execution_count": 8,
   "metadata": {
    "collapsed": true
   },
   "outputs": [],
   "source": [
    "def softmax_loss(X, t):\n",
    "    \n",
    "    y = softmax(X)\n",
    "    return cross_entropy_error(y, t)"
   ]
  },
  {
   "cell_type": "code",
   "execution_count": 9,
   "metadata": {},
   "outputs": [
    {
     "data": {
      "text/plain": [
       "array([0.426, 0.912])"
      ]
     },
     "execution_count": 9,
     "metadata": {},
     "output_type": "execute_result"
    }
   ],
   "source": [
    "def init_network():\n",
    "    \n",
    "    network = {}\n",
    "    network['W1'] = np.array([[0.1, 0.3, 0.5], [0.2, 0.4, 0.6]])\n",
    "    network['b1'] = np.array([0.1, 0.2, 0.3])\n",
    "    network['W2'] = np.array([[0.1, 0.4], [0.2, 0.5], [0.3, 0.6]])\n",
    "    network['b2'] = np.array([0.1, 0.2])\n",
    "    network['W3'] = np.array([[0.1, 0.3], [0.2, 0.4]])\n",
    "    network['b3'] = np.array([0.1, 0.2])\n",
    "    return network\n",
    "\n",
    "def forward(network, x):\n",
    "    \n",
    "    W1, W2, W3 = network['W1'], network['W2'], network['W3']\n",
    "    b1, b2, b3 = network['b1'], network['b2'], network['b3']\n",
    "    \n",
    "    a1 = np.dot(x, W1) + b1\n",
    "    z1 = relu(a1)\n",
    "    a2 = np.dot(z1, W2) + b2\n",
    "    z2 = relu(a2)\n",
    "    y = np.dot(z2, W3) + b3\n",
    "    return y\n",
    "\n",
    "network = init_network()\n",
    "x = np.array([1.0, 0.5])\n",
    "forward(network, x)"
   ]
  },
  {
   "cell_type": "code",
   "execution_count": 10,
   "metadata": {},
   "outputs": [
    {
     "data": {
      "image/png": "[encoded data removed]",
      "text/plain": [
       "<matplotlib.figure.Figure at 0x7feb3af66908>"
      ]
     },
     "metadata": {},
     "output_type": "display_data"
    }
   ],
   "source": [
    "def numerical_diff(f, x):\n",
    "    \n",
    "    h = 1e-4\n",
    "    return (f(x+h) - f(x-h)) / (2*h)\n",
    "\n",
    "def function_1(x):\n",
    "    \n",
    "    return 0.01*x**2 + 0.1*x \n",
    "\n",
    "def tangent_line(f, x):\n",
    "    \n",
    "    d = numerical_diff(f, x)\n",
    "    y = f(x) - d*x\n",
    "    return d, lambda t: d*t + y\n",
    "     \n",
    "fig, axs = plt.subplots(ncols=2, figsize=(10,3))\n",
    "\n",
    "x = np.arange(0, 20, 0.1)\n",
    "y = function_1(x)\n",
    "d, tf = tangent_line(function_1, 5)\n",
    "y2 = tf(x)\n",
    "axs[0].plot(x, y)\n",
    "axs[0].plot(x, y2)\n",
    "axs[0].set_xlabel('x')\n",
    "axs[0].set_ylabel('f(x)')\n",
    "axs[0].set_title(d)\n",
    "\n",
    "d, tf = tangent_line(function_1, 15)\n",
    "y2 = tf(x)\n",
    "axs[1].plot(x, y)\n",
    "axs[1].plot(x, y2)\n",
    "axs[1].set_xlabel('x')\n",
    "axs[1].set_ylabel('f(x)')\n",
    "axs[1].set_title(d)\n",
    "\n",
    "plt.show()"
   ]
  },
  {
   "cell_type": "code",
   "execution_count": 11,
   "metadata": {
    "collapsed": true
   },
   "outputs": [],
   "source": [
    "def function_2(x):\n",
    "    \n",
    "    return x[0]**2+x[1]**2\n",
    "\n",
    "def _numerical_gradient_no_batch(f, x):\n",
    "    h = 1e-4  # 0.0001\n",
    "    grad = np.zeros_like(x) # xと同じ形状の配列\n",
    "    \n",
    "    for idx in range(x.size):\n",
    "        tmp_val = x[idx]\n",
    "        x[idx] = float(tmp_val) + h\n",
    "        fxh1 = f(x)  # f(x+h)\n",
    "        \n",
    "        x[idx] = tmp_val - h \n",
    "        fxh2 = f(x)  # f(x-h)\n",
    "        grad[idx] = (fxh1 - fxh2) / (2*h)\n",
    "        \n",
    "        x[idx] = tmp_val  # 値を元に戻す\n",
    "        \n",
    "    return grad\n",
    "\n",
    "def numerical_gradient(f, X):\n",
    "    \n",
    "    if X.ndim == 1:\n",
    "        return _numerical_gradient_no_batch(f, X)\n",
    "    else:\n",
    "        grad = np.zeros_like(X)\n",
    "        \n",
    "        for idx, x in enumerate(X):\n",
    "            grad[idx] = _numerical_gradient_no_batch(f, x)\n",
    "        \n",
    "        return grad"
   ]
  },
  {
   "cell_type": "code",
   "execution_count": 12,
   "metadata": {},
   "outputs": [
    {
     "data": {
      "text/plain": [
       "(array([6., 8.]), array([0., 4.]))"
      ]
     },
     "execution_count": 12,
     "metadata": {},
     "output_type": "execute_result"
    }
   ],
   "source": [
    "numerical_gradient(function_2, np.array([3.0, 4.0])), numerical_gradient(function_2, np.array([0.0, 2.0]))"
   ]
  },
  {
   "cell_type": "code",
   "execution_count": 13,
   "metadata": {
    "collapsed": true
   },
   "outputs": [],
   "source": [
    "def gradient_descent(f, init_x, lr=0.01, step_num=100):\n",
    "    \n",
    "    x = init_x\n",
    "    \n",
    "    for i in range(step_num):\n",
    "        \n",
    "        grad = numerical_gradient(f, x)\n",
    "        x -= lr*grad\n",
    "        \n",
    "    return x"
   ]
  },
  {
   "cell_type": "code",
   "execution_count": 14,
   "metadata": {},
   "outputs": [
    {
     "data": {
      "text/plain": [
       "array([-6.11110793e-10,  8.14814391e-10])"
      ]
     },
     "execution_count": 14,
     "metadata": {},
     "output_type": "execute_result"
    }
   ],
   "source": [
    "init_x = np.array([-3.0, 4.0])\n",
    "gradient_descent(function_2, init_x, lr=0.1)"
   ]
  },
  {
   "cell_type": "code",
   "execution_count": 15,
   "metadata": {},
   "outputs": [
    {
     "data": {
      "image/png": "[encoded data removed]",
      "text/plain": [
       "<matplotlib.figure.Figure at 0x7feb3af5e588>"
      ]
     },
     "metadata": {},
     "output_type": "display_data"
    }
   ],
   "source": [
    "def gradient_descent(f, init_x, lr=0.01, step_num=100):\n",
    "    \n",
    "    x = init_x\n",
    "    x_history = []\n",
    "\n",
    "    for i in range(step_num):\n",
    "        \n",
    "        x_history.append(x.copy())\n",
    "        grad = numerical_gradient(f, x)\n",
    "        x -= lr*grad\n",
    "\n",
    "    return x, np.array(x_history)\n",
    "\n",
    "init_x = np.array([-3.0, 4.0])    \n",
    "\n",
    "x, x_history = gradient_descent(function_2, init_x, lr=0.1, step_num=20)\n",
    "\n",
    "plt.plot([-5, 5], [0,0], '--b')\n",
    "plt.plot([0,0], [-5, 5], '--b')\n",
    "plt.plot(x_history[:,0], x_history[:,1], 'o')\n",
    "\n",
    "plt.xlim(-3.5, 3.5)\n",
    "plt.ylim(-4.5, 4.5)\n",
    "plt.xlabel(\"X0\")\n",
    "plt.ylabel(\"X1\")\n",
    "plt.show()"
   ]
  },
  {
   "cell_type": "code",
   "execution_count": 16,
   "metadata": {
    "collapsed": true
   },
   "outputs": [],
   "source": [
    "class simpleNet:\n",
    "    \n",
    "    def __init__(self):\n",
    "        \n",
    "        self.W = np.random.randn(2, 3) # ガウス分布で初期化\n",
    "    \n",
    "    def predict(self, x):\n",
    "        \n",
    "        return np.dot(x, self.W)\n",
    "    \n",
    "    def loss(self, x, t):\n",
    "        \n",
    "        z = self.predict(x)\n",
    "        y = softmax(z)\n",
    "        loss = cross_entropy_error(y, t)\n",
    "        return loss"
   ]
  },
  {
   "cell_type": "code",
   "execution_count": 17,
   "metadata": {},
   "outputs": [
    {
     "name": "stdout",
     "output_type": "stream",
     "text": [
      "[[-0.66827157  0.07011927 -0.35464921]\n",
      " [-1.37983988 -0.34880307 -0.81537749]]\n",
      "--------------------------------------------------\n",
      "[-1.64281884 -0.2718512  -0.94662926]\n",
      "1\n",
      "--------------------------------------------------\n",
      "1.2418687133687607\n"
     ]
    }
   ],
   "source": [
    "net = simpleNet()\n",
    "print(net.W) # 重み\n",
    "print('-'*50)\n",
    "\n",
    "x = np.array([0.6, 0.9])\n",
    "p = net.predict(x)\n",
    "print(p)\n",
    "print(np.argmax(p)) # 最大値のインデックス\n",
    "print('-'*50)\n",
    "\n",
    "t = np.array([0, 0, 1]) # 正解ラベル\n",
    "loss = net.loss(x, t)\n",
    "print(loss)"
   ]
  },
  {
   "cell_type": "code",
   "execution_count": 18,
   "metadata": {},
   "outputs": [
    {
     "name": "stdout",
     "output_type": "stream",
     "text": [
      "[[ 0.08638989  0.34030365 -0.42669354]\n",
      " [ 0.12958484  0.51045548 -0.64004032]]\n"
     ]
    }
   ],
   "source": [
    "def f(W):\n",
    "    return net.loss(x, t)\n",
    "#f = lambda w: net.loss(x, t)\n",
    "\n",
    "dW = numerical_gradient(f, net.W)\n",
    "print(dW)"
   ]
  },
  {
   "cell_type": "code",
   "execution_count": 19,
   "metadata": {
    "collapsed": true
   },
   "outputs": [],
   "source": [
    "class TwoLayerNet:\n",
    "    \n",
    "    def __init__(self, input_size, hidden_size, output_size, weight_init_std=0.01):\n",
    "        \n",
    "        self.params = {}\n",
    "        self.params['W1'] = weight_init_std*np.random.randn(input_size, hidden_size)\n",
    "        self.params['b1'] = np.zeros(hidden_size)\n",
    "        self.params['W2'] = weight_init_std*np.random.randn(hidden_size, output_size)\n",
    "        self.params['b2'] = np.zeros(output_size)\n",
    "        \n",
    "    def predict(self, x):\n",
    "        \n",
    "        W1, W2 = self.params['W1'], self.params['W2']\n",
    "        b1, b2 = self.params['b1'], self.params['b2']\n",
    "        \n",
    "        a1 = np.dot(x, W1)+b1\n",
    "        z1 = relu(a1)\n",
    "        a2 = np.dot(z1, W2)+b2\n",
    "        y = softmax(a2)\n",
    "        return y\n",
    "    \n",
    "    def loss(self, x, t):\n",
    "        \n",
    "        y = self.predict(x)\n",
    "        return cross_entropy_error(y, t)\n",
    "    \n",
    "    def accuracy(self, x, t):\n",
    "        \n",
    "        y = self.predict(x)\n",
    "        y = np.argmax(y, axis=1)\n",
    "        t = np.argmax(t, axis=1)\n",
    "        accuracy = np.sum(y==t)/float(x.shape[0])\n",
    "        return accuracy\n",
    "    \n",
    "    def numerical_gradient(self, x, t):\n",
    "        \n",
    "        loss_W = lambda W: self.loss(x, t)\n",
    "        grads = {}\n",
    "        grads['W1'] = numerical_gradient(loss_W, self.params['W1'])\n",
    "        grads['b1'] = numerical_gradient(loss_W, self.params['b1'])\n",
    "        grads['W2'] = numerical_gradient(loss_W, self.params['W2'])\n",
    "        grads['b2'] = numerical_gradient(loss_W, self.params['b2'])\n",
    "        return grads"
   ]
  },
  {
   "cell_type": "code",
   "execution_count": 20,
   "metadata": {},
   "outputs": [
    {
     "data": {
      "text/plain": [
       "(784, 100)"
      ]
     },
     "execution_count": 20,
     "metadata": {},
     "output_type": "execute_result"
    }
   ],
   "source": [
    "net = TwoLayerNet(input_size=784, hidden_size=100, output_size=10)\n",
    "net.params['W1'].shape"
   ]
  },
  {
   "cell_type": "code",
   "execution_count": 21,
   "metadata": {},
   "outputs": [
    {
     "data": {
      "text/plain": [
       "(5, 784)"
      ]
     },
     "execution_count": 21,
     "metadata": {},
     "output_type": "execute_result"
    }
   ],
   "source": [
    "mnist['data'][0:5].shape"
   ]
  },
  {
   "cell_type": "code",
   "execution_count": 22,
   "metadata": {},
   "outputs": [
    {
     "data": {
      "text/plain": [
       "array([[5.68326060e-04, 4.11173845e-02, 4.75311372e-02, 1.88275679e-02,\n",
       "        2.98368196e-01, 1.19696826e-02, 1.61587866e-02, 2.40639996e-01,\n",
       "        1.65636892e-01, 1.59182031e-01],\n",
       "       [2.95563975e-03, 1.99426097e-02, 7.61153714e-02, 5.69043576e-02,\n",
       "        9.65450150e-02, 1.13019661e-02, 8.66045937e-02, 2.17122275e-01,\n",
       "        3.57711902e-01, 7.47962704e-02],\n",
       "       [5.15881945e-03, 5.55072522e-02, 1.46189935e-02, 3.05710115e-01,\n",
       "        4.09228173e-02, 2.90523787e-01, 4.00246161e-02, 1.94539311e-01,\n",
       "        3.60850123e-02, 1.69092763e-02],\n",
       "       [1.16869148e-03, 7.84094915e-02, 1.34676665e-02, 1.10777887e-01,\n",
       "        3.91081152e-02, 1.48409194e-02, 2.46437917e-02, 6.45542716e-01,\n",
       "        2.14106181e-02, 5.06301034e-02],\n",
       "       [2.09797868e-04, 9.06799164e-02, 5.14427306e-01, 2.54898703e-02,\n",
       "        2.75006411e-02, 2.79284443e-03, 6.85730986e-02, 1.45720479e-01,\n",
       "        5.55466884e-02, 6.90593576e-02]])"
      ]
     },
     "execution_count": 22,
     "metadata": {},
     "output_type": "execute_result"
    }
   ],
   "source": [
    "x = mnist['data'][0:5]\n",
    "y = net.predict(x)\n",
    "y"
   ]
  },
  {
   "cell_type": "code",
   "execution_count": 23,
   "metadata": {},
   "outputs": [
    {
     "data": {
      "text/plain": [
       "((784, 100), (100,), (100, 10), (10,))"
      ]
     },
     "execution_count": 23,
     "metadata": {},
     "output_type": "execute_result"
    }
   ],
   "source": [
    "x = mnist['data'][0:5]\n",
    "x = x.astype(np.float)\n",
    "x /= 255\n",
    "t = mnist['target'][0:5]\n",
    "t = t.astype(np.int)\n",
    "t_one_hot = np.zeros((len(t), 10))\n",
    "t_one_hot[np.arange(len(t)), t] = 1\n",
    "\n",
    "grads = net.numerical_gradient(x, t_one_hot)\n",
    "grads['W1'].shape, grads['b1'].shape, grads['W2'].shape, grads['b2'].shape"
   ]
  },
  {
   "cell_type": "code",
   "execution_count": 24,
   "metadata": {
    "scrolled": false
   },
   "outputs": [
    {
     "name": "stdout",
     "output_type": "stream",
     "text": [
      "i:\t0\ttrain_loss:\t2.3009407812242744\ttrain_acc:\t0.159\ttest_acc:\t0.136\n",
      "i:\t1\ttrain_loss:\t2.2994501320776566\ttrain_acc:\t0.14\ttest_acc:\t0.106\n",
      "i:\t2\ttrain_loss:\t2.2985132262166443\ttrain_acc:\t0.153\ttest_acc:\t0.12\n",
      "i:\t3\ttrain_loss:\t2.2985599072107745\ttrain_acc:\t0.215\ttest_acc:\t0.152\n",
      "i:\t4\ttrain_loss:\t2.2976375306257033\ttrain_acc:\t0.22\ttest_acc:\t0.16\n",
      "i:\t5\ttrain_loss:\t2.295446456913539\ttrain_acc:\t0.199\ttest_acc:\t0.148\n",
      "i:\t6\ttrain_loss:\t2.2920106101863276\ttrain_acc:\t0.235\ttest_acc:\t0.17\n",
      "i:\t7\ttrain_loss:\t2.2931361495924465\ttrain_acc:\t0.239\ttest_acc:\t0.17\n",
      "i:\t8\ttrain_loss:\t2.29711887847072\ttrain_acc:\t0.238\ttest_acc:\t0.17\n",
      "i:\t9\ttrain_loss:\t2.292493144052164\ttrain_acc:\t0.235\ttest_acc:\t0.166\n",
      "i:\t10\ttrain_loss:\t2.2942653715698196\ttrain_acc:\t0.24\ttest_acc:\t0.174\n",
      "i:\t11\ttrain_loss:\t2.2944521264171924\ttrain_acc:\t0.229\ttest_acc:\t0.162\n",
      "i:\t12\ttrain_loss:\t2.2922903391803056\ttrain_acc:\t0.248\ttest_acc:\t0.178\n",
      "i:\t13\ttrain_loss:\t2.2884067575536426\ttrain_acc:\t0.259\ttest_acc:\t0.184\n",
      "i:\t14\ttrain_loss:\t2.2866709428234997\ttrain_acc:\t0.248\ttest_acc:\t0.176\n",
      "i:\t15\ttrain_loss:\t2.2839299151344594\ttrain_acc:\t0.244\ttest_acc:\t0.176\n",
      "i:\t16\ttrain_loss:\t2.286355883930109\ttrain_acc:\t0.236\ttest_acc:\t0.174\n",
      "i:\t17\ttrain_loss:\t2.281000688951652\ttrain_acc:\t0.242\ttest_acc:\t0.174\n",
      "i:\t18\ttrain_loss:\t2.2816299988239184\ttrain_acc:\t0.243\ttest_acc:\t0.176\n",
      "i:\t19\ttrain_loss:\t2.281893495989099\ttrain_acc:\t0.235\ttest_acc:\t0.174\n",
      "i:\t20\ttrain_loss:\t2.2803567947175423\ttrain_acc:\t0.239\ttest_acc:\t0.176\n",
      "i:\t21\ttrain_loss:\t2.276546201232402\ttrain_acc:\t0.242\ttest_acc:\t0.178\n",
      "i:\t22\ttrain_loss:\t2.2758482885396982\ttrain_acc:\t0.245\ttest_acc:\t0.176\n",
      "i:\t23\ttrain_loss:\t2.2737289658621442\ttrain_acc:\t0.246\ttest_acc:\t0.176\n",
      "i:\t24\ttrain_loss:\t2.2763250996847164\ttrain_acc:\t0.246\ttest_acc:\t0.182\n",
      "i:\t25\ttrain_loss:\t2.2736094110110887\ttrain_acc:\t0.27\ttest_acc:\t0.198\n",
      "i:\t26\ttrain_loss:\t2.2644259225650125\ttrain_acc:\t0.307\ttest_acc:\t0.242\n",
      "i:\t27\ttrain_loss:\t2.25833715824316\ttrain_acc:\t0.345\ttest_acc:\t0.274\n",
      "i:\t28\ttrain_loss:\t2.245123763501977\ttrain_acc:\t0.334\ttest_acc:\t0.272\n",
      "i:\t29\ttrain_loss:\t2.249064260929485\ttrain_acc:\t0.335\ttest_acc:\t0.278\n",
      "i:\t30\ttrain_loss:\t2.2372433451608424\ttrain_acc:\t0.326\ttest_acc:\t0.256\n",
      "i:\t31\ttrain_loss:\t2.240358480290027\ttrain_acc:\t0.311\ttest_acc:\t0.248\n",
      "i:\t32\ttrain_loss:\t2.229323741093268\ttrain_acc:\t0.292\ttest_acc:\t0.23\n",
      "i:\t33\ttrain_loss:\t2.220245620598907\ttrain_acc:\t0.29\ttest_acc:\t0.22\n",
      "i:\t34\ttrain_loss:\t2.2214722560951405\ttrain_acc:\t0.311\ttest_acc:\t0.246\n",
      "i:\t35\ttrain_loss:\t2.219460578809042\ttrain_acc:\t0.331\ttest_acc:\t0.27\n",
      "i:\t36\ttrain_loss:\t2.1930927238274633\ttrain_acc:\t0.344\ttest_acc:\t0.28\n",
      "i:\t37\ttrain_loss:\t2.190436931884081\ttrain_acc:\t0.349\ttest_acc:\t0.298\n",
      "i:\t38\ttrain_loss:\t2.1462946868827704\ttrain_acc:\t0.352\ttest_acc:\t0.292\n",
      "i:\t39\ttrain_loss:\t2.2018308850850583\ttrain_acc:\t0.364\ttest_acc:\t0.302\n",
      "i:\t40\ttrain_loss:\t2.127636434095037\ttrain_acc:\t0.373\ttest_acc:\t0.316\n",
      "i:\t41\ttrain_loss:\t2.1005757613220353\ttrain_acc:\t0.346\ttest_acc:\t0.294\n",
      "i:\t42\ttrain_loss:\t2.1127231980362904\ttrain_acc:\t0.35\ttest_acc:\t0.29\n",
      "i:\t43\ttrain_loss:\t2.1278951892443483\ttrain_acc:\t0.347\ttest_acc:\t0.29\n",
      "i:\t44\ttrain_loss:\t2.093954942591503\ttrain_acc:\t0.345\ttest_acc:\t0.29\n",
      "i:\t45\ttrain_loss:\t2.12619239684698\ttrain_acc:\t0.378\ttest_acc:\t0.33\n",
      "i:\t46\ttrain_loss:\t2.054233741844431\ttrain_acc:\t0.366\ttest_acc:\t0.312\n",
      "i:\t47\ttrain_loss:\t1.964715654427971\ttrain_acc:\t0.344\ttest_acc:\t0.298\n",
      "i:\t48\ttrain_loss:\t2.028182599002282\ttrain_acc:\t0.35\ttest_acc:\t0.304\n",
      "i:\t49\ttrain_loss:\t2.05545575806649\ttrain_acc:\t0.364\ttest_acc:\t0.324\n",
      "i:\t50\ttrain_loss:\t2.0609499888819456\ttrain_acc:\t0.382\ttest_acc:\t0.32\n",
      "i:\t51\ttrain_loss:\t1.9673747254813139\ttrain_acc:\t0.402\ttest_acc:\t0.346\n",
      "i:\t52\ttrain_loss:\t1.9174879892032035\ttrain_acc:\t0.422\ttest_acc:\t0.372\n",
      "i:\t53\ttrain_loss:\t1.9807861371827644\ttrain_acc:\t0.451\ttest_acc:\t0.386\n",
      "i:\t54\ttrain_loss:\t1.8645552549266386\ttrain_acc:\t0.447\ttest_acc:\t0.382\n",
      "i:\t55\ttrain_loss:\t1.900432429076051\ttrain_acc:\t0.482\ttest_acc:\t0.426\n",
      "i:\t56\ttrain_loss:\t1.8698437851798757\ttrain_acc:\t0.495\ttest_acc:\t0.436\n",
      "i:\t57\ttrain_loss:\t1.878266719297299\ttrain_acc:\t0.492\ttest_acc:\t0.432\n",
      "i:\t58\ttrain_loss:\t1.8338905133490453\ttrain_acc:\t0.496\ttest_acc:\t0.438\n",
      "i:\t59\ttrain_loss:\t1.8304264272840607\ttrain_acc:\t0.507\ttest_acc:\t0.452\n",
      "i:\t60\ttrain_loss:\t1.772536945072336\ttrain_acc:\t0.503\ttest_acc:\t0.464\n",
      "i:\t61\ttrain_loss:\t1.6898170892144997\ttrain_acc:\t0.498\ttest_acc:\t0.456\n",
      "i:\t62\ttrain_loss:\t1.7490969131082668\ttrain_acc:\t0.499\ttest_acc:\t0.436\n",
      "i:\t63\ttrain_loss:\t1.6259247656977542\ttrain_acc:\t0.482\ttest_acc:\t0.432\n",
      "i:\t64\ttrain_loss:\t1.65714626611444\ttrain_acc:\t0.497\ttest_acc:\t0.454\n",
      "i:\t65\ttrain_loss:\t1.6313647297547913\ttrain_acc:\t0.525\ttest_acc:\t0.476\n",
      "i:\t66\ttrain_loss:\t1.5890903200528077\ttrain_acc:\t0.526\ttest_acc:\t0.482\n",
      "i:\t67\ttrain_loss:\t1.5734028352664697\ttrain_acc:\t0.557\ttest_acc:\t0.512\n",
      "i:\t68\ttrain_loss:\t1.665931164536366\ttrain_acc:\t0.521\ttest_acc:\t0.488\n",
      "i:\t69\ttrain_loss:\t1.527643234675577\ttrain_acc:\t0.52\ttest_acc:\t0.478\n",
      "i:\t70\ttrain_loss:\t1.4945226315165088\ttrain_acc:\t0.571\ttest_acc:\t0.534\n",
      "i:\t71\ttrain_loss:\t1.5335816392810289\ttrain_acc:\t0.57\ttest_acc:\t0.538\n",
      "i:\t72\ttrain_loss:\t1.5488716356730226\ttrain_acc:\t0.595\ttest_acc:\t0.536\n",
      "i:\t73\ttrain_loss:\t1.3773857779484697\ttrain_acc:\t0.622\ttest_acc:\t0.568\n",
      "i:\t74\ttrain_loss:\t1.387946672165924\ttrain_acc:\t0.626\ttest_acc:\t0.584\n",
      "i:\t75\ttrain_loss:\t1.312975348048503\ttrain_acc:\t0.614\ttest_acc:\t0.57\n",
      "i:\t76\ttrain_loss:\t1.3599368776213614\ttrain_acc:\t0.64\ttest_acc:\t0.61\n",
      "i:\t77\ttrain_loss:\t1.3277169603427268\ttrain_acc:\t0.661\ttest_acc:\t0.61\n",
      "i:\t78\ttrain_loss:\t1.3733811980064308\ttrain_acc:\t0.649\ttest_acc:\t0.582\n",
      "i:\t79\ttrain_loss:\t1.2608997373716682\ttrain_acc:\t0.658\ttest_acc:\t0.61\n",
      "i:\t80\ttrain_loss:\t1.18463998731188\ttrain_acc:\t0.621\ttest_acc:\t0.57\n",
      "i:\t81\ttrain_loss:\t1.2797712391377103\ttrain_acc:\t0.647\ttest_acc:\t0.6\n",
      "i:\t82\ttrain_loss:\t1.1350700293341793\ttrain_acc:\t0.643\ttest_acc:\t0.596\n",
      "i:\t83\ttrain_loss:\t1.2810178041789553\ttrain_acc:\t0.654\ttest_acc:\t0.592\n",
      "i:\t84\ttrain_loss:\t1.1941685159454363\ttrain_acc:\t0.667\ttest_acc:\t0.604\n",
      "i:\t85\ttrain_loss:\t1.1699299847558986\ttrain_acc:\t0.688\ttest_acc:\t0.636\n",
      "i:\t86\ttrain_loss:\t1.1390366813478536\ttrain_acc:\t0.675\ttest_acc:\t0.616\n",
      "i:\t87\ttrain_loss:\t1.0387781238274647\ttrain_acc:\t0.681\ttest_acc:\t0.624\n",
      "i:\t88\ttrain_loss:\t1.1067459377235487\ttrain_acc:\t0.691\ttest_acc:\t0.638\n",
      "i:\t89\ttrain_loss:\t0.9981212587990147\ttrain_acc:\t0.7\ttest_acc:\t0.656\n",
      "i:\t90\ttrain_loss:\t1.0609562846167413\ttrain_acc:\t0.714\ttest_acc:\t0.672\n",
      "i:\t91\ttrain_loss:\t1.1311646588070807\ttrain_acc:\t0.721\ttest_acc:\t0.66\n",
      "i:\t92\ttrain_loss:\t1.0967110442363506\ttrain_acc:\t0.718\ttest_acc:\t0.68\n",
      "i:\t93\ttrain_loss:\t1.0971792977084354\ttrain_acc:\t0.728\ttest_acc:\t0.69\n",
      "i:\t94\ttrain_loss:\t1.0564324838280215\ttrain_acc:\t0.746\ttest_acc:\t0.678\n",
      "i:\t95\ttrain_loss:\t0.9316995067397991\ttrain_acc:\t0.735\ttest_acc:\t0.678\n",
      "i:\t96\ttrain_loss:\t1.0339226247347688\ttrain_acc:\t0.735\ttest_acc:\t0.688\n",
      "i:\t97\ttrain_loss:\t0.9859009825716518\ttrain_acc:\t0.742\ttest_acc:\t0.692\n",
      "i:\t98\ttrain_loss:\t1.0008082184057825\ttrain_acc:\t0.721\ttest_acc:\t0.68\n",
      "i:\t99\ttrain_loss:\t1.0105172658777262\ttrain_acc:\t0.723\ttest_acc:\t0.686\n",
      "100%|██████████| 100/100 [1:22:58<00:00, 49.79s/it]\n"
     ]
    }
   ],
   "source": [
    "iters_num = 100\n",
    "batch_size = 100\n",
    "learning_rate = 0.1\n",
    "\n",
    "net = TwoLayerNet(input_size=784, hidden_size=50, output_size=10)\n",
    "\n",
    "data_x = mnist['data']\n",
    "data_x = data_x.astype(np.float)\n",
    "data_x /= 255\n",
    "\n",
    "data_t = mnist['target']\n",
    "data_t = data_t.astype(np.int)\n",
    "data_t_one_hot = np.zeros((len(data_t), 10))\n",
    "data_t_one_hot[np.arange(len(data_t)), data_t] = 1\n",
    "\n",
    "indices = np.random.permutation(len(data_x)) # shuffle\n",
    "\n",
    "train_indices = indices[:1000] # 1000件学習用データ\n",
    "test_indices = indices[1000:1500] # 500件評価用データ\n",
    "\n",
    "train_x = data_x[train_indices]\n",
    "train_t = data_t_one_hot[train_indices]\n",
    "test_x = data_x[test_indices]\n",
    "test_t = data_t_one_hot[test_indices]\n",
    "\n",
    "train_size = len(train_x)\n",
    "\n",
    "train_loss_list = []\n",
    "train_acc_list = []\n",
    "test_acc_list = []\n",
    "\n",
    "for i in tqdm(range(iters_num), file=sys.stdout):\n",
    "    \n",
    "    # ミニバッチ\n",
    "    batch_mask = np.random.choice(train_size, batch_size)\n",
    "    x_batch = train_x[batch_mask]\n",
    "    t_batch = train_t[batch_mask]\n",
    "    \n",
    "    # 勾配の計算\n",
    "    grad = net.numerical_gradient(x_batch, t_batch)\n",
    "    \n",
    "    # パラメータの更新\n",
    "    for key in ('W1', 'b1', 'W2', 'b2'):\n",
    "        net.params[key] -= learning_rate*grad[key]\n",
    "        \n",
    "    # 学習経過の記録\n",
    "    train_loss = net.loss(x_batch, t_batch)\n",
    "    train_loss_list.append(train_loss)\n",
    "    train_acc = net.accuracy(train_x, train_t)\n",
    "    train_acc_list.append(train_acc)\n",
    "    test_acc = net.accuracy(test_x, test_t)\n",
    "    test_acc_list.append(test_acc)\n",
    "    tqdm.write('i:\\t{}\\ttrain_loss:\\t{}\\ttrain_acc:\\t{}\\ttest_acc:\\t{}'.format(i, train_loss, train_acc, test_acc))"
   ]
  },
  {
   "cell_type": "code",
   "execution_count": 32,
   "metadata": {},
   "outputs": [
    {
     "data": {
      "image/png": "[encoded data removed]",
      "text/plain": [
       "<matplotlib.figure.Figure at 0x7feb19000160>"
      ]
     },
     "metadata": {},
     "output_type": "display_data"
    }
   ],
   "source": [
    "x = np.arange(iters_num)\n",
    "\n",
    "fig, axs = plt.subplots(ncols=2, figsize=(12,4))\n",
    "\n",
    "axs[0].plot(x, train_loss_list)\n",
    "axs[0].set_xlabel('epochs')\n",
    "axs[0].set_ylabel('loss')\n",
    "axs[0].set_title('train loss')\n",
    "\n",
    "axs[1].plot(x, train_acc_list, label='train acc')\n",
    "axs[1].plot(x, test_acc_list, label='test acc', linestyle='--')\n",
    "axs[1].set_xlabel('epochs')\n",
    "axs[1].set_ylabel('accuracy')\n",
    "axs[1].set_ylim(0, 1.0)\n",
    "axs[1].set_title('train/test acc')\n",
    "\n",
    "plt.legend()\n",
    "plt.show()"
   ]
  }
 ],
 "metadata": {
  "kernelspec": {
   "display_name": "Python 3",
   "language": "python",
   "name": "python3"
  },
  "language_info": {
   "codemirror_mode": {
    "name": "ipython",
    "version": 3
   },
   "file_extension": ".py",
   "mimetype": "text/x-python",
   "name": "python",
   "nbconvert_exporter": "python",
   "pygments_lexer": "ipython3",
   "version": "3.6.6"
  }
 },
 "nbformat": 4,
 "nbformat_minor": 2
}
