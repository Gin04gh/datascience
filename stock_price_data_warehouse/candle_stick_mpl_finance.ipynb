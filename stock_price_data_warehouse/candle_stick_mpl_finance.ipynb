{
 "cells": [
  {
   "cell_type": "markdown",
   "metadata": {},
   "source": [
    "* Candle stick by mpl_finance"
   ]
  },
  {
   "cell_type": "code",
   "execution_count": 7,
   "metadata": {},
   "outputs": [],
   "source": [
    "import glob\n",
    "import numpy as np\n",
    "import pandas as pd\n",
    "import matplotlib\n",
    "import matplotlib.pylab as plt\n",
    "import mpl_finance\n",
    "from scipy import stats\n",
    "from tqdm import tqdm\n",
    "\n",
    "import warnings\n",
    "warnings.filterwarnings('ignore')"
   ]
  },
  {
   "cell_type": "code",
   "execution_count": 2,
   "metadata": {},
   "outputs": [
    {
     "name": "stderr",
     "output_type": "stream",
     "text": [
      "100%|██████████| 246/246 [00:03<00:00, 63.51it/s]\n",
      "100%|██████████| 246/246 [00:13<00:00, 18.06it/s]\n"
     ]
    },
    {
     "name": "stdout",
     "output_type": "stream",
     "text": [
      "715806\n"
     ]
    }
   ],
   "source": [
    "paths = glob.glob('./data/2017/*.txt')\n",
    "\n",
    "col_names = ['code', 'name', 'open', 'high', 'low', 'close', 'volume']\n",
    "\n",
    "# get code list\n",
    "df_code = pd.read_csv(paths[0], delimiter='\\t', encoding='SHIFT-JIS', header=None, names=col_names)\n",
    "codes = df_code.iloc[1:, 0].as_matrix()\n",
    "\n",
    "for path in tqdm(paths[1:]):\n",
    "\n",
    "    df_code = pd.read_csv(path, delimiter='\\t', encoding='SHIFT-JIS', header=None, names=col_names)\n",
    "    codes = list(set(codes) & set(df_code.iloc[1:, 0].as_matrix()))\n",
    "    \n",
    "# code filtering\n",
    "codes = np.array(codes)[np.array(codes) > 1700]\n",
    "\n",
    "# get price data\n",
    "df_all = pd.read_csv(paths[0], delimiter='\\t', encoding='SHIFT-JIS', header=None, names=col_names)\n",
    "date = str(df_all.iloc[0, 0])\n",
    "date = date[:4] + '-' + date[4:6] + '-' + date[6:]\n",
    "df_all['date'] = date\n",
    "df_all = df_all.iloc[1:, :]\n",
    "df_all = df_all[df_all['code'].isin(codes)]\n",
    "\n",
    "for path in tqdm(paths[1:]):\n",
    "    \n",
    "    df = pd.read_csv(path, delimiter='\\t', encoding='SHIFT-JIS', header=None, names=col_names)\n",
    "    date = str(df.iloc[0, 0])\n",
    "    date = date[:4] + '-' + date[4:6] + '-' + date[6:]\n",
    "    df['date'] = date\n",
    "    df = df.iloc[1:, :]\n",
    "    df = df[df['code'].isin(codes)]\n",
    "    df_all = pd.concat([df_all, df])\n",
    "\n",
    "df_all['date'] = pd.to_datetime(df_all['date'])\n",
    "df_all = df_all.sort_values(by=['code', 'date'], ascending=True)\n",
    "print(len(df_all))"
   ]
  },
  {
   "cell_type": "code",
   "execution_count": 3,
   "metadata": {},
   "outputs": [],
   "source": [
    "c = 7203\n",
    "\n",
    "start_date = '2017-01-01'\n",
    "end_date = '2017-06-30'"
   ]
  },
  {
   "cell_type": "code",
   "execution_count": 6,
   "metadata": {},
   "outputs": [
    {
     "data": {
      "image/png": "[encoded data removed]",
      "text/plain": [
       "<Figure size 720x360 with 1 Axes>"
      ]
     },
     "metadata": {},
     "output_type": "display_data"
    }
   ],
   "source": [
    "# ローソク足\n",
    "\n",
    "df_tmp = df_all[df_all['code'] == c]\n",
    "df_tmp = df_tmp[(start_date < df_tmp['date']) & (df_tmp['date'] < end_date)]\n",
    "\n",
    "fig, ax = plt.subplots(figsize=(10, 5))\n",
    "mpl_finance.candlestick2_ohlc(\n",
    "    ax,\n",
    "    opens=df_tmp['open'],\n",
    "    highs=df_tmp['high'],\n",
    "    lows=df_tmp['low'],\n",
    "    closes=df_tmp['close'],\n",
    "    width=1.0,\n",
    "    colorup='green',\n",
    "    colordown='red',\n",
    ")\n",
    "plt.show()"
   ]
  }
 ],
 "metadata": {
  "kernelspec": {
   "display_name": "Python 3",
   "language": "python",
   "name": "python3"
  },
  "language_info": {
   "codemirror_mode": {
    "name": "ipython",
    "version": 3
   },
   "file_extension": ".py",
   "mimetype": "text/x-python",
   "name": "python",
   "nbconvert_exporter": "python",
   "pygments_lexer": "ipython3",
   "version": "3.6.6"
  }
 },
 "nbformat": 4,
 "nbformat_minor": 2
}
