{
 "cells": [
  {
   "cell_type": "markdown",
   "metadata": {},
   "source": [
    "* Gaussian mixture model on iris data by scikit-learn."
   ]
  },
  {
   "cell_type": "code",
   "execution_count": 3,
   "metadata": {},
   "outputs": [
    {
     "name": "stdout",
     "output_type": "stream",
     "text": [
      "[0 0 0 0 0 0 0 0 0 0 0 0 0 0 0 0 0 0 0 0 0 0 0 0 0 0 0 0 0 0 0 0 0 0 0 0 0\n",
      " 0 0 0 0 0 0 0 0 0 0 0 0 0 1 1 1 1 1 1 1 1 1 1 1 1 1 1 1 1 1 1 1 1 1 1 1 1\n",
      " 1 1 1 1 1 1 1 1 1 1 1 1 1 1 1 1 1 1 1 1 1 1 1 1 1 1 2 2 2 2 2 2 2 2 2 2 2\n",
      " 2 2 2 2 2 2 2 2 2 2 2 2 2 2 2 2 2 2 2 2 2 2 2 2 2 2 2 2 2 2 2 2 2 2 2 2 2\n",
      " 2 2]\n",
      "[0 0 0 0 0 0 0 0 0 0 0 0 0 0 0 0 0 0 0 0 0 0 0 0 0 0 0 0 0 0 0 0 0 0 0 0 0\n",
      " 0 0 0 0 0 0 0 0 0 0 0 0 0 2 2 2 2 2 2 2 2 2 2 2 2 2 2 2 2 2 2 1 2 1 2 1 2\n",
      " 2 2 2 1 2 2 2 2 2 1 2 2 2 2 2 2 2 2 2 2 2 2 2 2 2 2 1 1 1 1 1 1 1 1 1 1 1\n",
      " 1 1 1 1 1 1 1 1 1 1 1 1 1 1 1 1 1 1 1 1 1 1 1 1 1 1 1 1 1 1 1 1 1 1 1 1 1\n",
      " 1 1]\n"
     ]
    }
   ],
   "source": [
    "import numpy as np\n",
    "from sklearn import mixture\n",
    "from sklearn.datasets import load_iris\n",
    "\n",
    "iris = load_iris()\n",
    "data = np.c_[iris['data'], iris['target']]\n",
    "x, y = data[:, :4], data[:, 4]\n",
    "y = y.astype(np.int32)\n",
    "\n",
    "class_num = 3\n",
    "gmm = mixture.GaussianMixture(n_components=class_num, covariance_type='full').fit(x)\n",
    "preds = gmm.predict(x)\n",
    "\n",
    "print(y)\n",
    "print(preds)"
   ]
  },
  {
   "cell_type": "code",
   "execution_count": 1,
   "metadata": {},
   "outputs": [
    {
     "name": "stdout",
     "output_type": "stream",
     "text": [
      "Python 3.6.5 :: Anaconda, Inc.\r\n"
     ]
    }
   ],
   "source": [
    "!python --version"
   ]
  },
  {
   "cell_type": "code",
   "execution_count": 2,
   "metadata": {},
   "outputs": [
    {
     "name": "stdout",
     "output_type": "stream",
     "text": [
      "alembic==0.9.9\n",
      "asn1crypto==0.24.0\n",
      "attrs==18.1.0\n",
      "Automat==0.0.0\n",
      "backcall==0.1.0\n",
      "beautifulsoup4==4.6.0\n",
      "bleach==2.1.3\n",
      "bokeh==0.12.16\n",
      "certifi==2018.4.16\n",
      "cffi==1.11.5\n",
      "chardet==3.0.4\n",
      "cloudpickle==0.5.3\n",
      "conda==4.5.8\n",
      "constantly==15.1.0\n",
      "cryptography==2.2.1\n",
      "cycler==0.10.0\n",
      "Cython==0.28.4\n",
      "dask==0.18.1\n",
      "decorator==4.3.0\n",
      "dill==0.2.8.2\n",
      "entrypoints==0.2.3\n",
      "fastcache==1.0.2\n",
      "gmpy2==2.0.8\n",
      "h5py==2.7.1\n",
      "html5lib==1.0.1\n",
      "hyperlink==17.3.1\n",
      "idna==2.7\n",
      "imageio==2.3.0\n",
      "incremental==17.5.0\n",
      "ipykernel==4.8.2\n",
      "ipython==6.4.0\n",
      "ipython-genutils==0.2.0\n",
      "ipywidgets==7.2.1\n",
      "jedi==0.12.1\n",
      "Jinja2==2.10\n",
      "jsonschema==2.6.0\n",
      "jupyter-client==5.2.3\n",
      "jupyter-core==4.4.0\n",
      "jupyterhub==0.8.1\n",
      "jupyterlab==0.32.1\n",
      "jupyterlab-launcher==0.10.5\n",
      "kiwisolver==1.0.1\n",
      "llvmlite==0.23.0\n",
      "Mako==1.0.7\n",
      "MarkupSafe==1.0\n",
      "matplotlib==2.2.2\n",
      "mistune==0.8.3\n",
      "nbconvert==5.3.1\n",
      "nbformat==4.4.0\n",
      "networkx==2.1\n",
      "notebook==5.6.0\n",
      "numba==0.38.1\n",
      "numexpr==2.6.5\n",
      "numpy==1.13.3\n",
      "olefile==0.45.1\n",
      "packaging==17.1\n",
      "pamela==0.3.0\n",
      "pandas==0.23.3\n",
      "pandocfilters==1.4.2\n",
      "parso==0.3.0\n",
      "patsy==0.5.0\n",
      "pexpect==4.6.0\n",
      "pickleshare==0.7.4\n",
      "Pillow==5.2.0\n",
      "prometheus-client==0.2.0\n",
      "prompt-toolkit==1.0.15\n",
      "protobuf==3.5.2\n",
      "ptyprocess==0.6.0\n",
      "pycosat==0.6.3\n",
      "pycparser==2.18\n",
      "Pygments==2.2.0\n",
      "pyOpenSSL==18.0.0\n",
      "pyparsing==2.2.0\n",
      "PySocks==1.6.8\n",
      "python-dateutil==2.7.3\n",
      "python-editor==1.0.3\n",
      "python-oauth2==1.0.1\n",
      "pytz==2018.5\n",
      "PyWavelets==0.5.2\n",
      "PyYAML==3.12\n",
      "pyzmq==17.1.0\n",
      "requests==2.19.1\n",
      "rpy2==2.8.5\n",
      "ruamel-yaml==0.15.44\n",
      "scikit-image==0.14.0\n",
      "scikit-learn==0.19.2\n",
      "scipy==1.1.0\n",
      "seaborn==0.9.0\n",
      "Send2Trash==1.5.0\n",
      "simplegeneric==0.8.1\n",
      "singledispatch==3.4.0.3\n",
      "six==1.11.0\n",
      "SQLAlchemy==1.2.10\n",
      "statsmodels==0.9.0\n",
      "sympy==1.1.1\n",
      "terminado==0.8.1\n",
      "testpath==0.3.1\n",
      "toolz==0.9.0\n",
      "tornado==5.1\n",
      "traitlets==4.3.2\n",
      "Twisted==17.5.0\n",
      "urllib3==1.23\n",
      "vincent==0.4.4\n",
      "wcwidth==0.1.7\n",
      "webencodings==0.5\n",
      "widgetsnbextension==3.2.1\n",
      "xlrd==1.1.0\n",
      "zope.interface==4.5.0\n",
      "\u001b[33mYou are using pip version 9.0.3, however version 18.0 is available.\n",
      "You should consider upgrading via the 'pip install --upgrade pip' command.\u001b[0m\n"
     ]
    }
   ],
   "source": [
    "!pip freeze"
   ]
  }
 ],
 "metadata": {
  "kernelspec": {
   "display_name": "Python 3",
   "language": "python",
   "name": "python3"
  },
  "language_info": {
   "codemirror_mode": {
    "name": "ipython",
    "version": 3
   },
   "file_extension": ".py",
   "mimetype": "text/x-python",
   "name": "python",
   "nbconvert_exporter": "python",
   "pygments_lexer": "ipython3",
   "version": "3.6.6"
  }
 },
 "nbformat": 4,
 "nbformat_minor": 2
}
