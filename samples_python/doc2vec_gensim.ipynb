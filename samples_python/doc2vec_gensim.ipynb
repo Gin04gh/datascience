{
 "cells": [
  {
   "cell_type": "markdown",
   "metadata": {},
   "source": [
    "* Doc2Vecの使い方メモ"
   ]
  },
  {
   "cell_type": "code",
   "execution_count": 1,
   "metadata": {
    "collapsed": true
   },
   "outputs": [],
   "source": [
    "import sys\n",
    "import re\n",
    "import numpy as np\n",
    "from sklearn import datasets\n",
    "from gensim import models\n",
    "from gensim.models.doc2vec import TaggedDocument\n",
    "from tqdm import tqdm\n",
    "\n",
    "import warnings\n",
    "warnings.filterwarnings('ignore')"
   ]
  },
  {
   "cell_type": "code",
   "execution_count": 2,
   "metadata": {},
   "outputs": [
    {
     "data": {
      "text/plain": [
       "(1655, 1655, 1102, 1102)"
      ]
     },
     "execution_count": 2,
     "metadata": {},
     "output_type": "execute_result"
    }
   ],
   "source": [
    "# 文章データ取得\n",
    "\n",
    "categories = ['alt.atheism', 'comp.graphics', 'comp.os.ms-windows.misc']\n",
    "train = datasets.fetch_20newsgroups(subset='train', remove=('headers', 'footers', 'quotes'), categories=categories)\n",
    "valid = datasets.fetch_20newsgroups(subset='test', remove=('headers', 'footers', 'quotes'), categories=categories)\n",
    "\n",
    "len(train.data), len(train.target), len(valid.data), len(valid.target)"
   ]
  },
  {
   "cell_type": "code",
   "execution_count": 3,
   "metadata": {
    "collapsed": true
   },
   "outputs": [],
   "source": [
    "# 文章を単語リストに分解する関数\n",
    "\n",
    "def sentence2words(sentence):\n",
    "    \n",
    "    stop_words = [\"a\"]\n",
    "    sentence = sentence.lower() # 小文字化\n",
    "    sentence = sentence.replace(\"\\n\", \" \") # 改行削除\n",
    "    sentence = re.sub(re.compile(r\"[!-\\/:-@[-`{-~]\"), \" \", sentence) # 記号をスペースに置き換え\n",
    "    sentence = sentence.split(\" \") # スペースで区切る\n",
    "    \n",
    "    words = []\n",
    "    for word in sentence:\n",
    "        if (re.compile(r\"^.*[0-9]+.*$\").fullmatch(word) is None) and (word not in stop_words) and (len(word) > 0): # 数字が含まれるもの、ストップワードに含まれるものは除外\n",
    "            words.append(word)\n",
    "            \n",
    "    return words"
   ]
  },
  {
   "cell_type": "code",
   "execution_count": 4,
   "metadata": {},
   "outputs": [
    {
     "data": {
      "text/plain": [
       "(1655, 1655)"
      ]
     },
     "execution_count": 4,
     "metadata": {},
     "output_type": "execute_result"
    }
   ],
   "source": [
    "# Doc2Vecに読み込ませるTaggedDocumentを用意する# Doc2Vec \n",
    "\n",
    "training_docs = []\n",
    "mapping = {}\n",
    "for i, (doc, target) in enumerate(zip(train.data, train.target)):\n",
    "    \n",
    "    words = sentence2words(doc)\n",
    "    training_docs.append(TaggedDocument(words=words, tags=[i])) # ドキュメント、ドキュメント番号\n",
    "    mapping[i] = (doc, target) # ドキュメント番号、ドキュメント、カテゴリ番号\n",
    "    \n",
    "len(training_docs), len(mapping)"
   ]
  },
  {
   "cell_type": "code",
   "execution_count": 5,
   "metadata": {},
   "outputs": [
    {
     "name": "stdout",
     "output_type": "stream",
     "text": [
      "epoch:\t10\talpha:\t0.020306122448979586         \n",
      "epoch:\t20\talpha:\t0.01561224489795917           \n",
      "epoch:\t30\talpha:\t0.010918367346938754          \n",
      "epoch:\t40\talpha:\t0.006224489795918341          \n",
      "epoch:\t50\talpha:\t0.0015306122448979342         \n",
      "100%|██████████| 50/50 [01:58<00:00,  2.38s/it]\n"
     ]
    }
   ],
   "source": [
    "# Doc2Vecモデル学習\n",
    "\n",
    "epoch_num = 50\n",
    "alpha = 0.025\n",
    "alpha_decrease = 0.002\n",
    "\n",
    "model = models.Doc2Vec(dm=1, min_count=1, size=300, alpha=alpha, min_alpha=alpha) # dm=1 => dmpv, dm!=1 => DBoW\n",
    "model.build_vocab(training_docs)\n",
    "\n",
    "for epoch in tqdm(range(epoch_num), file=sys.stdout):\n",
    "    \n",
    "    model.train(training_docs, total_examples=model.corpus_count, epochs=model.iter)\n",
    "    model.alpha -= (alpha - alpha_decrease) / (epoch_num - 1)\n",
    "    model.min_alpha = model.alpha\n",
    "    \n",
    "    if (epoch+1) % 10 == 0:\n",
    "        tqdm.write('epoch:\\t{}\\talpha:\\t{}'.format(epoch+1, model.alpha))"
   ]
  },
  {
   "cell_type": "code",
   "execution_count": null,
   "metadata": {
    "collapsed": true
   },
   "outputs": [],
   "source": [
    "# モデルの保存・読み込み\n",
    "\n",
    "#model.save(\"doc2vec.model\")\n",
    "#model = models.Doc2Vec.load(\"doc2vec.model\")"
   ]
  },
  {
   "cell_type": "code",
   "execution_count": 6,
   "metadata": {},
   "outputs": [
    {
     "data": {
      "text/plain": [
       "((300,),\n",
       " array([ 0.43423516,  0.6925737 , -1.0553707 , -0.24401118,  0.22113119,\n",
       "        -0.98250186,  1.1309174 ,  0.32124126, -1.8034211 , -1.5904574 ,\n",
       "         1.719048  , -1.492869  ,  2.1449518 ,  0.84675056,  0.9244372 ,\n",
       "         1.0444746 , -0.57886916, -0.30521724,  0.01617808, -0.96678686,\n",
       "        -0.21967377,  0.35141957,  0.54587257,  0.03706923,  1.2726986 ,\n",
       "         0.86247176,  0.01283047, -1.820717  , -0.3061444 ,  1.4525696 ,\n",
       "         0.43516332,  0.22311614,  1.8653235 ,  2.5187795 ,  0.81765735,\n",
       "        -0.42193288, -1.3697084 , -0.21347088,  0.60030615,  0.9110913 ,\n",
       "        -0.51162314, -0.04623876,  1.8297851 , -0.44821292,  0.3326171 ,\n",
       "         0.3310435 , -1.1762308 ,  0.69254816,  0.42398924, -2.8050752 ,\n",
       "         1.1186494 ,  0.7815067 ,  0.06101723, -0.61993474, -0.44684803,\n",
       "         0.30396786,  2.8073373 ,  1.3095114 ,  1.2051758 , -0.63514864,\n",
       "        -0.41822636, -0.33922762,  0.9981876 , -1.3695447 , -2.0235198 ,\n",
       "         0.00300113,  2.3407867 , -0.44595316, -0.9858147 ,  0.25383708,\n",
       "         1.2326294 , -0.96160567,  0.19602354,  1.8550602 , -1.4829669 ,\n",
       "        -0.49653342, -0.14692375,  0.1845395 ,  0.6472927 , -0.02865227,\n",
       "         2.2977931 , -1.1060987 , -0.3135615 , -0.34916332,  1.5695889 ,\n",
       "         1.4244514 ,  1.0329325 , -0.68363106, -0.8321384 , -0.73472506,\n",
       "         2.6665864 ,  1.1224133 , -0.3471163 , -0.20891768,  0.04055563,\n",
       "         0.92584896, -1.2040946 ,  0.38146302, -1.1840048 ,  0.80802405,\n",
       "         0.14547044, -0.1860969 , -0.93831   , -0.495431  ,  0.11919708,\n",
       "        -1.4380518 ,  0.17811038,  0.7377153 ,  0.5510584 ,  0.7075279 ,\n",
       "         1.1559075 ,  0.5705943 ,  0.22935179,  0.3200445 , -0.65166086,\n",
       "         1.4495208 , -0.8629241 , -0.05805197, -1.1347663 ,  1.004785  ,\n",
       "        -0.25582698,  2.3080065 , -1.3774701 , -0.16714557, -0.4728523 ,\n",
       "        -1.4372277 ,  1.3368866 ,  0.01464313,  0.5985489 , -0.37597445,\n",
       "         0.51182234, -1.5252393 ,  0.60584587, -2.9130676 , -1.1159534 ,\n",
       "        -0.14140753, -1.1021402 ,  1.397143  ,  1.5230247 ,  0.65354085,\n",
       "         1.815462  ,  0.33811012, -1.1558837 ,  0.48027113,  0.05240138,\n",
       "         0.02901356,  0.51795346, -0.971759  ,  0.16275378,  0.01458144,\n",
       "         0.8366388 ,  0.2269535 , -0.02158557, -1.1719071 , -0.2607646 ,\n",
       "        -1.4453735 , -0.1418874 ,  1.9918427 , -0.5865743 ,  0.35886595,\n",
       "        -0.12084291, -0.18408358, -0.45723492,  0.15636307,  0.70685947,\n",
       "        -0.09497031,  0.30811098,  0.01517571, -0.24727868,  2.2701855 ,\n",
       "         2.3566713 , -0.50048554, -2.0282993 ,  1.9757402 ,  0.14506362,\n",
       "        -0.2487185 , -1.1246892 ,  1.0339407 ,  1.4384259 , -0.5863229 ,\n",
       "        -2.4991    ,  0.90630126, -0.10833961, -0.23900147, -0.7687877 ,\n",
       "        -0.67978686,  0.8919513 , -1.579165  ,  0.97121525,  0.13553938,\n",
       "         0.8470303 ,  0.8825826 , -1.6913337 , -1.2145957 , -0.23368162,\n",
       "         0.26049873, -2.0087314 ,  1.3616322 ,  0.8939088 ,  0.81229985,\n",
       "        -1.3150342 , -0.6988919 ,  0.20026983,  0.3398558 ,  0.59780633,\n",
       "         1.920397  , -0.45934403,  0.94610393,  0.32674715,  0.06754898,\n",
       "        -0.31501406,  1.1311955 , -2.2221937 , -1.619698  , -0.48569816,\n",
       "         0.95632964, -0.7013845 , -0.4515193 , -0.10762364,  1.8393785 ,\n",
       "        -0.3314518 ,  1.1110587 ,  0.32665858,  1.437385  ,  0.21785334,\n",
       "        -0.02685255,  0.8155648 , -0.8474512 , -0.16084734,  0.30731642,\n",
       "         1.2554971 , -1.5898173 , -0.84680915,  0.6028155 ,  2.3898318 ,\n",
       "        -1.406554  ,  1.8729275 , -1.4639331 , -1.1595654 , -0.14473227,\n",
       "         1.0879724 ,  0.1089352 , -1.9197878 ,  2.3723958 , -0.6549124 ,\n",
       "        -1.8623352 ,  0.02527883,  1.1989468 , -0.8088434 , -0.20896353,\n",
       "        -0.8898918 , -1.5436233 ,  1.0667562 , -0.7879561 ,  0.4027697 ,\n",
       "        -1.858026  ,  1.2967381 , -0.29190174,  0.36175463, -1.069391  ,\n",
       "        -1.0625281 , -0.15502842,  0.42109516,  1.4728146 ,  1.3384655 ,\n",
       "         0.5536009 , -0.7325453 ,  1.5325736 ,  0.73386586,  1.0381757 ,\n",
       "        -0.5963313 ,  0.16558228, -1.1155354 ,  0.05691316, -0.77655154,\n",
       "         0.49047762, -0.17724532, -0.305977  ,  1.0799773 ,  0.6528172 ,\n",
       "         0.39625666,  0.15352638,  1.7793586 ,  0.7820164 ,  1.06512   ,\n",
       "         0.49634305, -0.2831256 ,  0.7475186 ,  1.1316277 ,  0.11022664,\n",
       "        -0.11941344, -0.77821195,  0.12098634, -0.9673077 , -1.6406866 ,\n",
       "        -0.23080961, -1.7132465 ,  0.11592305,  0.6662302 ,  0.8236167 ],\n",
       "       dtype=float32))"
      ]
     },
     "execution_count": 6,
     "metadata": {},
     "output_type": "execute_result"
    }
   ],
   "source": [
    "# Tagを入力して文章ベクトルを取得する\n",
    "\n",
    "model.docvecs[0].shape, model.docvecs[0]"
   ]
  },
  {
   "cell_type": "code",
   "execution_count": 7,
   "metadata": {},
   "outputs": [
    {
     "data": {
      "text/plain": [
       "0.26375026"
      ]
     },
     "execution_count": 7,
     "metadata": {},
     "output_type": "execute_result"
    }
   ],
   "source": [
    "# Tagを指定して文章間の類似度を計算する\n",
    "\n",
    "model.docvecs.similarity(0, 1)"
   ]
  },
  {
   "cell_type": "code",
   "execution_count": 19,
   "metadata": {},
   "outputs": [
    {
     "name": "stdout",
     "output_type": "stream",
     "text": [
      "(1545, 0.6018795371055603)\n",
      "(508, 0.5896505117416382)\n",
      "(1565, 0.5745039582252502)\n",
      "(1269, 0.5629788637161255)\n",
      "(1402, 0.5572857856750488)\n",
      "(829, 0.5552029013633728)\n",
      "(1641, 0.5547364950180054)\n",
      "(102, 0.5538268685340881)\n",
      "(34, 0.549057126045227)\n",
      "(884, 0.5431392788887024)\n"
     ]
    }
   ],
   "source": [
    "# Tag指定をして似ているドキュメントを検索\n",
    "\n",
    "results = model.docvecs.most_similar(5, topn=10)\n",
    "for r in results:\n",
    "    print(r)"
   ]
  },
  {
   "cell_type": "code",
   "execution_count": 20,
   "metadata": {},
   "outputs": [
    {
     "name": "stdout",
     "output_type": "stream",
     "text": [
      "label:  1 0\n",
      "----------------------------------------------------------------------------------------------------\n",
      "\n",
      "\n",
      "    The gl2p1.lzh stuff under gfx/show on the Aminet sites includes a\n",
      "    utility called pic2hl, that is a filter for HamLab that can handle\n",
      "    the most commonly used kinds of .PIC and .CLP files.\n",
      "\n",
      "    The biggest problem is that the .CLP files don't usually contain a\n",
      "    palette, so you need to convert a .PIC with the right palette\n",
      "    first (which creates a \"ram:picpal\" file), and then convert the\n",
      "    .CLP files.\n",
      "\n",
      "----------------------------------------------------------------------------------------------------\n",
      "\n",
      ": Regardless of people's hidden motivations, the stated reasons for many\n",
      ": wars include religion.  Of course you can always claim that the REAL\n",
      ": reason was economics, politics, ethnic strife, or whatever.  But the\n",
      ": fact remains that the justification for many wars has been to conquer\n",
      ": the heathens.\n",
      "\n",
      ": If you want to say, for instance, that economics was the chief cause\n",
      ": of the Crusades, you could certainly make that point.  But someone\n",
      ": could come along and demonstrate that it was REALLY something else, in\n",
      ": the same manner you show that it was REALLY not religion.  You could\n",
      ": in this manner eliminate all possible causes for the Crusades.\n",
      ":         \n",
      "\n",
      "Scott,\n",
      "\n",
      "I don't have to make outrageous claims about religion's affecting and\n",
      "effecting history, for the purpsoe of a.a, all I have to do point out\n",
      "that many claims made here are wrong and do nothing to validate\n",
      "atheism. At no time have I made any statement that religion was the\n",
      "sole cause of anything, what I have done is point out that those who\n",
      "do make that kind of claim are mistaken, usually deliberately. \n",
      "\n",
      "To credit religion with the awesome power to dominate history is to\n",
      "misunderstand human nature, the function of religion and of course,\n",
      "history. I believe that those who distort history in this way know\n",
      "exaclty what they're doing, and do it only for affect.\n"
     ]
    }
   ],
   "source": [
    "# 上記の文章を確認\n",
    "\n",
    "print('label: ', mapping[5][1], mapping[926][1])\n",
    "print('-'*100)\n",
    "print(mapping[5][0])\n",
    "print('-'*100)\n",
    "print(mapping[926][0])"
   ]
  },
  {
   "cell_type": "code",
   "execution_count": 21,
   "metadata": {},
   "outputs": [
    {
     "data": {
      "text/plain": [
       "[('aircraft', 0.5637339353561401),\n",
       " ('boats', 0.48917779326438904),\n",
       " ('anatomy', 0.47251856327056885),\n",
       " ('involove', 0.4649195373058319),\n",
       " ('verifiable', 0.45714667439460754),\n",
       " ('\\tsalman', 0.4479588568210602),\n",
       " ('demonstrando', 0.4238179922103882),\n",
       " ('circulus', 0.41358861327171326),\n",
       " ('yugoslavian', 0.40271425247192383),\n",
       " ('jihad', 0.39356333017349243)]"
      ]
     },
     "execution_count": 21,
     "metadata": {},
     "output_type": "execute_result"
    }
   ],
   "source": [
    "# 似ている単語を検索\n",
    "\n",
    "model.most_similar(\"sports\")"
   ]
  },
  {
   "cell_type": "code",
   "execution_count": 23,
   "metadata": {},
   "outputs": [
    {
     "data": {
      "text/plain": [
       "((300,),\n",
       " array([-0.06490857,  0.01275508, -0.00576792, -0.0093552 ,  0.0161349 ,\n",
       "        -0.00082888,  0.03157507,  0.01849269,  0.01461186,  0.00967312,\n",
       "        -0.04008238, -0.0152828 , -0.00814676, -0.01575779, -0.01837089,\n",
       "        -0.00858114,  0.0342405 ,  0.01890115,  0.05266153,  0.02485517,\n",
       "         0.03257597,  0.02206599,  0.01342455, -0.03174436, -0.03429269,\n",
       "         0.00799914,  0.03100139,  0.02107637, -0.02542206,  0.01556518,\n",
       "        -0.00105748, -0.01976756,  0.03962172,  0.05466044, -0.05352968,\n",
       "         0.00738751, -0.01958803,  0.01288995, -0.01137692, -0.01749346,\n",
       "        -0.01511394, -0.03301285, -0.03764861,  0.05190384,  0.00391313,\n",
       "         0.01761065, -0.00891186, -0.03486608,  0.00872059,  0.01206035,\n",
       "         0.02430372, -0.04175483, -0.05225008, -0.02385634, -0.03538784,\n",
       "        -0.00045069,  0.06814318, -0.08107317,  0.02616814,  0.0247065 ,\n",
       "        -0.01601926,  0.02189146, -0.05006395,  0.01546109, -0.00237533,\n",
       "         0.0003402 ,  0.03095926,  0.04373609, -0.05711219, -0.00051636,\n",
       "        -0.03777844,  0.00618979, -0.00352419,  0.01537732,  0.00713101,\n",
       "        -0.02467   , -0.01940332, -0.01221153,  0.03496642, -0.04736413,\n",
       "        -0.02962491,  0.00240712, -0.03057238,  0.01555132, -0.00847899,\n",
       "         0.01489438,  0.01018216, -0.0113246 ,  0.01679342, -0.0165771 ,\n",
       "        -0.02486568, -0.03203421, -0.02845298,  0.02115363, -0.04205673,\n",
       "         0.02914744,  0.07595247,  0.01614514,  0.00563214,  0.01016673,\n",
       "         0.00240658, -0.07205562, -0.02162722,  0.01096063,  0.02938671,\n",
       "         0.03229219,  0.00876598, -0.0888732 , -0.0049634 ,  0.02156434,\n",
       "        -0.06105826,  0.01780297, -0.0392266 , -0.03838283,  0.01157201,\n",
       "         0.02906369, -0.02859688, -0.05006882, -0.0142079 ,  0.05840257,\n",
       "        -0.03056097,  0.01738098, -0.01908257,  0.0598182 ,  0.05990902,\n",
       "         0.0177599 , -0.04616379,  0.03736198, -0.00471981, -0.01333407,\n",
       "        -0.07810961,  0.01427763, -0.00862428, -0.00473608, -0.01905417,\n",
       "         0.01026511,  0.02067267, -0.00927829, -0.01474379, -0.00873661,\n",
       "        -0.02609076,  0.04617934,  0.0197353 ,  0.04183757, -0.00088466,\n",
       "         0.06162135, -0.02239178,  0.04263905,  0.05219556,  0.01508136,\n",
       "         0.00263585, -0.01938404, -0.00053078,  0.0469552 ,  0.02917084,\n",
       "         0.0324302 ,  0.01747154, -0.06488422, -0.0199385 , -0.03467142,\n",
       "        -0.0407491 ,  0.00027804,  0.03194641, -0.02493451, -0.00667672,\n",
       "         0.00317232,  0.0441364 ,  0.01512068,  0.01731396, -0.04986461,\n",
       "        -0.03055731,  0.04060959, -0.01478784,  0.0650466 ,  0.00020012,\n",
       "        -0.01187484,  0.0483253 , -0.03813934, -0.07003306,  0.02846158,\n",
       "         0.02035801,  0.04888141,  0.00600742,  0.00779014, -0.01424734,\n",
       "         0.11064865,  0.00719872,  0.03739968,  0.00608507,  0.00343257,\n",
       "         0.01173827, -0.03450663,  0.03409158, -0.03453455, -0.01837863,\n",
       "         0.04837275, -0.00851127,  0.02656818,  0.01185648,  0.00894735,\n",
       "         0.00039821, -0.00069346,  0.01905702,  0.01120973,  0.05003847,\n",
       "        -0.00809009,  0.01391018, -0.0490615 ,  0.0057896 ,  0.04791566,\n",
       "         0.01083802, -0.00886863, -0.00066954, -0.00531947, -0.02267735,\n",
       "         0.03536559,  0.00706546,  0.00683784, -0.01566201, -0.04899061,\n",
       "         0.01950202, -0.03261244,  0.01243311, -0.00851555,  0.00524618,\n",
       "        -0.00700133, -0.00478906, -0.03370902, -0.01552621,  0.00871424,\n",
       "         0.05064989,  0.01303894, -0.00958075,  0.00433715,  0.02876249,\n",
       "        -0.0036429 , -0.06073398, -0.02893036,  0.05891158, -0.00575271,\n",
       "         0.01741996,  0.00808716, -0.00629258, -0.0843901 ,  0.01842794,\n",
       "        -0.03399439, -0.0585037 , -0.01184626, -0.00826844, -0.00307289,\n",
       "        -0.01716362,  0.00278066, -0.00863971, -0.05969019,  0.02114435,\n",
       "         0.03436027, -0.01106328,  0.01810046,  0.02512553, -0.04674681,\n",
       "        -0.0169762 ,  0.02254023, -0.01164853,  0.05922439,  0.0171172 ,\n",
       "        -0.04432391, -0.0312754 , -0.00935726,  0.0164589 ,  0.00333566,\n",
       "        -0.01996263, -0.03460674, -0.05023923,  0.03281617, -0.0081941 ,\n",
       "         0.00546217,  0.05024961,  0.04964663,  0.0351521 ,  0.06292199,\n",
       "         0.03079823, -0.01482456,  0.02389707, -0.01313702, -0.01177507,\n",
       "        -0.00599956,  0.03390644,  0.01067796,  0.04891026,  0.01358852,\n",
       "        -0.01529486, -0.00312535, -0.00923918, -0.02830962,  0.01730074,\n",
       "        -0.0078969 ,  0.00061595,  0.01045373, -0.00877069,  0.01499177],\n",
       "       dtype=float32))"
      ]
     },
     "execution_count": 23,
     "metadata": {},
     "output_type": "execute_result"
    }
   ],
   "source": [
    "# 新たに文章を入力して文章ベクトルを取得する\n",
    "\n",
    "doc, target = sentence2words(valid.data[0]), valid.target[0]\n",
    "vec = model.infer_vector(doc)\n",
    "vec.shape, vec"
   ]
  },
  {
   "cell_type": "code",
   "execution_count": 31,
   "metadata": {},
   "outputs": [
    {
     "name": "stdout",
     "output_type": "stream",
     "text": [
      "(253, 0.5864554643630981)\n",
      "(888, 0.5795363783836365)\n",
      "(1545, 0.5747285485267639)\n",
      "(972, 0.5704496502876282)\n",
      "(77, 0.5613250732421875)\n",
      "(1469, 0.5582405924797058)\n",
      "(1181, 0.557461678981781)\n",
      "(913, 0.5556109547615051)\n",
      "(860, 0.5546671152114868)\n",
      "(355, 0.5516072511672974)\n"
     ]
    }
   ],
   "source": [
    "# 新たに文章を入力して似ているドキュメントを検索\n",
    "\n",
    "doc, target = sentence2words(valid.data[9]), valid.target[9]\n",
    "vec = model.infer_vector(doc)\n",
    "results = model.docvecs.most_similar([vec])\n",
    "for r in results:\n",
    "    print(r)"
   ]
  },
  {
   "cell_type": "code",
   "execution_count": 32,
   "metadata": {},
   "outputs": [
    {
     "name": "stdout",
     "output_type": "stream",
     "text": [
      "label:  2 1\n",
      "----------------------------------------------------------------------------------------------------\n",
      "Is there a way to use the mouse when running a DOS app (windowed) in\n",
      "win 3.1?  When you window a dos apps (in enhanced mode), I can see\n",
      "where the mouse cursor was, but it doesn't work!  Any help\n",
      "would be greatly appreciated.  Thank you\n",
      "----------------------------------------------------------------------------------------------------\n",
      "\n",
      "\n",
      "\n",
      "    Yes, please create the group alt.raytrace soon!!\n",
      "I'm hooked on pov.\n",
      "geez. like I don't have anything better to do....\n",
      "OH!! dave letterman is on...\n",
      "\n"
     ]
    }
   ],
   "source": [
    "# 上記の文章を確認\n",
    "\n",
    "print('label: ', valid.target[9], mapping[253][1])\n",
    "print('-'*100)\n",
    "print(valid.data[9])\n",
    "print('-'*100)\n",
    "print(mapping[1335][0])"
   ]
  },
  {
   "cell_type": "code",
   "execution_count": 33,
   "metadata": {},
   "outputs": [
    {
     "data": {
      "text/plain": [
       "[(666, 0.3500942289829254),\n",
       " (298, 0.31504082679748535),\n",
       " (481, 0.30329084396362305),\n",
       " (1527, 0.28344038128852844),\n",
       " (223, 0.27855032682418823),\n",
       " (167, 0.27099287509918213),\n",
       " (1468, 0.2677684724330902),\n",
       " (826, 0.2666805386543274),\n",
       " (842, 0.26442211866378784),\n",
       " (874, 0.2604076862335205)]"
      ]
     },
     "execution_count": 33,
     "metadata": {},
     "output_type": "execute_result"
    }
   ],
   "source": [
    "# 文章間のベクトルを計算してドキュメント検索\n",
    "\n",
    "model.docvecs.most_similar(positive=[3], negative=[926], topn=10)"
   ]
  }
 ],
 "metadata": {
  "kernelspec": {
   "display_name": "Python 3",
   "language": "python",
   "name": "python3"
  },
  "language_info": {
   "codemirror_mode": {
    "name": "ipython",
    "version": 3
   },
   "file_extension": ".py",
   "mimetype": "text/x-python",
   "name": "python",
   "nbconvert_exporter": "python",
   "pygments_lexer": "ipython3",
   "version": "3.6.6"
  }
 },
 "nbformat": 4,
 "nbformat_minor": 2
}
