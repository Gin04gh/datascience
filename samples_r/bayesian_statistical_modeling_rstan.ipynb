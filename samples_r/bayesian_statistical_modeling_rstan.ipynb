{
 "cells": [
  {
   "cell_type": "code",
   "execution_count": 2,
   "metadata": {},
   "outputs": [
    {
     "name": "stderr",
     "output_type": "stream",
     "text": [
      "also installing the dependencies ‘StanHeaders’, ‘inline’, ‘gridExtra’, ‘RcppEigen’\n",
      "\n",
      "Updating HTML index of packages in '.Library'\n",
      "Making 'packages.html' ... done\n"
     ]
    }
   ],
   "source": [
    "install.packages(\"rstan\")"
   ]
  },
  {
   "cell_type": "code",
   "execution_count": 3,
   "metadata": {},
   "outputs": [
    {
     "name": "stderr",
     "output_type": "stream",
     "text": [
      "Loading required package: ggplot2\n",
      "Loading required package: StanHeaders\n",
      "rstan (Version 2.17.3, GitRev: 2e1f913d3ca3)\n",
      "For execution on a local, multicore CPU with excess RAM we recommend calling\n",
      "options(mc.cores = parallel::detectCores()).\n",
      "To avoid recompilation of unchanged Stan programs, we recommend calling\n",
      "rstan_options(auto_write = TRUE)\n"
     ]
    }
   ],
   "source": [
    "library(rstan)"
   ]
  },
  {
   "cell_type": "code",
   "execution_count": 1,
   "metadata": {},
   "outputs": [
    {
     "ename": "ERROR",
     "evalue": "Error in loadNamespace(name): there is no package called ‘paralell’\n",
     "output_type": "error",
     "traceback": [
      "Error in loadNamespace(name): there is no package called ‘paralell’\nTraceback:\n",
      "1. options(mc.cores = paralell::detectCores())",
      "2. paralell::detectCores",
      "3. getExportedValue(pkg, name)",
      "4. asNamespace(ns)",
      "5. getNamespace(ns)",
      "6. tryCatch(loadNamespace(name), error = function(e) stop(e))",
      "7. tryCatchList(expr, classes, parentenv, handlers)",
      "8. tryCatchOne(expr, names, parentenv, handlers[[1L]])",
      "9. value[[3L]](cond)"
     ]
    }
   ],
   "source": [
    "options(mc.cores=paralell::detectCores())"
   ]
  },
  {
   "cell_type": "code",
   "execution_count": 7,
   "metadata": {},
   "outputs": [],
   "source": [
    "rstan_options(auto_write=TRUE)"
   ]
  },
  {
   "cell_type": "code",
   "execution_count": 8,
   "metadata": {},
   "outputs": [
    {
     "name": "stdout",
     "output_type": "stream",
     "text": [
      " [1] 6.7 3.2 4.8 6.8 6.5 4.8 4.9 5.4 5.8 5.0\n",
      " [1] 10  7  5  9  5 10  5 11  6 11\n"
     ]
    }
   ],
   "source": [
    "# データ\n",
    "\n",
    "N <- 10\n",
    "x_samples <- 1:N\n",
    "y_samples <- 1:N\n",
    "\n",
    "for(i in 1:N){\n",
    "    x <- round(runif(1, min=3, max=7), 1) # 3.0〜7.0までの乱数\n",
    "    mu <- exp(1.5+0.1*x)\n",
    "    y <- rpois(1, lambda=mu)\n",
    "    x_samples[i] <- x\n",
    "    y_samples[i] <- y\n",
    "}\n",
    "\n",
    "print(x_samples)\n",
    "print(y_samples)"
   ]
  },
  {
   "cell_type": "code",
   "execution_count": null,
   "metadata": {},
   "outputs": [],
   "source": [
    "stan_data <- list(N=N, x=x_samples, y=y_samples)\n",
    "model <- \"\n",
    "data {\n",
    "    int<lower=1>N;\n",
    "    vector[N] x;\n",
    "    int<lower=0> y[N];\n",
    "}\n",
    "parameters {\n",
    "    real beta1;\n",
    "    real beta2;\n",
    "}\n",
    "model {\n",
    "    for (i in 1:N){\n",
    "        y[i] ~ poisson(exp(beta1+beta2*x[i]));\n",
    "    }\n",
    "    beta1 ~ normal(0, 1000);\n",
    "    beta2 ~ normal(0, 1000);\n",
    "}\n",
    "\"\n",
    "fit <- stan(model_code=model, data=stan_data, iter=1000, chains=1)\n",
    "fit"
   ]
  },
  {
   "cell_type": "code",
   "execution_count": null,
   "metadata": {},
   "outputs": [],
   "source": []
  }
 ],
 "metadata": {
  "kernelspec": {
   "display_name": "R",
   "language": "R",
   "name": "ir"
  },
  "language_info": {
   "codemirror_mode": "r",
   "file_extension": ".r",
   "mimetype": "text/x-r-source",
   "name": "R",
   "pygments_lexer": "r",
   "version": "3.4.1"
  }
 },
 "nbformat": 4,
 "nbformat_minor": 2
}
