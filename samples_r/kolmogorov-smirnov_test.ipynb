{
 "cells": [
  {
   "cell_type": "code",
   "execution_count": 11,
   "metadata": {},
   "outputs": [
    {
     "name": "stdout",
     "output_type": "stream",
     "text": [
      " [1] 10.081280 10.989260 11.976095  9.871060 10.226993  9.995394 11.522870\n",
      " [8]  9.682398  7.903984  8.405706  9.751868  9.450809 10.414839 10.111397\n",
      "[15]  8.531761 10.691346 10.734485 10.307675 10.023560 11.037216 10.296799\n",
      "[22] 11.499129 10.430850  9.957131 10.530283  7.346411 10.392198  9.351834\n",
      "[29]  9.391532  9.149497  8.903348  9.486437 11.278456 11.179857 11.532895\n",
      "[36]  9.712196 10.426064  9.943266 11.229832  8.681717 10.091832 10.880342\n",
      "[43]  9.469395  9.135975  9.831635  8.352017  9.252437  8.701909 10.199948\n",
      "[50] 10.204898\n"
     ]
    },
    {
     "data": {
      "text/plain": [
       "\n",
       "\tOne-sample Kolmogorov-Smirnov test\n",
       "\n",
       "data:  samples_n\n",
       "D = 0.068812, p-value = 0.9588\n",
       "alternative hypothesis: two-sided\n"
      ]
     },
     "metadata": {},
     "output_type": "display_data"
    }
   ],
   "source": [
    "samples_n = rnorm(mean=10, 50)\n",
    "print(samples_n)\n",
    "\n",
    "ks.test(x=samples_n, y=\"pnorm\", mean=mean(samples_n), sd=sd(samples_n)) # Kolmogorov-Smirnovの正規性の検定"
   ]
  },
  {
   "cell_type": "code",
   "execution_count": 22,
   "metadata": {},
   "outputs": [
    {
     "name": "stdout",
     "output_type": "stream",
     "text": [
      " [1]  0.347475534 37.293247634  8.843936249  9.386009411 13.482652446\n",
      " [6]  0.439636540 17.790014054  2.648169487  7.447487515  6.090016300\n",
      "[11]  0.260245595  1.365745187  9.101584954 38.125350183  3.230938101\n",
      "[16]  8.454147655 35.688517147 14.312719236  1.380636918  7.955245712\n",
      "[21]  0.140621626  4.346789420  1.773368588 26.394122074  2.226315518\n",
      "[26]  7.169613121  5.330746537 20.509830228 31.903846560 26.679619754\n",
      "[31]  9.764500977  3.170679500  7.803665205 11.802310645  2.083338704\n",
      "[36]  5.938486387  4.794331524  0.838715122  6.089523174 41.362402791\n",
      "[41]  2.184935664  4.365816126  0.065471913  5.026049718  5.202364717\n",
      "[46] 33.876577242  9.244429902 19.213010122  0.003544809 17.090290635\n"
     ]
    },
    {
     "data": {
      "text/plain": [
       "\n",
       "\tOne-sample Kolmogorov-Smirnov test\n",
       "\n",
       "data:  samples_p\n",
       "D = 0.23577, p-value = 0.006279\n",
       "alternative hypothesis: two-sided\n"
      ]
     },
     "metadata": {},
     "output_type": "display_data"
    }
   ],
   "source": [
    "samples_p = rexp(rate=1/10, 50)\n",
    "print(samples_p)\n",
    "\n",
    "ks.test(x=samples_p, y=\"pnorm\", mean=mean(samples_p), sd=sd(samples_p))"
   ]
  },
  {
   "cell_type": "code",
   "execution_count": 23,
   "metadata": {},
   "outputs": [
    {
     "data": {
      "text/plain": [
       "R version 3.4.1 (2017-06-30)\n",
       "Platform: x86_64-pc-linux-gnu (64-bit)\n",
       "Running under: Ubuntu 18.04 LTS\n",
       "\n",
       "Matrix products: default\n",
       "BLAS: /opt/conda/lib/R/lib/libRblas.so\n",
       "LAPACK: /opt/conda/lib/R/lib/libRlapack.so\n",
       "\n",
       "locale:\n",
       " [1] LC_CTYPE=en_US.UTF-8       LC_NUMERIC=C              \n",
       " [3] LC_TIME=en_US.UTF-8        LC_COLLATE=en_US.UTF-8    \n",
       " [5] LC_MONETARY=en_US.UTF-8    LC_MESSAGES=en_US.UTF-8   \n",
       " [7] LC_PAPER=en_US.UTF-8       LC_NAME=C                 \n",
       " [9] LC_ADDRESS=C               LC_TELEPHONE=C            \n",
       "[11] LC_MEASUREMENT=en_US.UTF-8 LC_IDENTIFICATION=C       \n",
       "\n",
       "attached base packages:\n",
       "[1] stats     graphics  grDevices utils     datasets  methods   base     \n",
       "\n",
       "loaded via a namespace (and not attached):\n",
       " [1] compiler_3.4.1  magrittr_1.5    IRdisplay_0.4.4 pbdZMQ_0.3-2   \n",
       " [5] tools_3.4.1     htmltools_0.3.6 base64enc_0.1-3 crayon_1.3.4   \n",
       " [9] Rcpp_0.12.17    uuid_0.1-2      stringi_1.2.3   IRkernel_0.8.12\n",
       "[13] jsonlite_1.5    stringr_1.3.1   digest_0.6.15   repr_0.15.0    \n",
       "[17] evaluate_0.10.1"
      ]
     },
     "metadata": {},
     "output_type": "display_data"
    }
   ],
   "source": [
    "sessionInfo()"
   ]
  }
 ],
 "metadata": {
  "kernelspec": {
   "display_name": "R",
   "language": "R",
   "name": "ir"
  },
  "language_info": {
   "codemirror_mode": "r",
   "file_extension": ".r",
   "mimetype": "text/x-r-source",
   "name": "R",
   "pygments_lexer": "r",
   "version": "3.4.1"
  }
 },
 "nbformat": 4,
 "nbformat_minor": 2
}
