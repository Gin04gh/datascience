{
 "cells": [
  {
   "cell_type": "code",
   "execution_count": 1,
   "metadata": {},
   "outputs": [
    {
     "name": "stdout",
     "output_type": "stream",
     "text": [
      " [1] 10.287855 10.033813  8.987967  9.660374  9.758389  8.793577  8.960562\n",
      " [8] 10.065957  9.536742 11.525687 10.004161 10.454502  9.297979 11.014342\n",
      "[15]  9.903537 10.468371 10.171404  9.768747  9.976476 11.595568  9.733286\n",
      "[22] 10.441884 11.083704  8.527834  9.546236  9.552734  9.968087  9.995325\n",
      "[29]  9.300359  9.374224  7.827823  8.092923  9.005148 10.999462  9.135361\n",
      "[36] 11.854466 11.689529 10.504974  9.076716  9.142695 10.084931  9.484755\n",
      "[43] 11.897925  7.105301  9.659971 11.397247 10.845338  9.586632  9.484041\n",
      "[50] 10.665781\n"
     ]
    },
    {
     "data": {
      "text/plain": [
       "\n",
       "\tShapiro-Wilk normality test\n",
       "\n",
       "data:  samples_n\n",
       "W = 0.97659, p-value = 0.4188\n"
      ]
     },
     "metadata": {},
     "output_type": "display_data"
    }
   ],
   "source": [
    "samples_n = rnorm(mean=10, 50)\n",
    "print(samples_n)\n",
    "\n",
    "shapiro.test(x=samples_n) # Sapiro-Wilkの正規性の検定"
   ]
  },
  {
   "cell_type": "code",
   "execution_count": 2,
   "metadata": {},
   "outputs": [
    {
     "name": "stdout",
     "output_type": "stream",
     "text": [
      " [1]  6.7764127 21.1316918 13.4924122 20.9567768 12.3553183  1.8425634\n",
      " [7] 11.9096264  3.2528650  4.8727635  6.0255055  0.5036003  0.4538959\n",
      "[13]  6.3586443  5.0801530 16.0541753  8.4664502  4.0687656  1.7689972\n",
      "[19]  8.3440426  5.5782234  7.6223831 16.7186556 25.0727425 15.6344605\n",
      "[25] 12.3026379  7.3910210  5.0391952 17.3149015  8.2327401  4.1145025\n",
      "[31]  1.2242087  5.9863888 48.2056155  1.1352835  7.4003030  6.2193397\n",
      "[37] 16.7580206 32.0210800  5.6518400  0.4872485 10.6361089 19.7448290\n",
      "[43]  3.5213132 26.4121221 14.2908622  2.9408609  2.9051565 28.9285601\n",
      "[49] 17.0331790 16.6756993\n"
     ]
    },
    {
     "data": {
      "text/plain": [
       "\n",
       "\tShapiro-Wilk normality test\n",
       "\n",
       "data:  samples_p\n",
       "W = 0.85935, p-value = 2.799e-05\n"
      ]
     },
     "metadata": {},
     "output_type": "display_data"
    }
   ],
   "source": [
    "samples_p = rexp(rate=1/10, 50)\n",
    "print(samples_p)\n",
    "\n",
    "shapiro.test(x=samples_p) # Sapiro-Wilkの正規性の検定"
   ]
  },
  {
   "cell_type": "code",
   "execution_count": 3,
   "metadata": {},
   "outputs": [
    {
     "data": {
      "text/plain": [
       "R version 3.4.1 (2017-06-30)\n",
       "Platform: x86_64-pc-linux-gnu (64-bit)\n",
       "Running under: Ubuntu 18.04 LTS\n",
       "\n",
       "Matrix products: default\n",
       "BLAS: /opt/conda/lib/R/lib/libRblas.so\n",
       "LAPACK: /opt/conda/lib/R/lib/libRlapack.so\n",
       "\n",
       "locale:\n",
       " [1] LC_CTYPE=en_US.UTF-8       LC_NUMERIC=C              \n",
       " [3] LC_TIME=en_US.UTF-8        LC_COLLATE=en_US.UTF-8    \n",
       " [5] LC_MONETARY=en_US.UTF-8    LC_MESSAGES=en_US.UTF-8   \n",
       " [7] LC_PAPER=en_US.UTF-8       LC_NAME=C                 \n",
       " [9] LC_ADDRESS=C               LC_TELEPHONE=C            \n",
       "[11] LC_MEASUREMENT=en_US.UTF-8 LC_IDENTIFICATION=C       \n",
       "\n",
       "attached base packages:\n",
       "[1] stats     graphics  grDevices utils     datasets  methods   base     \n",
       "\n",
       "loaded via a namespace (and not attached):\n",
       " [1] compiler_3.4.1  magrittr_1.5    IRdisplay_0.4.4 pbdZMQ_0.3-2   \n",
       " [5] tools_3.4.1     htmltools_0.3.6 base64enc_0.1-3 crayon_1.3.4   \n",
       " [9] Rcpp_0.12.17    uuid_0.1-2      stringi_1.2.3   IRkernel_0.8.12\n",
       "[13] jsonlite_1.5    stringr_1.3.1   digest_0.6.15   repr_0.15.0    \n",
       "[17] evaluate_0.10.1"
      ]
     },
     "metadata": {},
     "output_type": "display_data"
    }
   ],
   "source": [
    "sessionInfo()"
   ]
  }
 ],
 "metadata": {
  "kernelspec": {
   "display_name": "R",
   "language": "R",
   "name": "ir"
  },
  "language_info": {
   "codemirror_mode": "r",
   "file_extension": ".r",
   "mimetype": "text/x-r-source",
   "name": "R",
   "pygments_lexer": "r",
   "version": "3.4.1"
  }
 },
 "nbformat": 4,
 "nbformat_minor": 2
}
