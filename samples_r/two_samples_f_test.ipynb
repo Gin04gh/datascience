{
 "cells": [
  {
   "cell_type": "code",
   "execution_count": 5,
   "metadata": {},
   "outputs": [
    {
     "data": {
      "text/plain": [
       "\n",
       "\tF test to compare two variances\n",
       "\n",
       "data:  samples_x and samples_y\n",
       "F = 0.72165, num df = 24, denom df = 24, p-value = 0.4301\n",
       "alternative hypothesis: true ratio of variances is not equal to 1\n",
       "95 percent confidence interval:\n",
       " 0.3180083 1.6376216\n",
       "sample estimates:\n",
       "ratio of variances \n",
       "          0.721649 \n"
      ]
     },
     "metadata": {},
     "output_type": "display_data"
    }
   ],
   "source": [
    "samples_x = rnorm(mean=10, sd=1, 25)\n",
    "samples_y = rnorm(mean=10, sd=1, 25)\n",
    "\n",
    "var.test(samples_x, samples_y) # 等分散性の検定"
   ]
  },
  {
   "cell_type": "code",
   "execution_count": 6,
   "metadata": {},
   "outputs": [
    {
     "data": {
      "text/plain": [
       "\n",
       "\tF test to compare two variances\n",
       "\n",
       "data:  samples_x and samples_y\n",
       "F = 0.23506, num df = 24, denom df = 24, p-value = 0.0007413\n",
       "alternative hypothesis: true ratio of variances is not equal to 1\n",
       "95 percent confidence interval:\n",
       " 0.1035852 0.5334244\n",
       "sample estimates:\n",
       "ratio of variances \n",
       "         0.2350636 \n"
      ]
     },
     "metadata": {},
     "output_type": "display_data"
    }
   ],
   "source": [
    "samples_x = rnorm(mean=10, sd=1, 25)\n",
    "samples_y = rnorm(mean=10, sd=2, 25)\n",
    "\n",
    "var.test(samples_x, samples_y) # 等分散性の検定"
   ]
  },
  {
   "cell_type": "code",
   "execution_count": 7,
   "metadata": {},
   "outputs": [
    {
     "data": {
      "text/plain": [
       "R version 3.4.1 (2017-06-30)\n",
       "Platform: x86_64-pc-linux-gnu (64-bit)\n",
       "Running under: Ubuntu 18.04 LTS\n",
       "\n",
       "Matrix products: default\n",
       "BLAS: /opt/conda/lib/R/lib/libRblas.so\n",
       "LAPACK: /opt/conda/lib/R/lib/libRlapack.so\n",
       "\n",
       "locale:\n",
       " [1] LC_CTYPE=en_US.UTF-8       LC_NUMERIC=C              \n",
       " [3] LC_TIME=en_US.UTF-8        LC_COLLATE=en_US.UTF-8    \n",
       " [5] LC_MONETARY=en_US.UTF-8    LC_MESSAGES=en_US.UTF-8   \n",
       " [7] LC_PAPER=en_US.UTF-8       LC_NAME=C                 \n",
       " [9] LC_ADDRESS=C               LC_TELEPHONE=C            \n",
       "[11] LC_MEASUREMENT=en_US.UTF-8 LC_IDENTIFICATION=C       \n",
       "\n",
       "attached base packages:\n",
       "[1] stats     graphics  grDevices utils     datasets  methods   base     \n",
       "\n",
       "loaded via a namespace (and not attached):\n",
       " [1] compiler_3.4.1  magrittr_1.5    IRdisplay_0.4.4 pbdZMQ_0.3-2   \n",
       " [5] tools_3.4.1     htmltools_0.3.6 base64enc_0.1-3 crayon_1.3.4   \n",
       " [9] Rcpp_0.12.17    uuid_0.1-2      stringi_1.2.3   IRkernel_0.8.12\n",
       "[13] jsonlite_1.5    stringr_1.3.1   digest_0.6.15   repr_0.15.0    \n",
       "[17] evaluate_0.10.1"
      ]
     },
     "metadata": {},
     "output_type": "display_data"
    }
   ],
   "source": [
    "sessionInfo()"
   ]
  }
 ],
 "metadata": {
  "kernelspec": {
   "display_name": "R",
   "language": "R",
   "name": "ir"
  },
  "language_info": {
   "codemirror_mode": "r",
   "file_extension": ".r",
   "mimetype": "text/x-r-source",
   "name": "R",
   "pygments_lexer": "r",
   "version": "3.4.1"
  }
 },
 "nbformat": 4,
 "nbformat_minor": 2
}
