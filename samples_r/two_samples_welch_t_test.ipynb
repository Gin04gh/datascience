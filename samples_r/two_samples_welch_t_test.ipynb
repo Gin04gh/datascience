{
 "cells": [
  {
   "cell_type": "markdown",
   "metadata": {},
   "source": [
    "* ウエルチのt検定\n",
    "* 帰無仮説「２標本間の母平均は等しい」"
   ]
  },
  {
   "cell_type": "code",
   "execution_count": 1,
   "metadata": {},
   "outputs": [
    {
     "data": {
      "text/plain": [
       "\n",
       "\tWelch Two Sample t-test\n",
       "\n",
       "data:  samples_x and samples_y\n",
       "t = -1.2563, df = 30.928, p-value = 0.2184\n",
       "alternative hypothesis: true difference in means is not equal to 0\n",
       "95 percent confidence interval:\n",
       " -1.6496688  0.3920939\n",
       "sample estimates:\n",
       "mean of x mean of y \n",
       " 9.560334 10.189122 \n"
      ]
     },
     "metadata": {},
     "output_type": "display_data"
    }
   ],
   "source": [
    "samples_x = rnorm(mean=10, sd=1, 25)\n",
    "samples_y = rnorm(mean=10, sd=2, 25)\n",
    "\n",
    "t.test(samples_x, samples_y, var.equal=FALSE) # Welchのt検定（等分散性不明）"
   ]
  },
  {
   "cell_type": "code",
   "execution_count": 2,
   "metadata": {},
   "outputs": [
    {
     "data": {
      "text/plain": [
       "\n",
       "\tWelch Two Sample t-test\n",
       "\n",
       "data:  samples_x and samples_y\n",
       "t = -3.9009, df = 34.61, p-value = 0.0004209\n",
       "alternative hypothesis: true difference in means is not equal to 0\n",
       "95 percent confidence interval:\n",
       " -3.0655416 -0.9664086\n",
       "sample estimates:\n",
       "mean of x mean of y \n",
       " 10.23483  12.25081 \n"
      ]
     },
     "metadata": {},
     "output_type": "display_data"
    }
   ],
   "source": [
    "samples_x = rnorm(mean=10, sd=1, 25)\n",
    "samples_y = rnorm(mean=12, sd=2, 25)\n",
    "\n",
    "t.test(samples_x, samples_y, var.equal=FALSE) # Welchのt検定（等分散性不明）"
   ]
  },
  {
   "cell_type": "code",
   "execution_count": 3,
   "metadata": {},
   "outputs": [
    {
     "data": {
      "text/plain": [
       "R version 3.4.1 (2017-06-30)\n",
       "Platform: x86_64-pc-linux-gnu (64-bit)\n",
       "Running under: Ubuntu 18.04 LTS\n",
       "\n",
       "Matrix products: default\n",
       "BLAS: /opt/conda/lib/R/lib/libRblas.so\n",
       "LAPACK: /opt/conda/lib/R/lib/libRlapack.so\n",
       "\n",
       "locale:\n",
       " [1] LC_CTYPE=en_US.UTF-8       LC_NUMERIC=C              \n",
       " [3] LC_TIME=en_US.UTF-8        LC_COLLATE=en_US.UTF-8    \n",
       " [5] LC_MONETARY=en_US.UTF-8    LC_MESSAGES=en_US.UTF-8   \n",
       " [7] LC_PAPER=en_US.UTF-8       LC_NAME=C                 \n",
       " [9] LC_ADDRESS=C               LC_TELEPHONE=C            \n",
       "[11] LC_MEASUREMENT=en_US.UTF-8 LC_IDENTIFICATION=C       \n",
       "\n",
       "attached base packages:\n",
       "[1] stats     graphics  grDevices utils     datasets  methods   base     \n",
       "\n",
       "loaded via a namespace (and not attached):\n",
       " [1] compiler_3.4.1  magrittr_1.5    IRdisplay_0.4.4 pbdZMQ_0.3-2   \n",
       " [5] tools_3.4.1     htmltools_0.3.6 base64enc_0.1-3 crayon_1.3.4   \n",
       " [9] Rcpp_0.12.17    uuid_0.1-2      stringi_1.2.3   IRkernel_0.8.12\n",
       "[13] jsonlite_1.5    stringr_1.3.1   digest_0.6.15   repr_0.15.0    \n",
       "[17] evaluate_0.10.1"
      ]
     },
     "metadata": {},
     "output_type": "display_data"
    }
   ],
   "source": [
    "sessionInfo()"
   ]
  }
 ],
 "metadata": {
  "kernelspec": {
   "display_name": "R",
   "language": "R",
   "name": "ir"
  },
  "language_info": {
   "codemirror_mode": "r",
   "file_extension": ".r",
   "mimetype": "text/x-r-source",
   "name": "R",
   "pygments_lexer": "r",
   "version": "3.4.1"
  }
 },
 "nbformat": 4,
 "nbformat_minor": 2
}
