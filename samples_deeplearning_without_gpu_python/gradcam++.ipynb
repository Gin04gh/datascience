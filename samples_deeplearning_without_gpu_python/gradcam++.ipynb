{
 "cells": [
  {
   "cell_type": "code",
   "execution_count": 19,
   "metadata": {},
   "outputs": [],
   "source": [
    "import gzip\n",
    "import numpy as np\n",
    "import matplotlib\n",
    "import matplotlib.pyplot as plt\n",
    "from sklearn import metrics, manifold\n",
    "import chainer\n",
    "import chainer.functions as F\n",
    "import chainer.links as L\n",
    "from chainer.training import extensions\n",
    "from PIL import Image\n",
    "from tqdm import tqdm\n",
    "\n",
    "import warnings\n",
    "warnings.filterwarnings('ignore')"
   ]
  },
  {
   "cell_type": "code",
   "execution_count": 23,
   "metadata": {},
   "outputs": [
    {
     "data": {
      "text/plain": [
       "((10000, 28, 28), (10000,), (1000, 28, 28), (1000,))"
      ]
     },
     "execution_count": 23,
     "metadata": {},
     "output_type": "execute_result"
    }
   ],
   "source": [
    "# http://yann.lecun.com/exdb/mnist/\n",
    "\n",
    "with gzip.open('./data/train-images-idx3-ubyte.gz', 'rb') as f:\n",
    "    train_x = np.frombuffer(f.read(), np.uint8, offset=16)\n",
    "    train_x = train_x.reshape(60000, 28, 28)\n",
    "    \n",
    "with gzip.open('./data/t10k-images-idx3-ubyte.gz', 'rb') as f:\n",
    "    valid_x = np.frombuffer(f.read(), np.uint8, offset=16)\n",
    "    valid_x = valid_x.reshape(10000, 28, 28)\n",
    "\n",
    "with gzip.open('./data/train-labels-idx1-ubyte.gz', 'rb') as f:\n",
    "    train_y = np.frombuffer(f.read(), np.uint8, offset=8)\n",
    "    \n",
    "with gzip.open('./data/t10k-labels-idx1-ubyte.gz', 'rb') as f:\n",
    "    valid_y = np.frombuffer(f.read(), np.uint8, offset=8)\n",
    "    \n",
    "train_sample_index = np.random.choice(60000, size=10000)\n",
    "train_x_sample = train_x[train_sample_index, :, :]\n",
    "train_y_sample = train_y[train_sample_index]\n",
    "valid_sample_index = np.random.choice(10000, size=1000)\n",
    "valid_x_sample = valid_x[valid_sample_index, :, :]\n",
    "valid_y_sample = valid_y[valid_sample_index]\n",
    "\n",
    "train_x_sample.shape, train_y_sample.shape, valid_x_sample.shape, valid_y_sample.shape"
   ]
  },
  {
   "cell_type": "code",
   "execution_count": 24,
   "metadata": {},
   "outputs": [],
   "source": [
    "class TransformDataset(chainer.dataset.DatasetMixin):\n",
    "    \n",
    "    def __init__(self, data):\n",
    "        self.data = data\n",
    "        \n",
    "    def __len__(self):\n",
    "        return len(self.data)\n",
    "    \n",
    "    def get_example(self, i):\n",
    "        x, y = self.data[i][0], self.data[i][1]\n",
    "        return x, y\n",
    "    \n",
    "def to_rgb(x):\n",
    "    \n",
    "    w, h = x.shape\n",
    "    ret = np.empty((w, h, 3), dtype=np.uint8)\n",
    "    ret[:, :, 0] = x\n",
    "    ret[:, :, 1] = x\n",
    "    ret[:, :, 2] = x\n",
    "    \n",
    "    return ret"
   ]
  },
  {
   "cell_type": "code",
   "execution_count": 25,
   "metadata": {},
   "outputs": [
    {
     "data": {
      "text/plain": [
       "(10000, 1000)"
      ]
     },
     "execution_count": 25,
     "metadata": {},
     "output_type": "execute_result"
    }
   ],
   "source": [
    "train_dataset = TransformDataset([(to_rgb(x).transpose(2, 0, 1).astype(np.float32), np.int32(y)) for x, y in zip(train_x_sample, train_y_sample)])\n",
    "valid_dataset = TransformDataset([(to_rgb(x).transpose(2, 0, 1).astype(np.float32), np.int32(y)) for x, y in zip(valid_x_sample, valid_y_sample)])\n",
    "len(train_dataset), len(valid_dataset)"
   ]
  },
  {
   "cell_type": "code",
   "execution_count": 26,
   "metadata": {},
   "outputs": [],
   "source": [
    "class Model(chainer.Chain):\n",
    "    \n",
    "    def __init__(self):\n",
    "        \n",
    "        super(Model, self).__init__(\n",
    "            conv1 = L.Convolution2D(3, 16, 3),\n",
    "            conv2 = L.Convolution2D(16, 32, 3),\n",
    "            fc3 = L.Linear(None, 100),\n",
    "            fc4 = L.Linear(100, 10)\n",
    "        )\n",
    "    \n",
    "    def __call__(self, x, layers=False):\n",
    "        \n",
    "        h1 = F.max_pooling_2d(F.relu(self.conv1(x)), 2)\n",
    "        h2 = F.max_pooling_2d(F.relu(self.conv2(h1)), 2)\n",
    "        h3 = F.relu(self.fc3(h2))\n",
    "        y = self.fc4(h3)\n",
    "        \n",
    "        if layers:\n",
    "            return {'conv1': h1, 'conv2': h2, 'fc3': h3, 'fc4': y}\n",
    "        \n",
    "        return y"
   ]
  },
  {
   "cell_type": "code",
   "execution_count": 27,
   "metadata": {},
   "outputs": [],
   "source": [
    "gpu = -1\n",
    "\n",
    "model = L.Classifier(Model())\n",
    "optimizer = chainer.optimizers.Adam()\n",
    "optimizer.setup(model)\n",
    "\n",
    "if gpu >= 0:\n",
    "    \n",
    "    chainer.cuda.get_device(gpu).use()\n",
    "    model.to_gpu(gpu)"
   ]
  },
  {
   "cell_type": "code",
   "execution_count": 28,
   "metadata": {},
   "outputs": [
    {
     "name": "stdout",
     "output_type": "stream",
     "text": [
      "epoch       main/loss   validation/main/loss  main/accuracy  validation/main/accuracy  elapsed_time\n",
      "\u001b[J3           21.4448     6.86939               0.586035       0.726667                  63.0497       \n",
      "\u001b[J6           1.06634     1.08616               0.882274       0.89                      109.985       \n",
      "\u001b[J9           0.452381    0.713904              0.934739       0.914667                  163.106       \n",
      "\u001b[J12          0.236628    0.610027              0.95651        0.926333                  213.138       \n"
     ]
    }
   ],
   "source": [
    "epoch_num = 12\n",
    "batch_size = 1024\n",
    "\n",
    "train_iter = chainer.iterators.SerialIterator(train_dataset, batch_size)\n",
    "test_iter = chainer.iterators.SerialIterator(valid_dataset, batch_size, repeat=False, shuffle=False)\n",
    "updater = chainer.training.StandardUpdater(train_iter, optimizer, device=gpu)\n",
    "trainer = chainer.training.Trainer(updater, (epoch_num, 'epoch'), out='result')\n",
    "trainer.extend(extensions.Evaluator(test_iter, model, device=gpu))\n",
    "trainer.extend(extensions.LogReport(trigger=(3, 'epoch')))\n",
    "trainer.extend(extensions.PrintReport(['epoch', 'main/loss', 'validation/main/loss', 'main/accuracy', 'validation/main/accuracy', 'elapsed_time']))\n",
    "trainer.run()"
   ]
  },
  {
   "cell_type": "code",
   "execution_count": 31,
   "metadata": {},
   "outputs": [],
   "source": [
    "number = 0\n",
    "target_valid_x = valid_x[np.where(valid_y == number)][:1]\n",
    "gcams = np.zeros((len(target_valid_x), 28, 28), dtype=np.float32)\n",
    "\n",
    "x_org = target_valid_x[0]\n",
    "\n",
    "y = number\n",
    "x = to_rgb(x_org).transpose(2,0,1).astype(np.float32)\n",
    "x = x[np.newaxis]\n",
    "\n",
    "with chainer.using_config('train', False):\n",
    "    \n",
    "    acts = model.predictor(x, layers=True)\n",
    "    one_hot = model.xp.zeros((1, 10), dtype=np.float32)\n",
    "    one_hot[:, y] = 1\n",
    "    model.cleargrads()\n",
    "    loss = F.sum(chainer.Variable(one_hot)*F.log_softmax(acts['fc4']))\n",
    "    loss.backward(retain_grad=True)\n",
    "    \n",
    "cam = acts['conv2']"
   ]
  },
  {
   "cell_type": "code",
   "execution_count": 35,
   "metadata": {},
   "outputs": [
    {
     "data": {
      "text/plain": [
       "(1, 32, 6, 6)"
      ]
     },
     "execution_count": 35,
     "metadata": {},
     "output_type": "execute_result"
    }
   ],
   "source": [
    "cam.grad.shape"
   ]
  },
  {
   "cell_type": "code",
   "execution_count": 43,
   "metadata": {},
   "outputs": [
    {
     "data": {
      "text/plain": [
       "array([[[ 8.87628815e-09,  1.92355853e-11, -6.27636654e-09,\n",
       "         -1.58279949e-08,  5.94580785e-09,  2.15358376e-09],\n",
       "        [-8.29344859e-09,  7.64287389e-09,  2.32578508e-08,\n",
       "          3.98481426e-09,  1.61999356e-08, -9.95430405e-09],\n",
       "        [ 1.49381962e-09,  1.25965052e-08, -1.22560468e-08,\n",
       "          9.56641255e-09,  5.59862734e-09,  1.47511514e-08],\n",
       "        [ 5.82354076e-09, -3.25825500e-09,  1.59885918e-08,\n",
       "          1.39567549e-08, -6.22618757e-09, -9.50363166e-09],\n",
       "        [-1.21401067e-08, -2.09821902e-08,  1.99011634e-08,\n",
       "         -1.22980790e-08, -6.51962395e-09,  5.56355273e-09],\n",
       "        [-6.43120535e-09,  3.44722273e-09,  6.93162505e-09,\n",
       "          3.58662960e-10, -7.56266871e-09, -7.62312347e-09]],\n",
       "\n",
       "       [[ 1.28417064e-08,  1.27942745e-09,  9.90887017e-09,\n",
       "         -4.56988447e-09, -2.54226915e-08, -2.17033040e-08],\n",
       "        [ 1.17432384e-08, -8.33212965e-09,  9.27067312e-09,\n",
       "         -1.52067414e-09, -1.16301624e-09, -8.46718162e-09],\n",
       "        [ 3.99845002e-09,  1.26586226e-08, -9.13693032e-09,\n",
       "          2.57083199e-09,  2.57381334e-08,  5.78653037e-09],\n",
       "        [-5.49392842e-09,  1.95650856e-08, -2.94987190e-09,\n",
       "         -5.71985037e-09,  4.84916951e-09, -1.02631077e-08],\n",
       "        [ 1.49537431e-08,  8.24289703e-09, -1.26911137e-09,\n",
       "         -1.68385728e-09, -2.91205460e-08, -1.93069472e-09],\n",
       "        [-5.29398081e-09,  3.40144291e-09, -6.99814739e-09,\n",
       "         -3.92760890e-09, -1.25659421e-08,  6.31572039e-09]],\n",
       "\n",
       "       [[ 1.10703335e-09,  7.96214150e-10,  5.05098097e-09,\n",
       "          1.18725181e-08, -3.99933375e-09,  1.64899294e-08],\n",
       "        [ 9.95454830e-09,  1.19809123e-08, -1.50683044e-09,\n",
       "          7.45983098e-09, -5.18520915e-09, -3.72986797e-09],\n",
       "        [ 4.73632467e-09, -1.04487405e-08,  1.11125766e-08,\n",
       "         -2.18252039e-09,  1.19659784e-08, -9.62440438e-09],\n",
       "        [-1.04360378e-08, -8.56189963e-09,  1.93167504e-09,\n",
       "         -7.42868567e-09, -7.79425768e-09,  2.36395810e-08],\n",
       "        [-7.46505524e-09,  3.27248761e-09, -2.90861113e-09,\n",
       "         -1.59656430e-08,  4.88149698e-09,  5.37508971e-09],\n",
       "        [-1.44359333e-08,  1.05372440e-08,  1.62627103e-08,\n",
       "          1.87529849e-08,  5.53441692e-09,  1.16183756e-08]],\n",
       "\n",
       "       [[-8.33857783e-09, -1.12790621e-08, -4.50358595e-09,\n",
       "          5.49086865e-09,  3.67311626e-10, -1.27266482e-08],\n",
       "        [-1.12357341e-08, -6.08809358e-09,  1.80401685e-08,\n",
       "          5.43116707e-09, -9.42944833e-09, -2.49211407e-09],\n",
       "        [ 2.01996242e-09, -3.93355970e-09, -4.51658622e-09,\n",
       "         -1.31335565e-08, -1.19337233e-08, -1.27341089e-08],\n",
       "        [ 1.05441158e-08,  5.50384938e-09,  4.49664483e-09,\n",
       "          1.92455518e-09, -1.30146827e-08, -1.39004896e-09],\n",
       "        [-1.00957953e-08,  1.34188871e-09,  6.44384102e-09,\n",
       "          1.27881359e-08,  3.78247789e-09, -2.26335439e-09],\n",
       "        [-1.23039738e-08, -1.19592487e-08, -8.50551984e-09,\n",
       "         -7.02321534e-10,  1.22584085e-08,  1.36388563e-08]],\n",
       "\n",
       "       [[ 9.73056480e-09,  5.95515992e-09, -9.59550928e-09,\n",
       "          1.65124963e-08,  6.86230739e-10,  7.45974571e-09],\n",
       "        [ 6.23845375e-09,  1.21954011e-08, -1.14368559e-09,\n",
       "          1.34093936e-09,  1.44751748e-08,  6.70343914e-09],\n",
       "        [ 9.87179138e-09,  4.87969576e-09, -1.13548362e-08,\n",
       "         -6.04075412e-09, -1.67462986e-08, -3.43980666e-09],\n",
       "        [-5.16843590e-09,  4.63982452e-09,  4.57732430e-09,\n",
       "          9.26337407e-09, -7.59395657e-09,  1.64363634e-09],\n",
       "        [-2.20445386e-08, -6.63729294e-09, -5.79481352e-09,\n",
       "         -1.31074325e-08,  2.26618422e-08,  3.89728561e-09],\n",
       "        [-1.62060019e-08, -1.88772251e-08, -2.16679279e-08,\n",
       "         -7.77779885e-09,  4.67475925e-09,  8.92367957e-09]],\n",
       "\n",
       "       [[-7.32955829e-09, -8.48488213e-09, -1.28806903e-08,\n",
       "         -1.09792522e-08, -5.99031580e-09, -9.18502341e-09],\n",
       "        [ 1.39064475e-08,  6.01742300e-09, -6.58023358e-10,\n",
       "         -6.24110807e-09,  5.96117733e-09, -1.00641389e-08],\n",
       "        [-9.66701030e-09,  6.28284891e-09,  1.46686580e-10,\n",
       "         -1.74146919e-09, -4.42534276e-09, -1.22960957e-08],\n",
       "        [ 5.40831735e-09, -6.00323879e-09, -7.77778109e-09,\n",
       "         -2.77038481e-09,  1.58882738e-08,  2.13799023e-09],\n",
       "        [-1.06741984e-08, -2.81170265e-09, -4.15992352e-10,\n",
       "         -1.26477118e-09, -1.05186082e-08,  5.22245225e-09],\n",
       "        [-8.35141023e-09,  9.93925298e-09,  5.52681234e-09,\n",
       "         -7.92751997e-09, -2.42489513e-08, -7.32230832e-10]],\n",
       "\n",
       "       [[-7.38368788e-09,  2.01960493e-08,  1.79278317e-08,\n",
       "         -5.38832357e-09, -3.55225405e-09, -1.22602497e-08],\n",
       "        [-1.69504022e-09,  7.81931053e-09,  8.53802273e-09,\n",
       "          1.28229605e-08,  3.38364270e-09, -4.50398518e-09],\n",
       "        [ 1.07050111e-08,  9.83654580e-09, -5.79683723e-09,\n",
       "         -4.29381792e-08,  1.13212817e-08,  1.56075188e-08],\n",
       "        [ 9.33119138e-10,  7.77287235e-10, -9.37122113e-09,\n",
       "          1.70386261e-09, -1.89519844e-09,  2.30183836e-08],\n",
       "        [-8.87107454e-09, -9.56939061e-09,  7.45572848e-09,\n",
       "         -5.17081444e-09,  2.61106137e-09,  9.09185705e-09],\n",
       "        [-4.43850068e-09,  1.94364844e-08,  5.53215873e-09,\n",
       "         -2.64540057e-09,  3.27734595e-09,  1.05300488e-08]],\n",
       "\n",
       "       [[-4.48555415e-09, -2.71684164e-09,  1.07315596e-08,\n",
       "         -2.13027818e-09, -4.07639833e-09,  5.66911185e-10],\n",
       "        [ 6.31104280e-09,  4.87984053e-09, -7.54146967e-09,\n",
       "         -6.31971142e-10,  7.34886907e-09, -8.83882478e-09],\n",
       "        [ 1.19069643e-09,  7.25481408e-09,  2.64415938e-08,\n",
       "          7.46615125e-09,  2.27636896e-08,  3.22927818e-09],\n",
       "        [ 5.78822812e-09, -1.19452555e-08,  8.08022094e-09,\n",
       "         -6.84682977e-09,  1.43656491e-08,  2.42227016e-09],\n",
       "        [-1.60655116e-08,  1.67870517e-08, -4.04168699e-09,\n",
       "          1.12699050e-09, -2.33875563e-09, -2.42025067e-09],\n",
       "        [-2.92502111e-09, -1.87074942e-08, -1.36341471e-08,\n",
       "         -9.67214753e-09,  4.18723323e-09, -6.79798440e-09]],\n",
       "\n",
       "       [[ 1.01964470e-09,  1.12679439e-08, -3.11725690e-09,\n",
       "         -3.66384345e-09, -1.07749791e-08, -3.14178479e-08],\n",
       "        [-1.68540648e-08, -4.51172744e-09,  5.34175637e-09,\n",
       "         -5.71636027e-09, -2.82616472e-08, -1.48058126e-08],\n",
       "        [-2.89580537e-09,  2.63726951e-09,  3.01314773e-09,\n",
       "         -5.11035392e-09,  1.93594851e-09,  1.13153877e-08],\n",
       "        [-4.37131131e-09, -9.82492665e-09,  8.81230089e-10,\n",
       "         -5.79178705e-09,  1.67146865e-08, -1.16276695e-08],\n",
       "        [ 1.27185462e-09,  2.98086600e-09, -2.49621390e-09,\n",
       "          1.14013590e-08, -1.84520432e-09,  4.27699520e-09],\n",
       "        [ 3.37720052e-09, -4.48621407e-09, -1.44244678e-08,\n",
       "         -3.26598282e-09, -1.93139127e-09, -8.52954418e-09]],\n",
       "\n",
       "       [[-9.33346112e-09, -9.25114119e-09, -2.19306386e-08,\n",
       "         -3.72400666e-09, -2.06057909e-08, -1.00613491e-08],\n",
       "        [ 1.97809502e-09, -8.11949263e-09,  4.16710133e-09,\n",
       "         -4.52596127e-10, -9.88293802e-09,  3.38435191e-09],\n",
       "        [-6.80118850e-09,  1.87224414e-09,  1.67557246e-10,\n",
       "         -3.20479501e-08,  1.09531113e-08,  1.94272136e-08],\n",
       "        [ 5.47001777e-10,  2.13541362e-08,  6.33089492e-09,\n",
       "          6.73300127e-09,  5.80967541e-09,  1.37140423e-08],\n",
       "        [-1.43844323e-08, -8.66212169e-09,  5.76484971e-10,\n",
       "         -3.61411279e-09, -1.35163409e-08, -6.35270769e-09],\n",
       "        [ 1.13092149e-08,  1.47154378e-08, -5.41487744e-09,\n",
       "         -6.98234248e-10,  4.36822978e-09,  6.44504894e-09]],\n",
       "\n",
       "       [[ 1.76196071e-08,  6.32859987e-09, -6.22249630e-09,\n",
       "          6.55631460e-09,  3.09194403e-09,  9.59453317e-09],\n",
       "        [ 4.98045338e-09,  9.46818002e-09, -1.11360299e-08,\n",
       "          1.37885889e-08, -1.71706827e-08, -5.60734614e-09],\n",
       "        [ 1.53774504e-08,  1.32081297e-08,  2.03144668e-10,\n",
       "         -7.69981146e-09,  1.23423618e-08, -7.66523911e-09],\n",
       "        [ 2.89491497e-09, -1.91697658e-09, -5.24531307e-09,\n",
       "          1.20933985e-09,  2.28602115e-08,  1.07831006e-08],\n",
       "        [ 3.35752004e-09, -5.30906696e-09,  6.01263928e-09,\n",
       "          6.38358344e-09,  1.46268428e-08,  1.19786909e-08],\n",
       "        [ 1.91810834e-08, -1.43295029e-08, -1.02758406e-08,\n",
       "          1.37984966e-08,  1.77640178e-08,  1.44239634e-08]],\n",
       "\n",
       "       [[-2.48256793e-09,  1.06650946e-08, -1.26543611e-08,\n",
       "          1.38724698e-09, -8.21863733e-09,  1.31821876e-09],\n",
       "        [-1.47163153e-08, -1.47800652e-08, -7.83642207e-10,\n",
       "          1.15421628e-08,  3.72022502e-09, -6.80756518e-09],\n",
       "        [ 5.63123814e-09, -1.30995161e-08,  2.04965933e-09,\n",
       "          3.97172428e-09, -2.38427256e-09, -1.81294162e-08],\n",
       "        [ 9.00365826e-09, -1.12655529e-08,  1.18548265e-08,\n",
       "         -2.66472155e-09, -5.78112580e-09,  2.12383333e-09],\n",
       "        [ 9.52535828e-09,  7.47971018e-09,  3.72986531e-09,\n",
       "          7.66453212e-09, -4.91787611e-10, -4.20305835e-09],\n",
       "        [-1.46422097e-10, -6.23126528e-09,  4.03253253e-09,\n",
       "         -1.60589160e-08,  1.27019222e-08,  1.01370672e-08]],\n",
       "\n",
       "       [[ 2.23395631e-08, -5.36463451e-09,  9.40545153e-09,\n",
       "          1.64000706e-08,  6.71653799e-09,  2.56433152e-10],\n",
       "        [ 5.70322856e-09,  1.90371914e-08, -2.18526779e-08,\n",
       "         -3.92653110e-09, -1.42189576e-08,  1.27525013e-09],\n",
       "        [ 2.07323012e-08, -6.28101304e-09, -1.01745956e-09,\n",
       "         -5.29837174e-10, -3.91520261e-10,  3.12140962e-08],\n",
       "        [-4.25760405e-09,  5.44077894e-09, -8.51126780e-10,\n",
       "         -2.13548423e-09, -3.02278780e-09,  6.75138501e-10],\n",
       "        [ 4.56299976e-09,  1.19536834e-08, -3.49992346e-09,\n",
       "         -7.66794450e-09, -5.00418929e-10,  1.63672897e-08],\n",
       "        [-4.33973080e-09, -2.74529999e-09,  8.02736189e-09,\n",
       "          5.87904214e-09,  1.07563407e-08, -6.17382145e-09]],\n",
       "\n",
       "       [[-3.17737348e-09, -7.44234496e-09,  1.16348353e-08,\n",
       "          2.44760678e-09,  5.19679100e-09, -4.09095335e-09],\n",
       "        [-6.38868958e-10,  9.15452159e-09,  1.30281892e-08,\n",
       "         -7.66283748e-09, -4.49926763e-09, -3.55611451e-09],\n",
       "        [ 1.01544781e-08,  7.14920700e-09,  9.26032051e-09,\n",
       "         -4.63019667e-09, -3.87157084e-10,  1.24292310e-08],\n",
       "        [ 1.19848016e-08,  5.75814507e-09,  8.14493450e-09,\n",
       "          1.24269173e-09,  3.15050985e-09,  2.52155230e-09],\n",
       "        [ 1.15993881e-08,  9.00272568e-09,  6.90118007e-09,\n",
       "          3.72948694e-09,  1.56094941e-08,  9.61320978e-09],\n",
       "        [ 1.08991216e-08,  1.03350448e-08,  1.37926948e-09,\n",
       "         -1.16245600e-08,  4.77998663e-09, -7.22684224e-09]],\n",
       "\n",
       "       [[ 2.37403652e-09,  2.49575969e-08, -6.48952758e-09,\n",
       "          1.12825820e-08,  7.40797867e-09, -3.28105809e-09],\n",
       "        [ 1.95570138e-08, -3.01567682e-09, -2.83363577e-09,\n",
       "         -9.38895628e-09, -8.38129655e-09,  2.86542856e-09],\n",
       "        [-2.98187719e-09, -8.81141116e-09, -5.60747981e-09,\n",
       "          1.06760654e-08, -4.49184823e-09, -8.41269188e-09],\n",
       "        [ 1.16882353e-08, -2.34984343e-09, -1.12994636e-08,\n",
       "          4.04857303e-09, -4.00956823e-09,  1.81315973e-09],\n",
       "        [ 9.87691884e-09,  4.65983296e-09, -4.98355912e-10,\n",
       "         -3.70801034e-09, -1.02638742e-08, -5.71544767e-09],\n",
       "        [-1.52755220e-09, -1.15459837e-08, -7.03399827e-09,\n",
       "         -1.75977677e-09, -7.06275927e-10, -5.33609490e-10]],\n",
       "\n",
       "       [[ 7.53637508e-09, -5.69475622e-09,  1.22430555e-08,\n",
       "          1.64689773e-08, -6.34653885e-09, -1.79446360e-08],\n",
       "        [ 1.72636554e-08, -8.89834248e-11, -5.46916379e-09,\n",
       "          4.05259648e-09, -9.83311566e-09, -1.26176580e-08],\n",
       "        [ 5.84452220e-09, -1.27424746e-08, -1.77214443e-09,\n",
       "         -1.00186193e-09,  2.80863843e-09, -2.66153544e-09],\n",
       "        [-1.21610144e-08, -3.58981644e-09, -2.43913778e-09,\n",
       "         -2.85824919e-10, -1.37295313e-08,  1.03308972e-09],\n",
       "        [-6.89146518e-10, -8.25464852e-09, -1.72744983e-08,\n",
       "          6.45593889e-09, -2.73685807e-09, -1.35125133e-09],\n",
       "        [ 7.78963205e-09,  8.26557489e-09, -2.97044678e-09,\n",
       "          1.62551519e-08, -1.18043220e-08, -3.23157257e-09]],\n",
       "\n",
       "       [[ 9.38246192e-09, -2.34201125e-09,  4.89836616e-09,\n",
       "          4.99882358e-09,  3.90967614e-09,  8.20566903e-09],\n",
       "        [ 6.62985755e-09, -5.33505129e-10, -1.44569445e-09,\n",
       "          6.90056279e-09,  3.97317024e-09,  1.05903277e-08],\n",
       "        [-9.74972281e-09, -1.54591966e-08,  1.35099909e-09,\n",
       "         -2.57734123e-09, -8.85380569e-09, -7.00884062e-09],\n",
       "        [ 1.55864210e-10,  1.99972714e-08, -2.31068253e-09,\n",
       "          6.80340451e-09, -1.17363212e-08,  6.31619113e-09],\n",
       "        [ 2.22846293e-08,  1.52417390e-09, -1.53367519e-09,\n",
       "         -4.71881956e-09, -1.19571419e-08, -5.43697265e-09],\n",
       "        [ 1.38647351e-08,  4.56154181e-09,  1.72623960e-08,\n",
       "         -3.44639717e-09, -6.36118580e-09,  1.56057069e-08]],\n",
       "\n",
       "       [[ 2.10765028e-09, -9.20558207e-09, -4.84649432e-09,\n",
       "         -7.71250352e-09,  8.58475779e-09,  8.27884161e-09],\n",
       "        [ 3.34021699e-09, -2.08565591e-08,  1.31134605e-08,\n",
       "          9.00884523e-09,  5.81661164e-09, -6.99088432e-09],\n",
       "        [ 1.20319541e-08,  1.12506413e-08,  5.81058091e-09,\n",
       "         -1.01194022e-08, -1.80359176e-08, -2.50614418e-09],\n",
       "        [-1.28746358e-09,  5.86202731e-09, -6.65099797e-09,\n",
       "         -1.80847657e-08, -2.17892326e-09, -3.18403548e-09],\n",
       "        [ 8.44036929e-09,  1.44657344e-08, -5.46346435e-09,\n",
       "          2.41455167e-09,  3.07939474e-09, -1.24660660e-09],\n",
       "        [ 3.11727799e-09, -3.93122246e-09, -5.74667425e-09,\n",
       "         -5.50640777e-09,  2.47000709e-09, -5.72457948e-09]],\n",
       "\n",
       "       [[ 1.99918926e-09, -9.73106928e-09,  3.93584276e-09,\n",
       "         -6.03215033e-09, -1.02677165e-08,  1.46761936e-08],\n",
       "        [ 9.31532451e-09, -1.26585551e-08,  1.45753898e-08,\n",
       "         -1.91753777e-08, -7.41529105e-09, -3.95580813e-09],\n",
       "        [ 1.74502084e-08, -7.34122008e-09, -5.55667734e-09,\n",
       "         -1.20001842e-09, -7.28519112e-09,  6.00451511e-09],\n",
       "        [ 3.00465519e-09,  1.28263737e-08,  2.12500262e-09,\n",
       "         -5.37849942e-09, -1.79298052e-08,  1.70689258e-08],\n",
       "        [-9.31822264e-09, -6.34650166e-10,  7.86559984e-10,\n",
       "         -4.28634372e-09,  4.03924227e-09,  1.28801396e-08],\n",
       "        [ 1.10489431e-08,  1.88965954e-09,  5.58697089e-10,\n",
       "         -9.89833460e-09, -6.92636348e-09,  1.04876174e-09]],\n",
       "\n",
       "       [[ 5.97010263e-09,  6.44598552e-09,  2.56774584e-08,\n",
       "          7.25838589e-09,  7.43531947e-09, -2.87758928e-09],\n",
       "        [ 1.87736493e-09, -1.21766008e-09,  1.17937615e-08,\n",
       "         -1.42266687e-08, -5.75305004e-09,  1.27960114e-08],\n",
       "        [ 4.84770712e-09, -7.78051068e-10, -1.00405524e-08,\n",
       "         -1.69101089e-08, -7.74415376e-09, -1.84667623e-08],\n",
       "        [-6.08011241e-09,  2.29847537e-08, -6.76797995e-09,\n",
       "         -8.89283580e-09, -2.08733053e-09,  5.68267122e-09],\n",
       "        [ 7.00880998e-09,  8.68951577e-09,  2.60825512e-08,\n",
       "         -2.77691115e-09,  1.80872650e-08,  1.22529613e-08],\n",
       "        [-1.02323856e-08,  3.87545329e-09, -1.67502812e-08,\n",
       "         -6.54032695e-09, -2.79871881e-09,  8.29725977e-09]]],\n",
       "      dtype=float32)"
      ]
     },
     "execution_count": 43,
     "metadata": {},
     "output_type": "execute_result"
    }
   ],
   "source": [
    "cam.grad[0][]"
   ]
  },
  {
   "cell_type": "code",
   "execution_count": 45,
   "metadata": {},
   "outputs": [
    {
     "data": {
      "text/plain": [
       "variable([[[[8.87628815e-09, 1.92355853e-11, 0.00000000e+00,\n",
       "             0.00000000e+00, 5.94580785e-09, 2.15358376e-09],\n",
       "            [0.00000000e+00, 7.64287389e-09, 2.32578508e-08,\n",
       "             3.98481426e-09, 1.61999356e-08, 0.00000000e+00],\n",
       "            [1.49381962e-09, 1.25965052e-08, 0.00000000e+00,\n",
       "             9.56641255e-09, 5.59862734e-09, 1.47511514e-08],\n",
       "            [5.82354076e-09, 0.00000000e+00, 1.59885918e-08,\n",
       "             1.39567549e-08, 0.00000000e+00, 0.00000000e+00],\n",
       "            [0.00000000e+00, 0.00000000e+00, 1.99011634e-08,\n",
       "             0.00000000e+00, 0.00000000e+00, 5.56355273e-09],\n",
       "            [0.00000000e+00, 3.44722273e-09, 6.93162505e-09,\n",
       "             3.58662960e-10, 0.00000000e+00, 0.00000000e+00]],\n",
       "\n",
       "           [[1.28417064e-08, 1.27942745e-09, 9.90887017e-09,\n",
       "             0.00000000e+00, 0.00000000e+00, 0.00000000e+00],\n",
       "            [1.17432384e-08, 0.00000000e+00, 9.27067312e-09,\n",
       "             0.00000000e+00, 0.00000000e+00, 0.00000000e+00],\n",
       "            [3.99845002e-09, 1.26586226e-08, 0.00000000e+00,\n",
       "             2.57083199e-09, 2.57381334e-08, 5.78653037e-09],\n",
       "            [0.00000000e+00, 1.95650856e-08, 0.00000000e+00,\n",
       "             0.00000000e+00, 4.84916951e-09, 0.00000000e+00],\n",
       "            [1.49537431e-08, 8.24289703e-09, 0.00000000e+00,\n",
       "             0.00000000e+00, 0.00000000e+00, 0.00000000e+00],\n",
       "            [0.00000000e+00, 3.40144291e-09, 0.00000000e+00,\n",
       "             0.00000000e+00, 0.00000000e+00, 6.31572039e-09]],\n",
       "\n",
       "           [[1.10703335e-09, 7.96214150e-10, 5.05098097e-09,\n",
       "             1.18725181e-08, 0.00000000e+00, 1.64899294e-08],\n",
       "            [9.95454830e-09, 1.19809123e-08, 0.00000000e+00,\n",
       "             7.45983098e-09, 0.00000000e+00, 0.00000000e+00],\n",
       "            [4.73632467e-09, 0.00000000e+00, 1.11125766e-08,\n",
       "             0.00000000e+00, 1.19659784e-08, 0.00000000e+00],\n",
       "            [0.00000000e+00, 0.00000000e+00, 1.93167504e-09,\n",
       "             0.00000000e+00, 0.00000000e+00, 2.36395810e-08],\n",
       "            [0.00000000e+00, 3.27248761e-09, 0.00000000e+00,\n",
       "             0.00000000e+00, 4.88149698e-09, 5.37508971e-09],\n",
       "            [0.00000000e+00, 1.05372440e-08, 1.62627103e-08,\n",
       "             1.87529849e-08, 5.53441692e-09, 1.16183756e-08]],\n",
       "\n",
       "           ...,\n",
       "\n",
       "           [[0.00000000e+00, 0.00000000e+00, 5.32084243e-09,\n",
       "             6.33900088e-09, 1.55313522e-08, 1.42637173e-08],\n",
       "            [0.00000000e+00, 1.17415686e-08, 4.55054217e-09,\n",
       "             3.41668027e-09, 0.00000000e+00, 0.00000000e+00],\n",
       "            [2.01481498e-09, 2.12437037e-08, 1.76804775e-08,\n",
       "             0.00000000e+00, 0.00000000e+00, 1.17227650e-09],\n",
       "            [3.54981822e-09, 0.00000000e+00, 1.37239615e-08,\n",
       "             0.00000000e+00, 0.00000000e+00, 0.00000000e+00],\n",
       "            [0.00000000e+00, 0.00000000e+00, 0.00000000e+00,\n",
       "             0.00000000e+00, 9.29634425e-10, 1.13976384e-08],\n",
       "            [0.00000000e+00, 4.64655203e-09, 0.00000000e+00,\n",
       "             1.12958638e-08, 1.13615939e-09, 3.04787062e-09]],\n",
       "\n",
       "           [[0.00000000e+00, 1.18632508e-08, 0.00000000e+00,\n",
       "             1.26894806e-08, 2.81201906e-08, 0.00000000e+00],\n",
       "            [0.00000000e+00, 0.00000000e+00, 6.76235912e-09,\n",
       "             0.00000000e+00, 0.00000000e+00, 9.15561138e-09],\n",
       "            [1.35461831e-09, 2.40323761e-09, 7.17657178e-09,\n",
       "             1.68265419e-08, 1.20814265e-08, 3.65572461e-09],\n",
       "            [3.45118623e-09, 0.00000000e+00, 0.00000000e+00,\n",
       "             1.04963238e-09, 8.88364049e-09, 0.00000000e+00],\n",
       "            [0.00000000e+00, 1.82956916e-09, 1.65567471e-08,\n",
       "             1.07440199e-08, 0.00000000e+00, 0.00000000e+00],\n",
       "            [0.00000000e+00, 0.00000000e+00, 9.68938618e-09,\n",
       "             0.00000000e+00, 0.00000000e+00, 3.38140382e-09]],\n",
       "\n",
       "           [[0.00000000e+00, 0.00000000e+00, 0.00000000e+00,\n",
       "             3.24053806e-09, 0.00000000e+00, 1.10373017e-08],\n",
       "            [0.00000000e+00, 0.00000000e+00, 0.00000000e+00,\n",
       "             1.36270462e-08, 0.00000000e+00, 4.73089079e-09],\n",
       "            [0.00000000e+00, 0.00000000e+00, 0.00000000e+00,\n",
       "             1.12428413e-08, 3.83460952e-09, 0.00000000e+00],\n",
       "            [6.95855107e-09, 0.00000000e+00, 0.00000000e+00,\n",
       "             0.00000000e+00, 0.00000000e+00, 1.24490267e-08],\n",
       "            [0.00000000e+00, 0.00000000e+00, 0.00000000e+00,\n",
       "             0.00000000e+00, 0.00000000e+00, 1.25252431e-08],\n",
       "            [0.00000000e+00, 0.00000000e+00, 1.55602975e-09,\n",
       "             0.00000000e+00, 1.65912653e-08, 0.00000000e+00]]]])"
      ]
     },
     "execution_count": 45,
     "metadata": {},
     "output_type": "execute_result"
    }
   ],
   "source": [
    "F.relu(cam.grad)"
   ]
  },
  {
   "cell_type": "code",
   "execution_count": 36,
   "metadata": {},
   "outputs": [],
   "source": [
    "w = model.xp.mean(cam.grad, axis=(2,3))"
   ]
  },
  {
   "cell_type": "code",
   "execution_count": 37,
   "metadata": {},
   "outputs": [
    {
     "data": {
      "text/plain": [
       "(1, 32)"
      ]
     },
     "execution_count": 37,
     "metadata": {},
     "output_type": "execute_result"
    }
   ],
   "source": [
    "w.shape"
   ]
  },
  {
   "cell_type": "code",
   "execution_count": 44,
   "metadata": {},
   "outputs": [
    {
     "data": {
      "text/plain": [
       "array([[ 1.0806889e-09, -4.0021989e-10,  2.2961075e-09, -1.9029860e-09,\n",
       "        -4.6848614e-10, -2.9722780e-09,  2.1401487e-09,  6.9793538e-10,\n",
       "        -3.2858087e-09, -1.4166815e-09,  4.5904280e-09, -6.2112032e-10,\n",
       "         2.9990552e-09,  3.9491725e-09, -3.7332767e-10, -1.4076035e-09,\n",
       "         2.0484587e-09, -5.5793620e-10, -2.7104644e-10,  1.5589403e-09,\n",
       "        -5.8868427e-10, -4.4368800e-10, -5.2882498e-10, -2.0207751e-09,\n",
       "         1.0003960e-09, -8.9974111e-10,  6.6589756e-10,  3.6430674e-09,\n",
       "         5.3496318e-10,  1.8109658e-09,  1.1335545e-09, -3.7255345e-09]],\n",
       "      dtype=float32)"
      ]
     },
     "execution_count": 44,
     "metadata": {},
     "output_type": "execute_result"
    }
   ],
   "source": [
    "w"
   ]
  },
  {
   "cell_type": "code",
   "execution_count": 46,
   "metadata": {},
   "outputs": [],
   "source": [
    "gcam = model.xp.tensordot(w[0], cam.data[0], axes=(0, 0))"
   ]
  },
  {
   "cell_type": "code",
   "execution_count": 49,
   "metadata": {},
   "outputs": [
    {
     "data": {
      "text/plain": [
       "((32,), (32, 6, 6))"
      ]
     },
     "execution_count": 49,
     "metadata": {},
     "output_type": "execute_result"
    }
   ],
   "source": [
    "w[0].shape, cam.data[0].shape"
   ]
  },
  {
   "cell_type": "code",
   "execution_count": 47,
   "metadata": {},
   "outputs": [
    {
     "data": {
      "text/plain": [
       "(6, 6)"
      ]
     },
     "execution_count": 47,
     "metadata": {},
     "output_type": "execute_result"
    }
   ],
   "source": [
    "gcam.shape"
   ]
  },
  {
   "cell_type": "code",
   "execution_count": 29,
   "metadata": {},
   "outputs": [
    {
     "data": {
      "image/png": "[encoded data removed]",
      "text/plain": [
       "<Figure size 1440x360 with 10 Axes>"
      ]
     },
     "metadata": {},
     "output_type": "display_data"
    },
    {
     "data": {
      "image/png": "[encoded data removed]",
      "text/plain": [
       "<Figure size 1440x360 with 10 Axes>"
      ]
     },
     "metadata": {},
     "output_type": "display_data"
    },
    {
     "data": {
      "image/png": "[encoded data removed]",
      "text/plain": [
       "<Figure size 1440x360 with 10 Axes>"
      ]
     },
     "metadata": {},
     "output_type": "display_data"
    }
   ],
   "source": [
    "for number in range(3):\n",
    "\n",
    "    fig, axs = plt.subplots(ncols=10, nrows=1, figsize=(20, 5))\n",
    "\n",
    "    target_valid_x = valid_x[np.where(valid_y == number)]\n",
    "    gcams = np.zeros((len(target_valid_x), 28, 28), dtype=np.float32)\n",
    "\n",
    "    for i, x_org in enumerate(target_valid_x):\n",
    "\n",
    "        y = number\n",
    "        x = to_rgb(x_org).transpose(2, 0, 1).astype(np.float32)\n",
    "        x = x[np.newaxis]\n",
    "\n",
    "        with chainer.using_config('train', False):\n",
    "\n",
    "            acts = model.predictor(x, layers=True)\n",
    "            one_hot = model.xp.zeros((1, 10), dtype=np.float32)\n",
    "            one_hot[:, y] = 1\n",
    "            model.cleargrads()\n",
    "            loss = F.sum(chainer.Variable(one_hot)*F.log_softmax(acts['fc4']))\n",
    "            loss.backward(retain_grad=True)\n",
    "\n",
    "        cam = acts['conv2']\n",
    "        w = model.xp.mean(cam.grad, axis=(2, 3))\n",
    "        gcam = model.xp.tensordot(w[0], cam.data[0], axes=(0, 0))\n",
    "        gcam = (gcam > 0) * gcam / gcam.max() * 255\n",
    "        gcam = Image.fromarray(gcam)\n",
    "        gcam = gcam.resize(x.shape[2:4], 1)\n",
    "        gcam = np.array(gcam)\n",
    "        m = matplotlib.cm.ScalarMappable(norm=matplotlib.colors.Normalize(0, 1), cmap=matplotlib.cm.jet)\n",
    "        gcam = (m.to_rgba(gcam/255)*255).astype(np.uint8)\n",
    "\n",
    "        if i < 10:\n",
    "\n",
    "            overlay = Image.fromarray(gcam)\n",
    "            img = Image.fromarray(to_rgb(x_org)).convert('RGBA')\n",
    "            blended = Image.blend(img, overlay, 0.5)\n",
    "            axs[i].imshow(blended)\n",
    "            axs[i].axis('off')\n",
    "\n",
    "        gcams[i] = np.mean(gcam[:, :, 0:3], axis=2)\n",
    "\n",
    "    plt.show()"
   ]
  }
 ],
 "metadata": {
  "kernelspec": {
   "display_name": "Python 3",
   "language": "python",
   "name": "python3"
  },
  "language_info": {
   "codemirror_mode": {
    "name": "ipython",
    "version": 3
   },
   "file_extension": ".py",
   "mimetype": "text/x-python",
   "name": "python",
   "nbconvert_exporter": "python",
   "pygments_lexer": "ipython3",
   "version": "3.6.6"
  }
 },
 "nbformat": 4,
 "nbformat_minor": 2
}
