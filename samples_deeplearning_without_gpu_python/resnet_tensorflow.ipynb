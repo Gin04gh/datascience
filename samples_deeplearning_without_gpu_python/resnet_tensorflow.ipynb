{
 "cells": [
  {
   "cell_type": "code",
   "execution_count": 2,
   "metadata": {},
   "outputs": [],
   "source": [
    "import gzip\n",
    "import numpy as np\n",
    "import matplotlib\n",
    "import matplotlib.pyplot as plt\n",
    "from PIL import Image\n",
    "from tqdm import tqdm"
   ]
  },
  {
   "cell_type": "code",
   "execution_count": 3,
   "metadata": {},
   "outputs": [
    {
     "name": "stderr",
     "output_type": "stream",
     "text": [
      "Using TensorFlow backend.\n"
     ]
    }
   ],
   "source": [
    "import tensorflow as tf\n",
    "import tensorflow.keras.backend as K\n",
    "from tensorflow.keras.layers import Conv2D, Activation, BatchNormalization, Add, Input, GlobalAveragePooling2D, Dense\n",
    "from tensorflow.keras.models import Model\n",
    "from keras.datasets import cifar10\n",
    "from keras.utils import to_categorical\n",
    "from keras.preprocessing.image import ImageDataGenerator\n",
    "from tensorflow.keras.callbacks import Callback, LearningRateScheduler\n",
    "from tensorflow.keras.optimizers import SGD\n",
    "from keras.regularizers import l2\n",
    "from tensorflow.contrib.tpu.python.tpu import keras_support\n",
    "import time, pickle, os"
   ]
  },
  {
   "cell_type": "code",
   "execution_count": 54,
   "metadata": {},
   "outputs": [
    {
     "data": {
      "text/plain": [
       "((10, 28, 28), (10,), (1, 28, 28), (1,))"
      ]
     },
     "execution_count": 54,
     "metadata": {},
     "output_type": "execute_result"
    }
   ],
   "source": [
    "# http://yann.lecun.com/exdb/mnist/\n",
    "\n",
    "with gzip.open('./data/train-images-idx3-ubyte.gz', 'rb') as f:\n",
    "    train_x = np.frombuffer(f.read(), np.uint8, offset=16)\n",
    "    train_x = train_x.reshape(60000, 28, 28)\n",
    "    \n",
    "with gzip.open('./data/t10k-images-idx3-ubyte.gz', 'rb') as f:\n",
    "    valid_x = np.frombuffer(f.read(), np.uint8, offset=16)\n",
    "    valid_x = valid_x.reshape(10000, 28, 28)\n",
    "\n",
    "with gzip.open('./data/train-labels-idx1-ubyte.gz', 'rb') as f:\n",
    "    train_y = np.frombuffer(f.read(), np.uint8, offset=8)\n",
    "    \n",
    "with gzip.open('./data/t10k-labels-idx1-ubyte.gz', 'rb') as f:\n",
    "    valid_y = np.frombuffer(f.read(), np.uint8, offset=8)\n",
    "    \n",
    "train_sample_index = np.random.choice(60000, size=10)\n",
    "train_x_sample = train_x[train_sample_index, :, :]\n",
    "train_y_sample = train_y[train_sample_index]\n",
    "valid_sample_index = np.random.choice(10000, size=1)\n",
    "valid_x_sample = valid_x[valid_sample_index, :, :]\n",
    "valid_y_sample = valid_y[valid_sample_index]\n",
    "\n",
    "train_x_sample.shape, train_y_sample.shape, valid_x_sample.shape, valid_y_sample.shape"
   ]
  },
  {
   "cell_type": "code",
   "execution_count": 55,
   "metadata": {},
   "outputs": [],
   "source": [
    "def to_rgb(x):\n",
    "    \n",
    "    w, h = x.shape\n",
    "    ret = np.empty((w, h, 3), dtype=np.uint8)\n",
    "    ret[:, :, 0] = x\n",
    "    ret[:, :, 1] = x\n",
    "    ret[:, :, 2] = x\n",
    "    \n",
    "    return ret"
   ]
  },
  {
   "cell_type": "code",
   "execution_count": 56,
   "metadata": {},
   "outputs": [
    {
     "data": {
      "text/plain": [
       "((10, 28, 28, 3), (1, 28, 28, 3))"
      ]
     },
     "execution_count": 56,
     "metadata": {},
     "output_type": "execute_result"
    }
   ],
   "source": [
    "train_x_sample = np.array([to_rgb(x) for x in train_x_sample])\n",
    "valid_x_sample = np.array([to_rgb(x) for x in valid_x_sample])\n",
    "\n",
    "train_x_sample.shape, valid_x_sample.shape"
   ]
  },
  {
   "cell_type": "code",
   "execution_count": 57,
   "metadata": {},
   "outputs": [
    {
     "data": {
      "image/png": "[encoded data removed]",
      "text/plain": [
       "<Figure size 432x288 with 1 Axes>"
      ]
     },
     "metadata": {},
     "output_type": "display_data"
    }
   ],
   "source": [
    "x = train_x[0]\n",
    "\n",
    "plt.imshow(x)\n",
    "plt.show()"
   ]
  },
  {
   "cell_type": "code",
   "execution_count": 58,
   "metadata": {},
   "outputs": [],
   "source": [
    "class TimeHistory(Callback):\n",
    "    \n",
    "    def on_train_begin(self, logs={}):\n",
    "        \n",
    "        self.times = []\n",
    "\n",
    "    def on_epoch_begin(self, epoch, logs={}):\n",
    "        \n",
    "        self.epoch_start_time = time.time()\n",
    "\n",
    "    def on_epoch_end(self, epoch, logs={}):\n",
    "        \n",
    "        self.times.append(time.time() - self.epoch_start_time)"
   ]
  },
  {
   "cell_type": "code",
   "execution_count": 61,
   "metadata": {},
   "outputs": [],
   "source": [
    "class ResNet:\n",
    "    \n",
    "    def __init__(self, n, framework, initial_lr=0.01, nb_epochs=100):\n",
    "        \n",
    "        self.n = n\n",
    "        # バッチサイズがかなり違うので学習率は要調整\n",
    "        self.framework = framework\n",
    "        self.initial_lr = initial_lr\n",
    "        self.nb_epochs = nb_epochs\n",
    "        self.batch_size = 1\n",
    "        self.weight_decay = 0.0005\n",
    "        # Make model\n",
    "        self.model = self.make_model()\n",
    "\n",
    "    # オリジナルの論文に従って、サブサンプリングにPoolingではなくstride=2のConvを使う\n",
    "    def subsumpling(self, output_channels, input_tensor):\n",
    "        \n",
    "        return Conv2D(output_channels, kernel_size=1, strides=(2,2), kernel_regularizer=l2(self.weight_decay))(input_tensor)\n",
    "\n",
    "    # BN->ReLU->Conv->BN->ReLU->Conv をショートカットさせる(Kaimingらの研究による)\n",
    "    # https://www.slideshare.net/KotaNagasato/resnet-82940994\n",
    "    def block(self, channles, input_tensor):\n",
    "        \n",
    "        # ショートカット元\n",
    "        shortcut = input_tensor\n",
    "        # メイン側\n",
    "        x = BatchNormalization()(input_tensor)\n",
    "        x = Activation(\"relu\")(x)\n",
    "        x = Conv2D(channles, kernel_size=3, padding=\"same\", kernel_regularizer=l2(self.weight_decay))(x)\n",
    "        x = BatchNormalization()(x)\n",
    "        x = Activation(\"relu\")(x)\n",
    "        x = Conv2D(channles, kernel_size=3, padding=\"same\", kernel_regularizer=l2(self.weight_decay))(x)\n",
    "        # 結合\n",
    "        return Add()([x, shortcut])\n",
    "\n",
    "    def make_model(self):\n",
    "        \n",
    "        input = Input(shape=(32, 32, 3))\n",
    "        # 3->16にチャンネル数を増やす\n",
    "        x = Conv2D(16, kernel_size=3, padding=\"same\", kernel_regularizer=l2(self.weight_decay))(input)\n",
    "        # 32x32x16のブロックをn回\n",
    "        for i in range(self.n):\n",
    "            x = self.block(16, x)\n",
    "        # 16x16x32\n",
    "        x = self.subsumpling(32, x)\n",
    "        for i in range(self.n):\n",
    "            x = self.block(32, x)\n",
    "        # 8x8x64\n",
    "        x = self.subsumpling(64, x)\n",
    "        for i in range(self.n):\n",
    "            x = self.block(64, x)\n",
    "        # Global Average Pooling\n",
    "        x = GlobalAveragePooling2D()(x)\n",
    "        x = Dense(10, activation=\"softmax\")(x)\n",
    "        # model\n",
    "        model = Model(input, x)\n",
    "        return model\n",
    "\n",
    "    def lr_schduler(self, epoch):\n",
    "        \n",
    "        x = self.initial_lr\n",
    "        if epoch >= self.nb_epochs * 0.5: x /= 10.0\n",
    "        if epoch >= self.nb_epochs * 0.75: x /= 10.0\n",
    "        return x\n",
    "\n",
    "    def train(self, X_train, y_train, X_val, y_val):\n",
    "        \n",
    "        # コンパイル\n",
    "        self.model.compile(optimizer=SGD(lr=self.initial_lr, momentum=0.9), loss=\"categorical_crossentropy\", metrics=[\"acc\"])\n",
    "        # Data Augmentation\n",
    "        traingen = ImageDataGenerator(rescale=1./255, width_shift_range=4./32, height_shift_range=4./32, horizontal_flip=True)\n",
    "        valgen = ImageDataGenerator(rescale=1./255)\n",
    "        \"\"\"\n",
    "        # TPU\n",
    "        tpu_grpc_url = \"grpc://\"+os.environ[\"COLAB_TPU_ADDR\"]\n",
    "        tpu_cluster_resolver = tf.contrib.cluster_resolver.TPUClusterResolver(tpu_grpc_url)\n",
    "        strategy = keras_support.TPUDistributionStrategy(tpu_cluster_resolver)\n",
    "        self.model = tf.contrib.tpu.keras_to_tpu_model(self.model, strategy=strategy)\n",
    "        \"\"\"\n",
    "        # Callback\n",
    "        time_cb = TimeHistory()\n",
    "        lr_cb = LearningRateScheduler(self.lr_schduler)\n",
    "        # Train\n",
    "        history = self.model.fit_generator(traingen.flow(X_train, y_train, batch_size=self.batch_size), epochs=self.nb_epochs,\n",
    "                                           steps_per_epoch=len(X_train)/self.batch_size, validation_data=valgen.flow(X_val, y_val, batch_size=self.batch_size),\n",
    "                                           validation_steps=len(X_val)/self.batch_size,\n",
    "                                           callbacks=[time_cb, lr_cb]).history\n",
    "        history[\"time\"] = time_cb.times\n",
    "        # Save history\n",
    "        file_name = f\"{self.framework}_n{self.n}.dat\"\n",
    "        with open(file_name, \"wb\") as fp:\n",
    "            pickle.dump(history, fp)"
   ]
  },
  {
   "cell_type": "code",
   "execution_count": 63,
   "metadata": {},
   "outputs": [
    {
     "name": "stdout",
     "output_type": "stream",
     "text": [
      "Downloading data from https://www.cs.toronto.edu/~kriz/cifar-10-python.tar.gz\n",
      "170500096/170498071 [==============================] - 2832s 17us/step\n",
      "Epoch 1/1\n",
      "50000/50000 [==============================] - 2563s 51ms/step - loss: 14.5753 - acc: 0.0994 - val_loss: 14.5218 - val_acc: 0.1000\n"
     ]
    }
   ],
   "source": [
    "K.clear_session()\n",
    "model = ResNet(3, 'tf_keras', nb_epochs=1)\n",
    "#train_y, valid_y = to_categorical(train_y), to_categorical(valid_y) # to one-hot\n",
    "(X_train, y_train), (X_test, y_test) = cifar10.load_data()\n",
    "y_train, y_test = to_categorical(y_train), to_categorical(y_test)\n",
    "#model.train(train_x, train_y, valid_x, valid_y)\n",
    "model.train(X_train, y_train, X_test, y_test)"
   ]
  },
  {
   "cell_type": "code",
   "execution_count": 51,
   "metadata": {},
   "outputs": [
    {
     "data": {
      "text/plain": [
       "array([[0., 0., 0., ..., 0., 0., 0.],\n",
       "       [1., 0., 0., ..., 0., 0., 0.],\n",
       "       [0., 0., 0., ..., 0., 0., 0.],\n",
       "       ...,\n",
       "       [0., 0., 0., ..., 0., 0., 0.],\n",
       "       [0., 0., 0., ..., 0., 0., 0.],\n",
       "       [0., 0., 0., ..., 0., 1., 0.]], dtype=float32)"
      ]
     },
     "execution_count": 51,
     "metadata": {},
     "output_type": "execute_result"
    }
   ],
   "source": [
    "train_y2 = to_categorical(train_y)\n",
    "train_y2"
   ]
  },
  {
   "cell_type": "code",
   "execution_count": 52,
   "metadata": {},
   "outputs": [
    {
     "data": {
      "text/plain": [
       "array([5, 0, 4, ..., 5, 6, 8], dtype=uint8)"
      ]
     },
     "execution_count": 52,
     "metadata": {},
     "output_type": "execute_result"
    }
   ],
   "source": [
    "train_y"
   ]
  },
  {
   "cell_type": "code",
   "execution_count": 53,
   "metadata": {},
   "outputs": [
    {
     "data": {
      "text/plain": [
       "array([0., 0., 0., 0., 0., 1., 0., 0., 0., 0.], dtype=float32)"
      ]
     },
     "execution_count": 53,
     "metadata": {},
     "output_type": "execute_result"
    }
   ],
   "source": [
    "train_y2[0]"
   ]
  },
  {
   "cell_type": "code",
   "execution_count": null,
   "metadata": {},
   "outputs": [],
   "source": []
  }
 ],
 "metadata": {
  "kernelspec": {
   "display_name": "Python 3",
   "language": "python",
   "name": "python3"
  },
  "language_info": {
   "codemirror_mode": {
    "name": "ipython",
    "version": 3
   },
   "file_extension": ".py",
   "mimetype": "text/x-python",
   "name": "python",
   "nbconvert_exporter": "python",
   "pygments_lexer": "ipython3",
   "version": "3.6.6"
  }
 },
 "nbformat": 4,
 "nbformat_minor": 2
}
