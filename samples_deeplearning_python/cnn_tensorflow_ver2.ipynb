{
 "cells": [
  {
   "cell_type": "markdown",
   "metadata": {},
   "source": [
    "* CNN by TensorFLow\n",
    "* Low level"
   ]
  },
  {
   "cell_type": "code",
   "execution_count": 2,
   "metadata": {},
   "outputs": [],
   "source": [
    "import sys\n",
    "import numpy as np\n",
    "import matplotlib\n",
    "import matplotlib.pylab as plt\n",
    "import seaborn as sns\n",
    "from sklearn import model_selection, metrics\n",
    "import tensorflow as tf\n",
    "from tqdm import tqdm"
   ]
  },
  {
   "cell_type": "code",
   "execution_count": 3,
   "metadata": {},
   "outputs": [],
   "source": [
    "import urllib\n",
    "from sklearn.datasets import fetch_mldata\n",
    "\n",
    "try:\n",
    "    mnist = fetch_mldata('MNIST original')\n",
    "except urllib.error.HTTPError as ex:\n",
    "    from six.moves import urllib\n",
    "    from scipy.io import loadmat\n",
    "    import os\n",
    "    print('Could not download MNIST data from mldata.org, trying alternative...')\n",
    "    mnist_alternative_url = 'https://github.com/amplab/datascience-sp14/raw/master/lab7/mldata/mnist-original.mat'\n",
    "    mnist_path = './mnist-original.mat'\n",
    "    response = urllib.request.urlopen(mnist_alternative_url)\n",
    "    with open(mnist_path, 'wb') as f:\n",
    "        content = response.read()\n",
    "        f.write(content)\n",
    "    mnist_raw = loadmat(mnist_path)\n",
    "    mnist = {\n",
    "        \"data\": mnist_raw['data'].T,\n",
    "        \"target\": mnist_raw['label'][0],\n",
    "        \"COL_NAMES\": ['label', 'data'],\n",
    "        \"DESCR\": 'mldata.org dataset: mnist-original',\n",
    "    }\n",
    "    print('Success!')"
   ]
  },
  {
   "cell_type": "code",
   "execution_count": 4,
   "metadata": {},
   "outputs": [
    {
     "data": {
      "text/plain": [
       "((70000, 28, 28, 1), (70000,))"
      ]
     },
     "execution_count": 4,
     "metadata": {},
     "output_type": "execute_result"
    }
   ],
   "source": [
    "mnist['data'] = mnist['data'].astype(np.float32).reshape(len(mnist['data']), 28, 28, 1) # image data\n",
    "mnist['data'] /= 255\n",
    "mnist['target'] = mnist['target'].astype(np.int32) # label data\n",
    "mnist['data'].shape, mnist['target'].shape"
   ]
  },
  {
   "cell_type": "code",
   "execution_count": 5,
   "metadata": {},
   "outputs": [
    {
     "data": {
      "text/plain": [
       "((56000, 28, 28, 1), (56000, 10), (14000, 28, 28, 1), (14000, 10))"
      ]
     },
     "execution_count": 5,
     "metadata": {},
     "output_type": "execute_result"
    }
   ],
   "source": [
    "# train data size : validation data size= 8 : 2\n",
    "train_x, valid_x, train_y, valid_y = model_selection.train_test_split(mnist['data'], mnist['target'], test_size=0.2)\n",
    "\n",
    "# ラベルはone-hotベクトルに変換する\n",
    "train_y = np.eye(np.max(train_y)+1)[train_y]\n",
    "valid_y = np.eye(np.max(valid_y)+1)[valid_y]\n",
    "\n",
    "train_x.shape, train_y.shape, valid_x.shape, valid_y.shape"
   ]
  },
  {
   "cell_type": "code",
   "execution_count": null,
   "metadata": {},
   "outputs": [],
   "source": []
  }
 ],
 "metadata": {
  "kernelspec": {
   "display_name": "Python 3",
   "language": "python",
   "name": "python3"
  },
  "language_info": {
   "codemirror_mode": {
    "name": "ipython",
    "version": 3
   },
   "file_extension": ".py",
   "mimetype": "text/x-python",
   "name": "python",
   "nbconvert_exporter": "python",
   "pygments_lexer": "ipython3",
   "version": "3.6.3"
  }
 },
 "nbformat": 4,
 "nbformat_minor": 2
}
