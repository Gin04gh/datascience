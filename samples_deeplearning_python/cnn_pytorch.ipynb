{
 "cells": [
  {
   "cell_type": "code",
   "execution_count": 76,
   "metadata": {},
   "outputs": [],
   "source": [
    "import sys\n",
    "import numpy as np\n",
    "import matplotlib.pylab as plt\n",
    "import seaborn as sns\n",
    "from sklearn import model_selection, metrics\n",
    "import torch\n",
    "import torch.nn as nn\n",
    "import torch.nn.functional as F\n",
    "from torchvision import datasets, transforms\n",
    "from torch.autograd import Variable\n",
    "from tqdm import tqdm"
   ]
  },
  {
   "cell_type": "code",
   "execution_count": 84,
   "metadata": {},
   "outputs": [
    {
     "data": {
      "text/plain": [
       "True"
      ]
     },
     "execution_count": 84,
     "metadata": {},
     "output_type": "execute_result"
    }
   ],
   "source": [
    "torch.cuda.is_available()"
   ]
  },
  {
   "cell_type": "code",
   "execution_count": 2,
   "metadata": {},
   "outputs": [],
   "source": [
    "import urllib\n",
    "from sklearn.datasets import fetch_mldata\n",
    "\n",
    "try:\n",
    "    mnist = fetch_mldata('MNIST original')\n",
    "except urllib.error.HTTPError as ex:\n",
    "    from six.moves import urllib\n",
    "    from scipy.io import loadmat\n",
    "    import os\n",
    "    print('Could not download MNIST data from mldata.org, trying alternative...')\n",
    "    mnist_alternative_url = 'https://github.com/amplab/datascience-sp14/raw/master/lab7/mldata/mnist-original.mat'\n",
    "    mnist_path = './mnist-original.mat'\n",
    "    response = urllib.request.urlopen(mnist_alternative_url)\n",
    "    with open(mnist_path, 'wb') as f:\n",
    "        content = response.read()\n",
    "        f.write(content)\n",
    "    mnist_raw = loadmat(mnist_path)\n",
    "    mnist = {\n",
    "        \"data\": mnist_raw['data'].T,\n",
    "        \"target\": mnist_raw['label'][0],\n",
    "        \"COL_NAMES\": ['label', 'data'],\n",
    "        \"DESCR\": 'mldata.org dataset: mnist-original',\n",
    "    }\n",
    "    print('Success!')"
   ]
  },
  {
   "cell_type": "code",
   "execution_count": 85,
   "metadata": {},
   "outputs": [
    {
     "data": {
      "text/plain": [
       "((70000, 1, 28, 28), (70000,))"
      ]
     },
     "execution_count": 85,
     "metadata": {},
     "output_type": "execute_result"
    }
   ],
   "source": [
    "mnist['data'] = mnist['data'].astype(np.float32).reshape(len(mnist['data']), 1, 28, 28) # image data\n",
    "mnist['data'] /= 255\n",
    "mnist['target'] = mnist['target'].astype(np.int32) # label data\n",
    "mnist['data'].shape, mnist['target'].shape"
   ]
  },
  {
   "cell_type": "code",
   "execution_count": 86,
   "metadata": {},
   "outputs": [
    {
     "data": {
      "text/plain": [
       "(56, 14)"
      ]
     },
     "execution_count": 86,
     "metadata": {},
     "output_type": "execute_result"
    }
   ],
   "source": [
    "# train data size : validation data size= 8 : 2\n",
    "train_x, valid_x, train_y, valid_y = model_selection.train_test_split(mnist['data'], mnist['target'], test_size=0.2)\n",
    "\n",
    "# DataLoader化\n",
    "batch_size = 1000\n",
    "train = torch.utils.data.TensorDataset(torch.from_numpy(train_x), torch.from_numpy(train_y))\n",
    "train_loader = torch.utils.data.DataLoader(train, batch_size=batch_size, shuffle=True)\n",
    "valid = torch.utils.data.TensorDataset(torch.from_numpy(valid_x), torch.from_numpy(valid_y))\n",
    "valid_loader = torch.utils.data.DataLoader(valid, batch_size=batch_size)\n",
    "len(train_loader), len(valid_loader)"
   ]
  },
  {
   "cell_type": "code",
   "execution_count": 87,
   "metadata": {},
   "outputs": [],
   "source": [
    "# モデルクラス定義\n",
    "\n",
    "class CNN(nn.Module):\n",
    "    \n",
    "    def __init__(self):\n",
    "        super(CNN, self).__init__()\n",
    "        \n",
    "        # 画像を畳み込みを行うまで\n",
    "        self.head = nn.Sequential(\n",
    "            nn.Conv2d(in_channels=1, out_channels=10, kernel_size=(5, 5), stride=1, padding=0),\n",
    "            nn.ReLU(),\n",
    "            nn.MaxPool2d(kernel_size=2),\n",
    "            nn.Conv2d(in_channels=10, out_channels=20, kernel_size=(5, 5), stride=1, padding=0),\n",
    "            nn.ReLU(),\n",
    "            nn.MaxPool2d(kernel_size=2)\n",
    "        )\n",
    "        \n",
    "        # 畳み込みで得られたベクトルを出力層に順伝播させるまで\n",
    "        self.tail = nn.Sequential(\n",
    "            nn.Linear(320, 50),\n",
    "            nn.ReLU(),\n",
    "            nn.Linear(50, 50),\n",
    "            nn.ReLU(),\n",
    "            nn.Linear(50, 10)\n",
    "        )\n",
    "    \n",
    "    def __call__(self, x):\n",
    "        \n",
    "        h = self.head(x)\n",
    "        h = h.view(-1, 320)\n",
    "        h = self.tail(h)\n",
    "        y = F.log_softmax(h)\n",
    "        return y"
   ]
  },
  {
   "cell_type": "code",
   "execution_count": 88,
   "metadata": {},
   "outputs": [
    {
     "name": "stdout",
     "output_type": "stream",
     "text": [
      "torch.Size([1000, 1, 28, 28])\n"
     ]
    },
    {
     "name": "stderr",
     "output_type": "stream",
     "text": [
      "/usr/local/lib/python3.6/dist-packages/ipykernel_launcher.py:32: UserWarning: Implicit dimension choice for log_softmax has been deprecated. Change the call to include dim=X as an argument.\n"
     ]
    },
    {
     "data": {
      "text/plain": [
       "torch.Size([1000, 10])"
      ]
     },
     "execution_count": 88,
     "metadata": {},
     "output_type": "execute_result"
    }
   ],
   "source": [
    "# test\n",
    "\n",
    "model = CNN()\n",
    "xs, ys = iter(train_loader).next()\n",
    "print(xs.size())\n",
    "preds = model(Variable(xs))\n",
    "preds.shape"
   ]
  },
  {
   "cell_type": "code",
   "execution_count": 89,
   "metadata": {},
   "outputs": [],
   "source": [
    "gpu = -1\n",
    "\n",
    "model = CNN()\n",
    "\n",
    "if gpu >= 0:\n",
    "    model.cuda(gpu)\n",
    "    \n",
    "criterion = nn.CrossEntropyLoss()\n",
    "optimizer = torch.optim.Adam(model.parameters())"
   ]
  },
  {
   "cell_type": "code",
   "execution_count": 90,
   "metadata": {},
   "outputs": [],
   "source": [
    "def train(train_loader):\n",
    "    \n",
    "    #model.train()\n",
    "    running_loss = 0\n",
    "    \n",
    "    for batch_idx, (xs, ys) in enumerate(train_loader):\n",
    "        \n",
    "        if gpu >= 0:\n",
    "            xs = Variable(xs.cuda(gpu))\n",
    "            ys = Variable(ys.cuda(gpu)).long()\n",
    "        else:\n",
    "            xs = Variable(xs)\n",
    "            ys = Variable(ys).long()\n",
    "\n",
    "        optimizer.zero_grad()\n",
    "        preds = model(xs)\n",
    "\n",
    "        loss = criterion(preds, ys)\n",
    "        running_loss += loss.data[0]\n",
    "\n",
    "        loss.backward()\n",
    "        optimizer.step()\n",
    "\n",
    "    train_loss = running_loss / len(train_loader)\n",
    "    \n",
    "    return train_loss\n",
    "\n",
    "def valid(valid_loader):\n",
    "    \n",
    "    model.eval()\n",
    "    running_loss = 0\n",
    "    correct = 0\n",
    "    total = 0\n",
    "    \n",
    "    for batch_idx, (xs, ys) in enumerate(valid_loader):\n",
    "        \n",
    "        if gpu>=0:\n",
    "            xs = Variable(xs.cuda(gpu), volatile=True)\n",
    "            ys = Variable(ys.cuda(gpu), volatile=True).long()\n",
    "        else:\n",
    "            xs = Variable(xs, volatile=True)\n",
    "            ys = Variable(ys, volatile=True).long()\n",
    "\n",
    "        preds = model(xs)\n",
    "\n",
    "        loss = criterion(preds, ys)\n",
    "        running_loss += loss.data[0]\n",
    "\n",
    "        _, pred_labels = torch.max(preds.data, 1)\n",
    "        correct += (pred_labels == ys.data).sum()\n",
    "        total += ys.size(0)\n",
    "\n",
    "    val_loss = running_loss / len(valid_loader)\n",
    "    val_acc = correct / total\n",
    "    \n",
    "    return val_loss, val_acc"
   ]
  },
  {
   "cell_type": "code",
   "execution_count": 91,
   "metadata": {},
   "outputs": [
    {
     "name": "stdout",
     "output_type": "stream",
     "text": [
      "\r",
      "  0%|          | 0/5 [00:00<?, ?it/s]"
     ]
    },
    {
     "name": "stderr",
     "output_type": "stream",
     "text": [
      "/usr/local/lib/python3.6/dist-packages/ipykernel_launcher.py:32: UserWarning: Implicit dimension choice for log_softmax has been deprecated. Change the call to include dim=X as an argument.\n",
      "/usr/local/lib/python3.6/dist-packages/ipykernel_launcher.py:19: UserWarning: invalid index of a 0-dim tensor. This will be an error in PyTorch 0.5. Use tensor.item() to convert a 0-dim tensor to a Python number\n",
      "/usr/local/lib/python3.6/dist-packages/ipykernel_launcher.py:41: UserWarning: volatile was removed and now has no effect. Use `with torch.no_grad():` instead.\n",
      "/usr/local/lib/python3.6/dist-packages/ipykernel_launcher.py:42: UserWarning: volatile was removed and now has no effect. Use `with torch.no_grad():` instead.\n",
      "/usr/local/lib/python3.6/dist-packages/ipykernel_launcher.py:47: UserWarning: invalid index of a 0-dim tensor. This will be an error in PyTorch 0.5. Use tensor.item() to convert a 0-dim tensor to a Python number\n"
     ]
    },
    {
     "name": "stdout",
     "output_type": "stream",
     "text": [
      "epoch:\t1\tloss:\t2.3022892475128174\tval loss:\t2.3016395568847656\tval acc:\t0\n",
      "epoch:\t2\tloss:\t2.3013088703155518\tval loss:\t2.301541566848755\tval acc:\t0\n",
      "epoch:\t3\tloss:\t2.3012452125549316\tval loss:\t2.3016016483306885\tval acc:\t0\n",
      "epoch:\t4\tloss:\t2.3012397289276123\tval loss:\t2.301548480987549\tval acc:\t0\n",
      "epoch:\t5\tloss:\t2.30120587348938\tval loss:\t2.301722764968872\tval acc:\t0\n",
      "100%|██████████| 5/5 [00:38<00:00,  7.63s/it]\n"
     ]
    }
   ],
   "source": [
    "# train\n",
    "\n",
    "epoch_num = 5\n",
    "\n",
    "for epoch in tqdm(range(epoch_num), file=sys.stdout):\n",
    "    \n",
    "    loss = train(train_loader)\n",
    "    val_loss, val_acc = valid(valid_loader)\n",
    "    \n",
    "    if (epoch+1) % 1 == 0:\n",
    "        tqdm.write('epoch:\\t{}\\tloss:\\t{}\\tval loss:\\t{}\\tval acc:\\t{}'.format(epoch+1, loss, val_loss, val_acc))"
   ]
  },
  {
   "cell_type": "code",
   "execution_count": 83,
   "metadata": {},
   "outputs": [
    {
     "name": "stdout",
     "output_type": "stream",
     "text": [
      "\r",
      "  0%|          | 0/5 [00:00<?, ?it/s]"
     ]
    },
    {
     "name": "stderr",
     "output_type": "stream",
     "text": [
      "/usr/local/lib/python3.6/dist-packages/ipykernel_launcher.py:21: UserWarning: invalid index of a 0-dim tensor. This will be an error in PyTorch 0.5. Use tensor.item() to convert a 0-dim tensor to a Python number\n"
     ]
    },
    {
     "name": "stdout",
     "output_type": "stream",
     "text": [
      "epoch:\t1\ttotal loss:\t128.9339599609375\n",
      "epoch:\t2\ttotal loss:\t128.87838745117188      \n",
      "epoch:\t3\ttotal loss:\t128.8729248046875       \n",
      "epoch:\t4\ttotal loss:\t128.8755645751953       \n",
      "epoch:\t5\ttotal loss:\t128.87063598632812      \n",
      "100%|██████████| 5/5 [00:35<00:00,  7.02s/it]\n"
     ]
    }
   ],
   "source": [
    "# train\n",
    "\n",
    "epoch_num = 5\n",
    "\n",
    "for epoch in tqdm(range(epoch_num), file=sys.stdout):\n",
    "    \n",
    "    # mini-batch\n",
    "    total_loss = 0\n",
    "    for i, data in enumerate(train_loader):\n",
    "        \n",
    "        x, y = data\n",
    "        x, y = Variable(x), Variable(y).long()\n",
    "        \n",
    "        if gpu >= 0:\n",
    "            x.cuda(gpu)\n",
    "            y.cuda(gpu)\n",
    "            \n",
    "        optimizer.zero_grad()\n",
    "        pred = model(x)\n",
    "        loss = criterion(pred, y)\n",
    "        total_loss += loss.data[0]\n",
    "        loss.backward()\n",
    "        optimizer.step()\n",
    "        \n",
    "    if (epoch+1) % 1 == 0:\n",
    "        tqdm.write('epoch:\\t{}\\ttotal loss:\\t{}'.format(epoch+1, total_loss))"
   ]
  },
  {
   "cell_type": "code",
   "execution_count": null,
   "metadata": {},
   "outputs": [],
   "source": []
  },
  {
   "cell_type": "code",
   "execution_count": null,
   "metadata": {},
   "outputs": [],
   "source": [
    "# 予測\n",
    "\n",
    "print(\"\\nPredict\")\n",
    "def predict(model, x):\n",
    "    x_ = np.array([x], dtype=\"float32\")\n",
    "    x_ = torch.from_numpy(x_)\n",
    "    x_ = Variable(x_)\n",
    "    y = model(x_)\n",
    "    _, y = torch.max(y.data, 1)\n",
    "    plt.figure(figsize=(1, 1))\n",
    "    plt.imshow(x[0], cmap=cm.gray_r)\n",
    "    plt.show()\n",
    "    print(\"y:\\t{}\\n\".format(y[0]))\n",
    "\n",
    "idx = np.random.choice((70000-N), 10)\n",
    "for i in idx:\n",
    "    predict(model, test_x[i])"
   ]
  }
 ],
 "metadata": {
  "kernelspec": {
   "display_name": "Python 3",
   "language": "python",
   "name": "python3"
  },
  "language_info": {
   "codemirror_mode": {
    "name": "ipython",
    "version": 3
   },
   "file_extension": ".py",
   "mimetype": "text/x-python",
   "name": "python",
   "nbconvert_exporter": "python",
   "pygments_lexer": "ipython3",
   "version": "3.6.3"
  }
 },
 "nbformat": 4,
 "nbformat_minor": 2
}
