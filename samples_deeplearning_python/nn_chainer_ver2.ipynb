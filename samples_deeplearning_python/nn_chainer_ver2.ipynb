{
 "cells": [
  {
   "cell_type": "markdown",
   "metadata": {},
   "source": [
    "* Neural Network by Chainer"
   ]
  },
  {
   "cell_type": "code",
   "execution_count": 2,
   "metadata": {},
   "outputs": [],
   "source": [
    "import time\n",
    "import numpy as np\n",
    "import pandas as pd\n",
    "import chainer\n",
    "import chainer.functions as F\n",
    "import chainer.links as L\n",
    "from chainer.training import extensions\n",
    "from sklearn import datasets"
   ]
  },
  {
   "cell_type": "code",
   "execution_count": 3,
   "metadata": {},
   "outputs": [],
   "source": [
    "# 教師データ\n",
    "\n",
    "N = 100\n",
    "in_size = 4\n",
    "out_size = 3\n",
    "iris = datasets.load_iris()\n",
    "data = pd.DataFrame(data= np.c_[iris[\"data\"], iris[\"target\"]], columns= iris[\"feature_names\"] + [\"target\"])\n",
    "data = np.array(data.values)\n",
    "dataset = []\n",
    "for d in data:\n",
    "    x = d[0:4]\n",
    "    y = d[4]\n",
    "    dataset.append((np.array(x, dtype=\"float32\"), np.array(y, dtype=\"int32\")))\n",
    "N = len(dataset)"
   ]
  },
  {
   "cell_type": "code",
   "execution_count": 4,
   "metadata": {},
   "outputs": [],
   "source": [
    "class NN(chainer.Chain):\n",
    "    \n",
    "    def __init__(self, in_size, hidden_size, out_size):\n",
    "        \n",
    "        super(NN, self).__init__(\n",
    "            xh = L.Linear(in_size, hidden_size),\n",
    "            hh = L.Linear(hidden_size, hidden_size),\n",
    "            hy = L.Linear(hidden_size, out_size)\n",
    "        )\n",
    " \n",
    "    def __call__(self, x):\n",
    "        \n",
    "        h = F.relu(self.xh(x))\n",
    "        h = F.relu(self.hh(h))\n",
    "        y = self.hy(h)\n",
    "        \n",
    "        return y"
   ]
  },
  {
   "cell_type": "code",
   "execution_count": 6,
   "metadata": {},
   "outputs": [
    {
     "data": {
      "text/plain": [
       "<chainer.optimizers.adam.Adam at 0x7f900ea54828>"
      ]
     },
     "execution_count": 6,
     "metadata": {},
     "output_type": "execute_result"
    }
   ],
   "source": [
    "HIDDEN_SIZE = 20\n",
    "\n",
    "model = L.Classifier(NN(in_size=in_size, hidden_size=HIDDEN_SIZE, out_size=out_size))\n",
    "optimizer = chainer.optimizers.Adam()\n",
    "optimizer.setup(model)"
   ]
  },
  {
   "cell_type": "code",
   "execution_count": 8,
   "metadata": {},
   "outputs": [
    {
     "name": "stdout",
     "output_type": "stream",
     "text": [
      "epoch       main/loss   validation/main/loss  main/accuracy  validation/main/accuracy  elapsed_time\n",
      "\u001b[J10          3.46867     2.65507               0.304          0.446667                  0.159232      \n",
      "\u001b[J20          1.13221     1.0186                0.517          0.466667                  0.318512      \n",
      "\u001b[J30          0.672347    0.719645              0.71           0.586667                  0.477058      \n",
      "\u001b[J40          0.534068    0.594945              0.721          0.606667                  0.636286      \n",
      "\u001b[J50          0.464032    0.526126              0.764          0.661667                  0.79505       \n",
      "\u001b[J60          0.422643    0.48023               0.829          0.736667                  0.954213      \n",
      "\u001b[J70          0.385826    0.439647              0.87           0.805                     1.1127        \n",
      "\u001b[J80          0.344917    0.392585              0.909          0.918333                  1.272         \n",
      "\u001b[J90          0.302845    0.345263              0.933          0.956667                  1.43011       \n",
      "\u001b[J100         0.265786    0.304427              0.95           0.951667                  1.59103       \n"
     ]
    }
   ],
   "source": [
    "# train\n",
    "\n",
    "EPOCH_NUM = 100\n",
    "BATCH_SIZE = 20\n",
    "\n",
    "train, test = chainer.datasets.split_dataset_random(dataset, N-50) # 100件を学習用、50件をテスト用\n",
    "train_iter = chainer.iterators.SerialIterator(train, BATCH_SIZE)\n",
    "test_iter = chainer.iterators.SerialIterator(test, BATCH_SIZE, repeat=False, shuffle=False)\n",
    "updater = chainer.training.StandardUpdater(train_iter, optimizer, device=-1)\n",
    "trainer = chainer.training.Trainer(updater, (EPOCH_NUM, \"epoch\"), out=\"result\")\n",
    "trainer.extend(extensions.Evaluator(test_iter, model, device=-1))\n",
    "trainer.extend(extensions.LogReport(trigger=(10, \"epoch\"))) # 10エポックごとにログ出力\n",
    "trainer.extend(extensions.PrintReport( [\"epoch\", \"main/loss\", \"validation/main/loss\", \"main/accuracy\", \"validation/main/accuracy\", \"elapsed_time\"])) # エポック、学習損失、テスト損失、学習正解率、テスト正解率、経過時間\n",
    "#trainer.extend(extensions.ProgressBar()) # プログレスバー出力\n",
    "trainer.run()"
   ]
  },
  {
   "cell_type": "code",
   "execution_count": 9,
   "metadata": {},
   "outputs": [
    {
     "name": "stdout",
     "output_type": "stream",
     "text": [
      "x\ty\tpredict\n",
      "[5.5 2.3 4.  1.3] \t 1 \t 1\n",
      "[6.9 3.1 4.9 1.5] \t 1 \t 1\n",
      "[4.6 3.4 1.4 0.3] \t 0 \t 0\n",
      "[4.9 3.1 1.5 0.1] \t 0 \t 0\n",
      "[6.7 3.1 4.7 1.5] \t 1 \t 1\n",
      "[6.  3.4 4.5 1.6] \t 1 \t 1\n",
      "[6.2 2.8 4.8 1.8] \t 2 \t 2\n",
      "[5.2 3.5 1.5 0.2] \t 0 \t 0\n",
      "[6.2 3.4 5.4 2.3] \t 2 \t 2\n",
      "[6.7 2.5 5.8 1.8] \t 2 \t 2\n"
     ]
    }
   ],
   "source": [
    "# predict\n",
    "\n",
    "print(\"x\\ty\\tpredict\")\n",
    "idx = np.random.choice(N, 10)\n",
    "for i in idx:\n",
    "    x = dataset[i][0]\n",
    "    y_ = np.argmax(model.predictor(x=x.reshape(1,len(x))).data)\n",
    "    y = dataset[i][1]\n",
    "    print(x, \"\\t\", y, \"\\t\", y_)"
   ]
  },
  {
   "cell_type": "code",
   "execution_count": 10,
   "metadata": {},
   "outputs": [
    {
     "name": "stdout",
     "output_type": "stream",
     "text": [
      "Python 3.6.3\r\n"
     ]
    }
   ],
   "source": [
    "!python --version"
   ]
  },
  {
   "cell_type": "code",
   "execution_count": 11,
   "metadata": {},
   "outputs": [
    {
     "name": "stdout",
     "output_type": "stream",
     "text": [
      "absl-py==0.2.0\r\n",
      "astor==0.6.2\r\n",
      "backcall==0.1.0\r\n",
      "bleach==1.5.0\r\n",
      "boto==2.49.0\r\n",
      "boto3==1.7.73\r\n",
      "botocore==1.10.73\r\n",
      "bz2file==0.98\r\n",
      "certifi==2018.4.16\r\n",
      "chainer==4.0.0\r\n",
      "chainercv==0.10.0\r\n",
      "chardet==3.0.4\r\n",
      "cntk-gpu==2.5.1\r\n",
      "cupy==4.0.0\r\n",
      "cycler==0.10.0\r\n",
      "Cython==0.28.2\r\n",
      "decorator==4.3.0\r\n",
      "dm-sonnet==1.20\r\n",
      "docutils==0.14\r\n",
      "edward==1.3.5\r\n",
      "entrypoints==0.2.3\r\n",
      "fastrlock==0.3\r\n",
      "filelock==3.0.4\r\n",
      "future==0.16.0\r\n",
      "gast==0.2.0\r\n",
      "gensim==3.5.0\r\n",
      "graphviz==0.8.3\r\n",
      "grpcio==1.11.0\r\n",
      "h5py==2.7.1\r\n",
      "html5lib==0.9999999\r\n",
      "idna==2.6\r\n",
      "ipykernel==4.8.2\r\n",
      "ipython==6.3.1\r\n",
      "ipython-genutils==0.2.0\r\n",
      "ipywidgets==7.2.1\r\n",
      "jedi==0.12.0\r\n",
      "Jinja2==2.10\r\n",
      "jmespath==0.9.3\r\n",
      "jsonschema==2.6.0\r\n",
      "jupyter==1.0.0\r\n",
      "jupyter-client==5.2.3\r\n",
      "jupyter-console==5.2.0\r\n",
      "jupyter-core==4.4.0\r\n",
      "Keras==2.1.6\r\n",
      "kiwisolver==1.0.1\r\n",
      "Lasagne==0.2.dev1\r\n",
      "leveldb==0.194\r\n",
      "Mako==1.0.7\r\n",
      "Markdown==2.6.11\r\n",
      "MarkupSafe==1.0\r\n",
      "matplotlib==2.2.2\r\n",
      "mecab-python3==0.7\r\n",
      "mistune==0.8.3\r\n",
      "mxnet-cu90==1.1.0.post0\r\n",
      "nbconvert==5.3.1\r\n",
      "nbformat==4.4.0\r\n",
      "networkx==2.1\r\n",
      "nose==1.3.7\r\n",
      "notebook==5.4.1\r\n",
      "numpy==1.14.3\r\n",
      "pandas==0.22.0\r\n",
      "pandocfilters==1.4.2\r\n",
      "parso==0.2.0\r\n",
      "pexpect==4.5.0\r\n",
      "pickleshare==0.7.4\r\n",
      "Pillow==5.1.0\r\n",
      "plotly==3.1.1\r\n",
      "prompt-toolkit==1.0.15\r\n",
      "protobuf==3.5.2.post1\r\n",
      "ptyprocess==0.5.2\r\n",
      "pycurl==7.43.0\r\n",
      "Pygments==2.2.0\r\n",
      "pygobject==3.20.0\r\n",
      "pygpu==0.7.5+15.gf036aef\r\n",
      "pyparsing==2.2.0\r\n",
      "python-apt==1.1.0b1+ubuntu0.16.4.1\r\n",
      "python-dateutil==2.7.2\r\n",
      "python-gflags==3.1.2\r\n",
      "pytz==2018.4\r\n",
      "PyWavelets==0.5.2\r\n",
      "PyYAML==3.12\r\n",
      "pyzmq==17.0.0\r\n",
      "qtconsole==4.3.1\r\n",
      "requests==2.18.4\r\n",
      "retrying==1.3.3\r\n",
      "s3transfer==0.1.13\r\n",
      "scikit-image==0.13.1\r\n",
      "scikit-learn==0.19.1\r\n",
      "scipy==1.0.1\r\n",
      "seaborn==0.9.0\r\n",
      "Send2Trash==1.5.0\r\n",
      "simplegeneric==0.8.1\r\n",
      "six==1.11.0\r\n",
      "smart-open==1.6.0\r\n",
      "tensorboard==1.8.0\r\n",
      "tensorflow-gpu==1.8.0\r\n",
      "termcolor==1.1.0\r\n",
      "terminado==0.8.1\r\n",
      "testpath==0.3.1\r\n",
      "Theano==1.0.1\r\n",
      "torch==0.4.0\r\n",
      "torchvision==0.2.1\r\n",
      "tornado==5.0.2\r\n",
      "tqdm==4.25.0\r\n",
      "traitlets==4.3.2\r\n",
      "urllib3==1.22\r\n",
      "wcwidth==0.1.7\r\n",
      "webencodings==0.5.1\r\n",
      "Werkzeug==0.14.1\r\n",
      "widgetsnbextension==3.2.1\r\n"
     ]
    }
   ],
   "source": [
    "!pip freeze"
   ]
  }
 ],
 "metadata": {
  "kernelspec": {
   "display_name": "Python 3",
   "language": "python",
   "name": "python3"
  },
  "language_info": {
   "codemirror_mode": {
    "name": "ipython",
    "version": 3
   },
   "file_extension": ".py",
   "mimetype": "text/x-python",
   "name": "python",
   "nbconvert_exporter": "python",
   "pygments_lexer": "ipython3",
   "version": "3.6.3"
  }
 },
 "nbformat": 4,
 "nbformat_minor": 2
}
