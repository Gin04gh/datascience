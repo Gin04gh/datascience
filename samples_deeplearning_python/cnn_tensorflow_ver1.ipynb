{
 "cells": [
  {
   "cell_type": "markdown",
   "metadata": {},
   "source": [
    "* CNN by TensorFLow\n",
    "* Low level"
   ]
  },
  {
   "cell_type": "code",
   "execution_count": 3,
   "metadata": {},
   "outputs": [],
   "source": [
    "import sys\n",
    "import numpy as np\n",
    "import matplotlib\n",
    "import matplotlib.pylab as plt\n",
    "import seaborn as sns\n",
    "from sklearn import model_selection, metrics\n",
    "import tensorflow as tf\n",
    "from tqdm import tqdm"
   ]
  },
  {
   "cell_type": "code",
   "execution_count": 4,
   "metadata": {},
   "outputs": [],
   "source": [
    "import urllib\n",
    "from sklearn.datasets import fetch_mldata\n",
    "\n",
    "try:\n",
    "    mnist = fetch_mldata('MNIST original')\n",
    "except urllib.error.HTTPError as ex:\n",
    "    from six.moves import urllib\n",
    "    from scipy.io import loadmat\n",
    "    import os\n",
    "    print('Could not download MNIST data from mldata.org, trying alternative...')\n",
    "    mnist_alternative_url = 'https://github.com/amplab/datascience-sp14/raw/master/lab7/mldata/mnist-original.mat'\n",
    "    mnist_path = './mnist-original.mat'\n",
    "    response = urllib.request.urlopen(mnist_alternative_url)\n",
    "    with open(mnist_path, 'wb') as f:\n",
    "        content = response.read()\n",
    "        f.write(content)\n",
    "    mnist_raw = loadmat(mnist_path)\n",
    "    mnist = {\n",
    "        \"data\": mnist_raw['data'].T,\n",
    "        \"target\": mnist_raw['label'][0],\n",
    "        \"COL_NAMES\": ['label', 'data'],\n",
    "        \"DESCR\": 'mldata.org dataset: mnist-original',\n",
    "    }\n",
    "    print('Success!')"
   ]
  },
  {
   "cell_type": "code",
   "execution_count": 5,
   "metadata": {},
   "outputs": [
    {
     "data": {
      "text/plain": [
       "((70000, 28, 28, 1), (70000,))"
      ]
     },
     "execution_count": 5,
     "metadata": {},
     "output_type": "execute_result"
    }
   ],
   "source": [
    "mnist['data'] = mnist['data'].astype(np.float32).reshape(len(mnist['data']), 28, 28, 1) # image data\n",
    "mnist['data'] /= 255\n",
    "mnist['target'] = mnist['target'].astype(np.int32) # label data\n",
    "mnist['data'].shape, mnist['target'].shape"
   ]
  },
  {
   "cell_type": "code",
   "execution_count": 6,
   "metadata": {},
   "outputs": [
    {
     "data": {
      "text/plain": [
       "((56000, 28, 28, 1), (56000, 10), (14000, 28, 28, 1), (14000, 10))"
      ]
     },
     "execution_count": 6,
     "metadata": {},
     "output_type": "execute_result"
    }
   ],
   "source": [
    "# train data size : validation data size= 8 : 2\n",
    "train_x, valid_x, train_y, valid_y = model_selection.train_test_split(mnist['data'], mnist['target'], test_size=0.2)\n",
    "\n",
    "# ラベルはone-hotベクトルに変換する\n",
    "train_y = np.eye(np.max(train_y)+1)[train_y]\n",
    "valid_y = np.eye(np.max(valid_y)+1)[valid_y]\n",
    "\n",
    "train_x.shape, train_y.shape, valid_x.shape, valid_y.shape"
   ]
  },
  {
   "cell_type": "code",
   "execution_count": 7,
   "metadata": {},
   "outputs": [],
   "source": [
    "# ネットワークの定義\n",
    "\n",
    "# プレースホルダー\n",
    "x_ = tf.placeholder(tf.float32, shape=(None, 28, 28, 1))\n",
    "y_ = tf.placeholder(tf.float32, shape=(None, 10))\n",
    "\n",
    "# 畳み込み層1\n",
    "conv1_features = 20 # 畳み込み層1の出力次元数\n",
    "max_pool_size1 = 2 # 畳み込み層1のマックスプーリングサイズ\n",
    "conv1_w = tf.Variable(tf.truncated_normal([5, 5, 1, conv1_features], stddev=0.1), dtype=tf.float32) # 畳み込み層1の重み\n",
    "conv1_b = tf.Variable(tf.constant(0.1, shape=[conv1_features]), dtype=tf.float32) # 畳み込み層1のバイアス\n",
    "conv1_c2 = tf.nn.conv2d(x_, conv1_w, strides=[1, 1, 1, 1], padding=\"SAME\") # 畳み込み層1-畳み込み\n",
    "conv1_relu = tf.nn.relu(conv1_c2+conv1_b) # 畳み込み層1-ReLU\n",
    "conv1_mp = tf.nn.max_pool(conv1_relu, ksize=[1, max_pool_size1, max_pool_size1, 1], strides=[1, max_pool_size1, max_pool_size1, 1], padding=\"SAME\") # 畳み込み層1-マックスプーリング\n",
    "\n",
    "# 畳み込み層2\n",
    "conv2_features = 50 # 畳み込み層2の出力次元数\n",
    "max_pool_size2 = 2 # 畳み込み層2のマックスプーリングのサイズ\n",
    "conv2_w = tf.Variable(tf.truncated_normal([5, 5, conv1_features, conv2_features], stddev=0.1), dtype=tf.float32) # 畳み込み層2の重み\n",
    "conv2_b = tf.Variable(tf.constant(0.1, shape=[conv2_features]), dtype=tf.float32) # 畳み込み層2のバイアス\n",
    "conv2_c2 = tf.nn.conv2d(conv1_mp, conv2_w, strides=[1, 1, 1, 1], padding=\"SAME\") # 畳み込み層2-畳み込み\n",
    "conv2_relu = tf.nn.relu(conv2_c2+conv2_b) # 畳み込み層2-ReLU\n",
    "conv2_mp = tf.nn.max_pool(conv2_relu, ksize=[1, max_pool_size2, max_pool_size2, 1], strides=[1, max_pool_size2, max_pool_size2, 1], padding=\"SAME\") # 畳み込み層2-マックスプーリング\n",
    "\n",
    "# 全結合層1\n",
    "result_w = x_.shape[1] // (max_pool_size1*max_pool_size2)\n",
    "result_h = x_.shape[2] // (max_pool_size1*max_pool_size2)\n",
    "fc_input_size = result_w * result_h * conv2_features # 畳み込んだ結果、全結合層に入力する次元数\n",
    "fc_features = 500 # 全結合層の出力次元数（隠れ層の次元数）\n",
    "s = conv2_mp.get_shape().as_list() # [None, result_w, result_h, conv2_features]\n",
    "conv_result = tf.reshape(conv2_mp, [-1, s[1]*s[2]*s[3]]) # 畳み込みの結果を1*N層に変換\n",
    "fc1_w = tf.Variable(tf.truncated_normal([fc_input_size.value, fc_features], stddev=0.1), dtype=tf.float32) # 重み\n",
    "fc1_b = tf.Variable(tf.constant(0.1, shape=[fc_features]), dtype=tf.float32) # バイアス\n",
    "fc1 = tf.nn.relu(tf.matmul(conv_result, fc1_w)+fc1_b) # 全結合層1\n",
    "\n",
    "# 全結合層2\n",
    "fc2_w = tf.Variable(tf.truncated_normal([fc_features, fc_features], stddev=0.1), dtype=tf.float32) # 重み\n",
    "fc2_b = tf.Variable(tf.constant(0.1, shape=[fc_features]), dtype=tf.float32) # バイアス\n",
    "fc2 = tf.nn.relu(tf.matmul(fc1, fc2_w)+fc2_b) # 全結合層2\n",
    "\n",
    "# 全結合層3\n",
    "fc3_w = tf.Variable(tf.truncated_normal([fc_features, 10], stddev=0.1), dtype=tf.float32) # 重み\n",
    "fc3_b = tf.Variable(tf.constant(0.1, shape=[10]), dtype=tf.float32) # バイアス\n",
    "pred = tf.nn.softmax(tf.matmul(fc2, fc3_w)+fc3_b)\n",
    "#y = tf.nn.softmax(tf.matmul(x, W) + b)\n",
    "\n",
    "# クロスエントロピー誤差\n",
    "#cross_entropy = tf.reduce_mean(tf.nn.softmax_cross_entropy_with_logits(logits=y, labels=y_))\n",
    "cross_entropy = -tf.reduce_sum(y_*tf.log(pred))\n",
    "\n",
    "# 勾配法\n",
    "train_step = tf.train.AdamOptimizer(1e-4).minimize(cross_entropy)\n",
    "\n",
    "# 正解率の計算\n",
    "correct_prediction = tf.equal(tf.argmax(pred, 1), tf.argmax(y_, 1))\n",
    "accuracy = tf.reduce_mean(tf.cast(correct_prediction, tf.float32))"
   ]
  },
  {
   "cell_type": "code",
   "execution_count": 8,
   "metadata": {},
   "outputs": [
    {
     "name": "stdout",
     "output_type": "stream",
     "text": [
      "epoch:\t1\tloss:\t87826.048828125\taccuracy:\t0.833392858505249\ttest accuracy:\t0.8343571424484253\n",
      "epoch:\t2\tloss:\t22228.538848876953\taccuracy:\t0.9141964316368103\ttest accuracy:\t0.9131428599357605\n",
      "epoch:\t3\tloss:\t13720.878723144531\taccuracy:\t0.9390714168548584\ttest accuracy:\t0.9347142577171326\n",
      "epoch:\t4\tloss:\t10438.166870117188\taccuracy:\t0.9506964087486267\ttest accuracy:\t0.9468571543693542\n",
      "epoch:\t5\tloss:\t8523.885612487793\taccuracy:\t0.960107147693634\ttest accuracy:\t0.9558571577072144\n",
      "100%|██████████| 5/5 [00:08<00:00,  1.69s/it]\n"
     ]
    }
   ],
   "source": [
    "epoch_num = 5\n",
    "batch_size = 1000\n",
    "train_size = len(train_x)\n",
    "\n",
    "sess = tf.InteractiveSession()\n",
    "sess.run(tf.global_variables_initializer())\n",
    "\n",
    "for epoch in tqdm(range(epoch_num), file=sys.stdout):\n",
    "    perm = np.random.permutation(train_size)\n",
    "    total_loss = 0\n",
    "    for i in range(0, train_size, batch_size):\n",
    "        batch_x = train_x[perm[i:i+batch_size]]\n",
    "        batch_y = train_y[perm[i:i+batch_size]]\n",
    "        train_step.run(feed_dict={x_: batch_x, y_: batch_y})\n",
    "        total_loss += cross_entropy.eval(feed_dict={x_:batch_x, y_: batch_y})\n",
    "    if (epoch+1)%1 == 0:\n",
    "        train_accuracy = accuracy.eval(feed_dict={x_: train_x, y_: train_y})\n",
    "        test_accuracy = accuracy.eval(feed_dict={x_: valid_x, y_: valid_y})\n",
    "        tqdm.write('epoch:\\t{}\\tloss:\\t{}\\taccuracy:\\t{}\\ttest accuracy:\\t{}'.format(epoch+1, total_loss, train_accuracy, test_accuracy))"
   ]
  },
  {
   "cell_type": "code",
   "execution_count": 9,
   "metadata": {},
   "outputs": [
    {
     "data": {
      "image/png": "[encoded data removed]",
      "text/plain": [
       "<Figure size 720x576 with 2 Axes>"
      ]
     },
     "metadata": {},
     "output_type": "display_data"
    }
   ],
   "source": [
    "preds = np.argmax(pred.eval(feed_dict={x_: valid_x}), axis=1)\n",
    "\n",
    "cm = metrics.confusion_matrix(preds, np.argmax(valid_y, axis=1))\n",
    "\n",
    "plt.figure(figsize=(10,8))\n",
    "sns.heatmap(cm, annot=True, fmt='d')\n",
    "plt.show()"
   ]
  },
  {
   "cell_type": "code",
   "execution_count": 10,
   "metadata": {},
   "outputs": [
    {
     "data": {
      "image/png": "[encoded data removed]",
      "text/plain": [
       "<Figure size 1080x72 with 10 Axes>"
      ]
     },
     "metadata": {},
     "output_type": "display_data"
    },
    {
     "data": {
      "image/png": "[encoded data removed]",
      "text/plain": [
       "<Figure size 1080x72 with 10 Axes>"
      ]
     },
     "metadata": {},
     "output_type": "display_data"
    },
    {
     "data": {
      "image/png": "[encoded data removed]",
      "text/plain": [
       "<Figure size 1080x72 with 10 Axes>"
      ]
     },
     "metadata": {},
     "output_type": "display_data"
    }
   ],
   "source": [
    "indices = np.random.choice(len(valid_x), 30)\n",
    "\n",
    "for i, idx in enumerate(indices):\n",
    "    \n",
    "    if i%10 == 0:\n",
    "        fig, axs = plt.subplots(ncols=10, figsize=(15,1))\n",
    "    \n",
    "    x = valid_x[idx]\n",
    "    y = np.argmax(valid_y, axis=1)[idx]\n",
    "    \n",
    "    x_img = x.reshape(28, 28)\n",
    "    x = x[np.newaxis]\n",
    "    \n",
    "    p = np.argmax(pred.eval(feed_dict={x_: x}), axis=1)[0]\n",
    "\n",
    "    axs[i%10].imshow(x_img, cmap='gray')\n",
    "    title = 'y: {}'.format(y) + '\\n' + 'pred: {}'.format(p)\n",
    "    axs[i%10].set_title(title)\n",
    "    axs[i%10].axis('off')\n",
    "\n",
    "plt.show()"
   ]
  },
  {
   "cell_type": "code",
   "execution_count": 11,
   "metadata": {},
   "outputs": [
    {
     "name": "stdout",
     "output_type": "stream",
     "text": [
      "Python 3.6.3\r\n"
     ]
    }
   ],
   "source": [
    "!python --version"
   ]
  },
  {
   "cell_type": "code",
   "execution_count": 12,
   "metadata": {},
   "outputs": [
    {
     "name": "stdout",
     "output_type": "stream",
     "text": [
      "absl-py==0.2.0\r\n",
      "astor==0.6.2\r\n",
      "backcall==0.1.0\r\n",
      "bleach==1.5.0\r\n",
      "boto==2.49.0\r\n",
      "boto3==1.7.73\r\n",
      "botocore==1.10.73\r\n",
      "bz2file==0.98\r\n",
      "certifi==2018.4.16\r\n",
      "chainer==4.0.0\r\n",
      "chainercv==0.10.0\r\n",
      "chardet==3.0.4\r\n",
      "cntk-gpu==2.5.1\r\n",
      "cupy==4.0.0\r\n",
      "cycler==0.10.0\r\n",
      "Cython==0.28.2\r\n",
      "decorator==4.3.0\r\n",
      "dm-sonnet==1.20\r\n",
      "docutils==0.14\r\n",
      "edward==1.3.5\r\n",
      "entrypoints==0.2.3\r\n",
      "fastrlock==0.3\r\n",
      "filelock==3.0.4\r\n",
      "future==0.16.0\r\n",
      "gast==0.2.0\r\n",
      "gensim==3.5.0\r\n",
      "graphviz==0.8.3\r\n",
      "grpcio==1.11.0\r\n",
      "h5py==2.7.1\r\n",
      "html5lib==0.9999999\r\n",
      "idna==2.6\r\n",
      "ipykernel==4.8.2\r\n",
      "ipython==6.3.1\r\n",
      "ipython-genutils==0.2.0\r\n",
      "ipywidgets==7.2.1\r\n",
      "jedi==0.12.0\r\n",
      "Jinja2==2.10\r\n",
      "jmespath==0.9.3\r\n",
      "jsonschema==2.6.0\r\n",
      "jupyter==1.0.0\r\n",
      "jupyter-client==5.2.3\r\n",
      "jupyter-console==5.2.0\r\n",
      "jupyter-core==4.4.0\r\n",
      "Keras==2.1.6\r\n",
      "kiwisolver==1.0.1\r\n",
      "Lasagne==0.2.dev1\r\n",
      "leveldb==0.194\r\n",
      "Mako==1.0.7\r\n",
      "Markdown==2.6.11\r\n",
      "MarkupSafe==1.0\r\n",
      "matplotlib==2.2.2\r\n",
      "mecab-python3==0.7\r\n",
      "mistune==0.8.3\r\n",
      "mxnet-cu90==1.1.0.post0\r\n",
      "nbconvert==5.3.1\r\n",
      "nbformat==4.4.0\r\n",
      "networkx==2.1\r\n",
      "nose==1.3.7\r\n",
      "notebook==5.4.1\r\n",
      "numpy==1.14.3\r\n",
      "pandas==0.22.0\r\n",
      "pandocfilters==1.4.2\r\n",
      "parso==0.2.0\r\n",
      "pexpect==4.5.0\r\n",
      "pickleshare==0.7.4\r\n",
      "Pillow==5.1.0\r\n",
      "plotly==3.1.1\r\n",
      "prompt-toolkit==1.0.15\r\n",
      "protobuf==3.5.2.post1\r\n",
      "ptyprocess==0.5.2\r\n",
      "pycurl==7.43.0\r\n",
      "Pygments==2.2.0\r\n",
      "pygobject==3.20.0\r\n",
      "pygpu==0.7.5+15.gf036aef\r\n",
      "pyparsing==2.2.0\r\n",
      "python-apt==1.1.0b1+ubuntu0.16.4.1\r\n",
      "python-dateutil==2.7.2\r\n",
      "python-gflags==3.1.2\r\n",
      "pytz==2018.4\r\n",
      "PyWavelets==0.5.2\r\n",
      "PyYAML==3.12\r\n",
      "pyzmq==17.0.0\r\n",
      "qtconsole==4.3.1\r\n",
      "requests==2.18.4\r\n",
      "retrying==1.3.3\r\n",
      "s3transfer==0.1.13\r\n",
      "scikit-image==0.13.1\r\n",
      "scikit-learn==0.19.1\r\n",
      "scipy==1.0.1\r\n",
      "seaborn==0.9.0\r\n",
      "Send2Trash==1.5.0\r\n",
      "simplegeneric==0.8.1\r\n",
      "six==1.11.0\r\n",
      "smart-open==1.6.0\r\n",
      "tensorboard==1.8.0\r\n",
      "tensorflow-gpu==1.8.0\r\n",
      "termcolor==1.1.0\r\n",
      "terminado==0.8.1\r\n",
      "testpath==0.3.1\r\n",
      "Theano==1.0.1\r\n",
      "torch==0.4.0\r\n",
      "torchvision==0.2.1\r\n",
      "tornado==5.0.2\r\n",
      "tqdm==4.25.0\r\n",
      "traitlets==4.3.2\r\n",
      "urllib3==1.22\r\n",
      "wcwidth==0.1.7\r\n",
      "webencodings==0.5.1\r\n",
      "Werkzeug==0.14.1\r\n",
      "widgetsnbextension==3.2.1\r\n"
     ]
    }
   ],
   "source": [
    "!pip freeze"
   ]
  },
  {
   "cell_type": "code",
   "execution_count": 13,
   "metadata": {},
   "outputs": [
    {
     "name": "stdout",
     "output_type": "stream",
     "text": [
      "NVRM version: NVIDIA UNIX x86_64 Kernel Module  384.111  Tue Dec 19 23:51:45 PST 2017\r\n",
      "GCC version:  gcc version 5.4.0 20160609 (Ubuntu 5.4.0-6ubuntu1~16.04.10) \r\n"
     ]
    }
   ],
   "source": [
    "!cat /proc/driver/nvidia/version"
   ]
  },
  {
   "cell_type": "code",
   "execution_count": 14,
   "metadata": {},
   "outputs": [
    {
     "name": "stdout",
     "output_type": "stream",
     "text": [
      "nvcc: NVIDIA (R) Cuda compiler driver\r\n",
      "Copyright (c) 2005-2017 NVIDIA Corporation\r\n",
      "Built on Fri_Sep__1_21:08:03_CDT_2017\r\n",
      "Cuda compilation tools, release 9.0, V9.0.176\r\n"
     ]
    }
   ],
   "source": [
    "!nvcc -V"
   ]
  }
 ],
 "metadata": {
  "kernelspec": {
   "display_name": "Python 3",
   "language": "python",
   "name": "python3"
  },
  "language_info": {
   "codemirror_mode": {
    "name": "ipython",
    "version": 3
   },
   "file_extension": ".py",
   "mimetype": "text/x-python",
   "name": "python",
   "nbconvert_exporter": "python",
   "pygments_lexer": "ipython3",
   "version": "3.6.3"
  }
 },
 "nbformat": 4,
 "nbformat_minor": 2
}
