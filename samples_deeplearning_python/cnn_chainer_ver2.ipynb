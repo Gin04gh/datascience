{
 "cells": [
  {
   "cell_type": "markdown",
   "metadata": {},
   "source": [
    "* convolutional neural network on MNIST by Chainer"
   ]
  },
  {
   "cell_type": "code",
   "execution_count": 2,
   "metadata": {},
   "outputs": [],
   "source": [
    "import numpy as np\n",
    "import matplotlib\n",
    "import matplotlib.pylab as plt\n",
    "import seaborn as sns\n",
    "from sklearn import model_selection, metrics\n",
    "import chainer\n",
    "import chainer.functions as F\n",
    "import chainer.links as L\n",
    "from chainer.training import extensions"
   ]
  },
  {
   "cell_type": "code",
   "execution_count": 4,
   "metadata": {},
   "outputs": [
    {
     "name": "stdout",
     "output_type": "stream",
     "text": [
      "Could not download MNIST data from mldata.org, trying alternative...\n",
      "Success!\n"
     ]
    }
   ],
   "source": [
    "import urllib\n",
    "from sklearn.datasets import fetch_mldata\n",
    "\n",
    "try:\n",
    "    mnist = fetch_mldata('MNIST original')\n",
    "except urllib.error.HTTPError as ex:\n",
    "    from six.moves import urllib\n",
    "    from scipy.io import loadmat\n",
    "    import os\n",
    "    print('Could not download MNIST data from mldata.org, trying alternative...')\n",
    "    mnist_alternative_url = 'https://github.com/amplab/datascience-sp14/raw/master/lab7/mldata/mnist-original.mat'\n",
    "    mnist_path = './mnist-original.mat'\n",
    "    response = urllib.request.urlopen(mnist_alternative_url)\n",
    "    with open(mnist_path, 'wb') as f:\n",
    "        content = response.read()\n",
    "        f.write(content)\n",
    "    mnist_raw = loadmat(mnist_path)\n",
    "    mnist = {\n",
    "        \"data\": mnist_raw['data'].T,\n",
    "        \"target\": mnist_raw['label'][0],\n",
    "        \"COL_NAMES\": ['label', 'data'],\n",
    "        \"DESCR\": 'mldata.org dataset: mnist-original',\n",
    "    }\n",
    "    print('Success!')"
   ]
  },
  {
   "cell_type": "code",
   "execution_count": 5,
   "metadata": {},
   "outputs": [
    {
     "data": {
      "text/plain": [
       "((70000, 1, 28, 28), (70000,))"
      ]
     },
     "execution_count": 5,
     "metadata": {},
     "output_type": "execute_result"
    }
   ],
   "source": [
    "mnist['data'] = mnist['data'].astype(np.float32).reshape(len(mnist['data']), 1, 28, 28) # image data\n",
    "mnist['data'] /= 255\n",
    "mnist['target'] = mnist['target'].astype(np.int32) # label data\n",
    "mnist['data'].shape, mnist['target'].shape"
   ]
  },
  {
   "cell_type": "code",
   "execution_count": 6,
   "metadata": {},
   "outputs": [
    {
     "data": {
      "text/plain": [
       "(56000, 14000)"
      ]
     },
     "execution_count": 6,
     "metadata": {},
     "output_type": "execute_result"
    }
   ],
   "source": [
    "# train data size : validation data size= 8 : 2\n",
    "train_x, valid_x, train_y, valid_y = model_selection.train_test_split(mnist['data'], mnist['target'], test_size=0.2)\n",
    "\n",
    "train_dataset = chainer.datasets.tuple_dataset.TupleDataset(train_x, train_y)\n",
    "valid_dataset = chainer.datasets.tuple_dataset.TupleDataset(valid_x, valid_y)\n",
    "\n",
    "len(train_dataset), len(valid_dataset)"
   ]
  },
  {
   "cell_type": "code",
   "execution_count": 7,
   "metadata": {},
   "outputs": [],
   "source": [
    "class CNN(chainer.Chain):\n",
    "    \n",
    "    def __init__(self):\n",
    "        super(CNN, self).__init__(\n",
    "            conv1 = L.Convolution2D(1, 20, ksize=5),\n",
    "            conv2 = L.Convolution2D(20, 50, ksize=5),\n",
    "            fc1 = L.Linear(None, 500),\n",
    "            fc2 = L.Linear(500, 500),\n",
    "            fc3 = L.Linear(500, 10)\n",
    "        )\n",
    "    \n",
    "    def __call__(self, x):\n",
    "        \n",
    "        h = F.max_pooling_2d(F.relu(self.conv1(x)), 2)\n",
    "        h = F.max_pooling_2d(F.relu(self.conv2(h)), 2)\n",
    "        h = self.fc1(h)\n",
    "        h = self.fc2(h)\n",
    "        y = self.fc3(h)\n",
    "        return y"
   ]
  },
  {
   "cell_type": "code",
   "execution_count": 8,
   "metadata": {},
   "outputs": [],
   "source": [
    "gpu = 0\n",
    "\n",
    "model = L.Classifier(CNN())\n",
    "optimizer = chainer.optimizers.Adam()\n",
    "optimizer.setup(model)\n",
    "\n",
    "if gpu >= 0:\n",
    "    \n",
    "    chainer.cuda.get_device(gpu).use()\n",
    "    model.to_gpu(gpu)"
   ]
  },
  {
   "cell_type": "code",
   "execution_count": 9,
   "metadata": {},
   "outputs": [
    {
     "name": "stdout",
     "output_type": "stream",
     "text": [
      "epoch       main/loss   validation/main/loss  main/accuracy  validation/main/accuracy  elapsed_time\n",
      "\u001b[J1           0.410563    0.106101              0.873232       0.968071                  13.8441       \n",
      "\u001b[J2           0.0775864   0.0748249             0.976143       0.976572                  14.5781       \n",
      "\u001b[J3           0.0493338   0.0472499             0.985          0.985857                  15.3067       \n",
      "\u001b[J4           0.0381874   0.0457631             0.987768       0.986286                  16.0328       \n",
      "\u001b[J5           0.0298464   0.0450175             0.990696       0.987071                  16.7709       \n",
      "\u001b[J6           0.0265287   0.0429706             0.991482       0.986786                  17.513        \n",
      "\u001b[J7           0.0200595   0.0417418             0.993822       0.986857                  18.2376       \n",
      "\u001b[J8           0.0140155   0.0386183             0.995768       0.988571                  18.9775       \n",
      "\u001b[J9           0.0122673   0.0397485             0.996197       0.989143                  19.7192       \n",
      "\u001b[J10          0.0107453   0.0427487             0.996589       0.988429                  20.4545       \n"
     ]
    }
   ],
   "source": [
    "epoch_num = 10\n",
    "batch_size = 1000\n",
    "\n",
    "train_iter = chainer.iterators.SerialIterator(train_dataset, batch_size)\n",
    "test_iter = chainer.iterators.SerialIterator(valid_dataset, batch_size, repeat=False, shuffle=False)\n",
    "updater = chainer.training.StandardUpdater(train_iter, optimizer, device=gpu)\n",
    "trainer = chainer.training.Trainer(updater, (epoch_num, 'epoch'), out='result')\n",
    "trainer.extend(extensions.Evaluator(test_iter, model, device=gpu))\n",
    "trainer.extend(extensions.LogReport(trigger=(1, 'epoch')))\n",
    "trainer.extend(extensions.LogReport())\n",
    "trainer.extend(extensions.PrintReport(['epoch', 'main/loss', 'validation/main/loss', 'main/accuracy', 'validation/main/accuracy', 'elapsed_time']))\n",
    "#trainer.extend(extensions.ProgressBar())\n",
    "trainer.run()"
   ]
  },
  {
   "cell_type": "code",
   "execution_count": 10,
   "metadata": {},
   "outputs": [
    {
     "data": {
      "text/plain": [
       "<chainer.links.model.classifier.Classifier at 0x7f9b6cddbe10>"
      ]
     },
     "execution_count": 10,
     "metadata": {},
     "output_type": "execute_result"
    }
   ],
   "source": [
    "model.to_cpu()"
   ]
  },
  {
   "cell_type": "code",
   "execution_count": 14,
   "metadata": {},
   "outputs": [
    {
     "data": {
      "image/png": "[encoded data removed]",
      "text/plain": [
       "<Figure size 720x576 with 2 Axes>"
      ]
     },
     "metadata": {},
     "output_type": "display_data"
    }
   ],
   "source": [
    "with chainer.using_config('train', False):\n",
    "    \n",
    "    preds = F.argmax(F.softmax(model.predictor(valid_x), axis=1), axis=1).data.squeeze()\n",
    "    \n",
    "cm = metrics.confusion_matrix(preds, valid_y)\n",
    "\n",
    "plt.figure(figsize=(10,8))\n",
    "sns.heatmap(cm, annot=True, fmt='d')\n",
    "plt.show()"
   ]
  },
  {
   "cell_type": "code",
   "execution_count": 15,
   "metadata": {},
   "outputs": [
    {
     "data": {
      "image/png": "[encoded data removed]",
      "text/plain": [
       "<Figure size 1080x72 with 10 Axes>"
      ]
     },
     "metadata": {},
     "output_type": "display_data"
    },
    {
     "data": {
      "image/png": "[encoded data removed]",
      "text/plain": [
       "<Figure size 1080x72 with 10 Axes>"
      ]
     },
     "metadata": {},
     "output_type": "display_data"
    },
    {
     "data": {
      "image/png": "[encoded data removed]",
      "text/plain": [
       "<Figure size 1080x72 with 10 Axes>"
      ]
     },
     "metadata": {},
     "output_type": "display_data"
    }
   ],
   "source": [
    "indices = np.random.choice(len(valid_x), 30)\n",
    "\n",
    "for i, idx in enumerate(indices):\n",
    "    \n",
    "    if i%10 == 0:\n",
    "        fig, axs = plt.subplots(ncols=10, figsize=(15,1))\n",
    "    \n",
    "    x = valid_x[idx]\n",
    "    y = valid_y[idx]\n",
    "    \n",
    "    x_img = x.reshape(28, 28)\n",
    "    x = x[np.newaxis]\n",
    "    \n",
    "    with chainer.using_config('train', False):\n",
    "    \n",
    "        pred = F.argmax(F.softmax(model.predictor(x), axis=1), axis=1).data.squeeze()\n",
    "        \n",
    "        axs[i%10].imshow(x_img, cmap='gray')\n",
    "        title = 'y: {}'.format(y) + '\\n' + 'pred: {}'.format(pred)\n",
    "        axs[i%10].set_title(title)\n",
    "        axs[i%10].axis('off')\n",
    "\n",
    "plt.show()"
   ]
  },
  {
   "cell_type": "code",
   "execution_count": 16,
   "metadata": {},
   "outputs": [
    {
     "name": "stdout",
     "output_type": "stream",
     "text": [
      "Python 3.6.3\r\n"
     ]
    }
   ],
   "source": [
    "!python --version"
   ]
  },
  {
   "cell_type": "code",
   "execution_count": 17,
   "metadata": {},
   "outputs": [
    {
     "name": "stdout",
     "output_type": "stream",
     "text": [
      "absl-py==0.2.0\r\n",
      "astor==0.6.2\r\n",
      "backcall==0.1.0\r\n",
      "bleach==1.5.0\r\n",
      "certifi==2018.4.16\r\n",
      "chainer==4.0.0\r\n",
      "chainercv==0.10.0\r\n",
      "chardet==3.0.4\r\n",
      "cntk-gpu==2.5.1\r\n",
      "cupy==4.0.0\r\n",
      "cycler==0.10.0\r\n",
      "Cython==0.28.2\r\n",
      "decorator==4.3.0\r\n",
      "dm-sonnet==1.20\r\n",
      "edward==1.3.5\r\n",
      "entrypoints==0.2.3\r\n",
      "fastrlock==0.3\r\n",
      "filelock==3.0.4\r\n",
      "future==0.16.0\r\n",
      "gast==0.2.0\r\n",
      "graphviz==0.8.3\r\n",
      "grpcio==1.11.0\r\n",
      "h5py==2.7.1\r\n",
      "html5lib==0.9999999\r\n",
      "idna==2.6\r\n",
      "ipykernel==4.8.2\r\n",
      "ipython==6.3.1\r\n",
      "ipython-genutils==0.2.0\r\n",
      "ipywidgets==7.2.1\r\n",
      "jedi==0.12.0\r\n",
      "Jinja2==2.10\r\n",
      "jsonschema==2.6.0\r\n",
      "jupyter==1.0.0\r\n",
      "jupyter-client==5.2.3\r\n",
      "jupyter-console==5.2.0\r\n",
      "jupyter-core==4.4.0\r\n",
      "Keras==2.1.6\r\n",
      "kiwisolver==1.0.1\r\n",
      "Lasagne==0.2.dev1\r\n",
      "leveldb==0.194\r\n",
      "Mako==1.0.7\r\n",
      "Markdown==2.6.11\r\n",
      "MarkupSafe==1.0\r\n",
      "matplotlib==2.2.2\r\n",
      "mistune==0.8.3\r\n",
      "mxnet-cu90==1.1.0.post0\r\n",
      "nbconvert==5.3.1\r\n",
      "nbformat==4.4.0\r\n",
      "networkx==2.1\r\n",
      "nose==1.3.7\r\n",
      "notebook==5.4.1\r\n",
      "numpy==1.14.3\r\n",
      "pandas==0.22.0\r\n",
      "pandocfilters==1.4.2\r\n",
      "parso==0.2.0\r\n",
      "pexpect==4.5.0\r\n",
      "pickleshare==0.7.4\r\n",
      "Pillow==5.1.0\r\n",
      "prompt-toolkit==1.0.15\r\n",
      "protobuf==3.5.2.post1\r\n",
      "ptyprocess==0.5.2\r\n",
      "pycurl==7.43.0\r\n",
      "Pygments==2.2.0\r\n",
      "pygobject==3.20.0\r\n",
      "pygpu==0.7.5+15.gf036aef\r\n",
      "pyparsing==2.2.0\r\n",
      "python-apt==1.1.0b1+ubuntu0.16.4.1\r\n",
      "python-dateutil==2.7.2\r\n",
      "python-gflags==3.1.2\r\n",
      "pytz==2018.4\r\n",
      "PyWavelets==0.5.2\r\n",
      "PyYAML==3.12\r\n",
      "pyzmq==17.0.0\r\n",
      "qtconsole==4.3.1\r\n",
      "requests==2.18.4\r\n",
      "scikit-image==0.13.1\r\n",
      "scikit-learn==0.19.1\r\n",
      "scipy==1.0.1\r\n",
      "seaborn==0.9.0\r\n",
      "Send2Trash==1.5.0\r\n",
      "simplegeneric==0.8.1\r\n",
      "six==1.11.0\r\n",
      "tensorboard==1.8.0\r\n",
      "tensorflow-gpu==1.8.0\r\n",
      "termcolor==1.1.0\r\n",
      "terminado==0.8.1\r\n",
      "testpath==0.3.1\r\n",
      "Theano==1.0.1\r\n",
      "torch==0.4.0\r\n",
      "torchvision==0.2.1\r\n",
      "tornado==5.0.2\r\n",
      "traitlets==4.3.2\r\n",
      "urllib3==1.22\r\n",
      "wcwidth==0.1.7\r\n",
      "webencodings==0.5.1\r\n",
      "Werkzeug==0.14.1\r\n",
      "widgetsnbextension==3.2.1\r\n"
     ]
    }
   ],
   "source": [
    "!pip freeze"
   ]
  },
  {
   "cell_type": "code",
   "execution_count": 1,
   "metadata": {},
   "outputs": [
    {
     "name": "stdout",
     "output_type": "stream",
     "text": [
      "NVRM version: NVIDIA UNIX x86_64 Kernel Module  384.111  Tue Dec 19 23:51:45 PST 2017\r\n",
      "GCC version:  gcc version 5.4.0 20160609 (Ubuntu 5.4.0-6ubuntu1~16.04.10) \r\n"
     ]
    }
   ],
   "source": [
    "!cat /proc/driver/nvidia/version"
   ]
  },
  {
   "cell_type": "code",
   "execution_count": 2,
   "metadata": {},
   "outputs": [
    {
     "name": "stdout",
     "output_type": "stream",
     "text": [
      "nvcc: NVIDIA (R) Cuda compiler driver\r\n",
      "Copyright (c) 2005-2017 NVIDIA Corporation\r\n",
      "Built on Fri_Sep__1_21:08:03_CDT_2017\r\n",
      "Cuda compilation tools, release 9.0, V9.0.176\r\n"
     ]
    }
   ],
   "source": [
    "!nvcc -V"
   ]
  }
 ],
 "metadata": {
  "kernelspec": {
   "display_name": "Python 3",
   "language": "python",
   "name": "python3"
  },
  "language_info": {
   "codemirror_mode": {
    "name": "ipython",
    "version": 3
   },
   "file_extension": ".py",
   "mimetype": "text/x-python",
   "name": "python",
   "nbconvert_exporter": "python",
   "pygments_lexer": "ipython3",
   "version": "3.6.3"
  }
 },
 "nbformat": 4,
 "nbformat_minor": 2
}
