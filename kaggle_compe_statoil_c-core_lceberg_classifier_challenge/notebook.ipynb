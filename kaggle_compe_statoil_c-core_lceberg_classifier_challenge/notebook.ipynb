{
 "cells": [
  {
   "cell_type": "code",
   "execution_count": 1,
   "metadata": {},
   "outputs": [],
   "source": [
    "import time\n",
    "import numpy as np\n",
    "import pandas as pd\n",
    "import matplotlib\n",
    "import matplotlib.pylab as plt"
   ]
  },
  {
   "cell_type": "code",
   "execution_count": 2,
   "metadata": {},
   "outputs": [],
   "source": [
    "train = pd.read_json('./data/processed/train.json') \n",
    "test = pd.read_json('./data/processed/test.json')\n",
    "#sample_submission = pd.read_csv('./data/processed/sample_submission.csv')"
   ]
  },
  {
   "cell_type": "code",
   "execution_count": 3,
   "metadata": {},
   "outputs": [
    {
     "name": "stdout",
     "output_type": "stream",
     "text": [
      "1604\n"
     ]
    },
    {
     "data": {
      "text/html": [
       "<div>\n",
       "<style scoped>\n",
       "    .dataframe tbody tr th:only-of-type {\n",
       "        vertical-align: middle;\n",
       "    }\n",
       "\n",
       "    .dataframe tbody tr th {\n",
       "        vertical-align: top;\n",
       "    }\n",
       "\n",
       "    .dataframe thead th {\n",
       "        text-align: right;\n",
       "    }\n",
       "</style>\n",
       "<table border=\"1\" class=\"dataframe\">\n",
       "  <thead>\n",
       "    <tr style=\"text-align: right;\">\n",
       "      <th></th>\n",
       "      <th>band_1</th>\n",
       "      <th>band_2</th>\n",
       "      <th>id</th>\n",
       "      <th>inc_angle</th>\n",
       "      <th>is_iceberg</th>\n",
       "    </tr>\n",
       "  </thead>\n",
       "  <tbody>\n",
       "    <tr>\n",
       "      <th>0</th>\n",
       "      <td>[-27.878360999999998, -27.15416, -28.668615, -...</td>\n",
       "      <td>[-27.154118, -29.537888, -31.0306, -32.190483,...</td>\n",
       "      <td>dfd5f913</td>\n",
       "      <td>43.9239</td>\n",
       "      <td>0</td>\n",
       "    </tr>\n",
       "    <tr>\n",
       "      <th>1</th>\n",
       "      <td>[-12.242375, -14.920304999999999, -14.920363, ...</td>\n",
       "      <td>[-31.506321, -27.984554, -26.645678, -23.76760...</td>\n",
       "      <td>e25388fd</td>\n",
       "      <td>38.1562</td>\n",
       "      <td>0</td>\n",
       "    </tr>\n",
       "    <tr>\n",
       "      <th>2</th>\n",
       "      <td>[-24.603676, -24.603714, -24.871029, -23.15277...</td>\n",
       "      <td>[-24.870956, -24.092632, -20.653963, -19.41104...</td>\n",
       "      <td>58b2aaa0</td>\n",
       "      <td>45.2859</td>\n",
       "      <td>1</td>\n",
       "    </tr>\n",
       "    <tr>\n",
       "      <th>3</th>\n",
       "      <td>[-22.454607, -23.082819, -23.998013, -23.99805...</td>\n",
       "      <td>[-27.889421, -27.519794, -27.165262, -29.10350...</td>\n",
       "      <td>4cfc3a18</td>\n",
       "      <td>43.8306</td>\n",
       "      <td>0</td>\n",
       "    </tr>\n",
       "    <tr>\n",
       "      <th>4</th>\n",
       "      <td>[-26.006956, -23.164886, -23.164886, -26.89116...</td>\n",
       "      <td>[-27.206915, -30.259186, -30.259186, -23.16495...</td>\n",
       "      <td>271f93f4</td>\n",
       "      <td>35.6256</td>\n",
       "      <td>0</td>\n",
       "    </tr>\n",
       "  </tbody>\n",
       "</table>\n",
       "</div>"
      ],
      "text/plain": [
       "                                              band_1  \\\n",
       "0  [-27.878360999999998, -27.15416, -28.668615, -...   \n",
       "1  [-12.242375, -14.920304999999999, -14.920363, ...   \n",
       "2  [-24.603676, -24.603714, -24.871029, -23.15277...   \n",
       "3  [-22.454607, -23.082819, -23.998013, -23.99805...   \n",
       "4  [-26.006956, -23.164886, -23.164886, -26.89116...   \n",
       "\n",
       "                                              band_2        id inc_angle  \\\n",
       "0  [-27.154118, -29.537888, -31.0306, -32.190483,...  dfd5f913   43.9239   \n",
       "1  [-31.506321, -27.984554, -26.645678, -23.76760...  e25388fd   38.1562   \n",
       "2  [-24.870956, -24.092632, -20.653963, -19.41104...  58b2aaa0   45.2859   \n",
       "3  [-27.889421, -27.519794, -27.165262, -29.10350...  4cfc3a18   43.8306   \n",
       "4  [-27.206915, -30.259186, -30.259186, -23.16495...  271f93f4   35.6256   \n",
       "\n",
       "   is_iceberg  \n",
       "0           0  \n",
       "1           0  \n",
       "2           1  \n",
       "3           0  \n",
       "4           0  "
      ]
     },
     "metadata": {},
     "output_type": "display_data"
    }
   ],
   "source": [
    "print(len(train))\n",
    "display(train.head())"
   ]
  },
  {
   "cell_type": "code",
   "execution_count": 4,
   "metadata": {},
   "outputs": [
    {
     "name": "stdout",
     "output_type": "stream",
     "text": [
      "8424\n"
     ]
    },
    {
     "data": {
      "text/html": [
       "<div>\n",
       "<style scoped>\n",
       "    .dataframe tbody tr th:only-of-type {\n",
       "        vertical-align: middle;\n",
       "    }\n",
       "\n",
       "    .dataframe tbody tr th {\n",
       "        vertical-align: top;\n",
       "    }\n",
       "\n",
       "    .dataframe thead th {\n",
       "        text-align: right;\n",
       "    }\n",
       "</style>\n",
       "<table border=\"1\" class=\"dataframe\">\n",
       "  <thead>\n",
       "    <tr style=\"text-align: right;\">\n",
       "      <th></th>\n",
       "      <th>band_1</th>\n",
       "      <th>band_2</th>\n",
       "      <th>id</th>\n",
       "      <th>inc_angle</th>\n",
       "    </tr>\n",
       "  </thead>\n",
       "  <tbody>\n",
       "    <tr>\n",
       "      <th>0</th>\n",
       "      <td>[-15.863251, -15.201077, -17.887735, -19.17248...</td>\n",
       "      <td>[-21.629612, -21.142353, -23.908337, -28.34524...</td>\n",
       "      <td>5941774d</td>\n",
       "      <td>34.966400</td>\n",
       "    </tr>\n",
       "    <tr>\n",
       "      <th>1</th>\n",
       "      <td>[-26.058969497680664, -26.058969497680664, -26...</td>\n",
       "      <td>[-25.754207611083984, -25.754207611083984, -25...</td>\n",
       "      <td>4023181e</td>\n",
       "      <td>32.615072</td>\n",
       "    </tr>\n",
       "    <tr>\n",
       "      <th>2</th>\n",
       "      <td>[-14.14109992980957, -15.064241409301758, -17....</td>\n",
       "      <td>[-14.74563980102539, -14.590410232543945, -14....</td>\n",
       "      <td>b20200e4</td>\n",
       "      <td>37.505433</td>\n",
       "    </tr>\n",
       "    <tr>\n",
       "      <th>3</th>\n",
       "      <td>[-12.167478, -13.706167, -16.54837, -13.572674...</td>\n",
       "      <td>[-24.32222, -26.375538, -24.096739, -23.8769, ...</td>\n",
       "      <td>e7f018bb</td>\n",
       "      <td>34.473900</td>\n",
       "    </tr>\n",
       "    <tr>\n",
       "      <th>4</th>\n",
       "      <td>[-23.37459373474121, -26.02718162536621, -28.1...</td>\n",
       "      <td>[-25.72234344482422, -27.011577606201172, -23....</td>\n",
       "      <td>4371c8c3</td>\n",
       "      <td>43.918874</td>\n",
       "    </tr>\n",
       "  </tbody>\n",
       "</table>\n",
       "</div>"
      ],
      "text/plain": [
       "                                              band_1  \\\n",
       "0  [-15.863251, -15.201077, -17.887735, -19.17248...   \n",
       "1  [-26.058969497680664, -26.058969497680664, -26...   \n",
       "2  [-14.14109992980957, -15.064241409301758, -17....   \n",
       "3  [-12.167478, -13.706167, -16.54837, -13.572674...   \n",
       "4  [-23.37459373474121, -26.02718162536621, -28.1...   \n",
       "\n",
       "                                              band_2        id  inc_angle  \n",
       "0  [-21.629612, -21.142353, -23.908337, -28.34524...  5941774d  34.966400  \n",
       "1  [-25.754207611083984, -25.754207611083984, -25...  4023181e  32.615072  \n",
       "2  [-14.74563980102539, -14.590410232543945, -14....  b20200e4  37.505433  \n",
       "3  [-24.32222, -26.375538, -24.096739, -23.8769, ...  e7f018bb  34.473900  \n",
       "4  [-25.72234344482422, -27.011577606201172, -23....  4371c8c3  43.918874  "
      ]
     },
     "metadata": {},
     "output_type": "display_data"
    }
   ],
   "source": [
    "print(len(test))\n",
    "display(test.head())"
   ]
  },
  {
   "cell_type": "code",
   "execution_count": 5,
   "metadata": {},
   "outputs": [],
   "source": [
    "train['inc_angle2'] = train['inc_angle']\n",
    "train['inc_angle2'] = train['inc_angle'].where(train['inc_angle'] != 'na', 0)"
   ]
  },
  {
   "cell_type": "code",
   "execution_count": 6,
   "metadata": {},
   "outputs": [],
   "source": [
    "train_id = train['id'].values\n",
    "test_id = test['id'].values\n",
    "train_inc_angle = np.array(train['inc_angle2'].values, dtype='float32').reshape(len(train), 1)\n",
    "test_inc_angle = np.array(test['inc_angle'].values, dtype='float32').reshape(len(test), 1)\n",
    "train_band_1 = np.array(list(map(list, train['band_1'].values)), dtype='float32').reshape(len(train), 75, 75, 1)\n",
    "train_band_2 = np.array(list(map(list, train['band_2'].values)), dtype='float32').reshape(len(train), 75, 75, 1)\n",
    "test_band_1 = np.array(list(map(list, test['band_1'].values)), dtype='float32').reshape(len(test), 75, 75, 1)\n",
    "test_band_2 = np.array(list(map(list, test['band_2'].values)), dtype='float32').reshape(len(test), 75, 75, 1)"
   ]
  },
  {
   "cell_type": "code",
   "execution_count": 7,
   "metadata": {},
   "outputs": [],
   "source": [
    "tmp = np.vstack([train_inc_angle, test_inc_angle])\n",
    "tmp_max = tmp.max()\n",
    "tmp_min = tmp.min()\n",
    "\n",
    "train_inc_angle2 = (train_inc_angle - tmp_min) / (tmp_max - tmp_min) \n",
    "test_inc_angle2 = (test_inc_angle - tmp_min) / (tmp_max - tmp_min)"
   ]
  },
  {
   "cell_type": "code",
   "execution_count": 8,
   "metadata": {},
   "outputs": [],
   "source": [
    "tmp = np.vstack([train_band_1, test_band_1])\n",
    "tmp_max = tmp.max()\n",
    "tmp_min = tmp.min()\n",
    "\n",
    "train_band_1_2 = (train_band_1 - tmp_min) / (tmp_max - tmp_min)\n",
    "test_band_1_2 = (test_band_1 - tmp_min) / (tmp_max - tmp_min)"
   ]
  },
  {
   "cell_type": "code",
   "execution_count": 9,
   "metadata": {},
   "outputs": [],
   "source": [
    "tmp = np.vstack([train_band_2, test_band_2])\n",
    "tmp_max = tmp.max()\n",
    "tmp_min = tmp.min()\n",
    "\n",
    "train_band_2_2 = (train_band_2 - tmp_min) / (tmp_max - tmp_min)\n",
    "test_band_2_2 = (test_band_2 - tmp_min) / (tmp_max - tmp_min)"
   ]
  },
  {
   "cell_type": "code",
   "execution_count": 10,
   "metadata": {},
   "outputs": [],
   "source": [
    "train_is_iceberg2 = np.eye(2)[train[\"is_iceberg\"].values].astype('float32')"
   ]
  },
  {
   "cell_type": "code",
   "execution_count": 11,
   "metadata": {},
   "outputs": [],
   "source": [
    "N = 1200\n",
    "train_band_1_2, varid_band_1_2 = np.split(train_band_1_2, [N])\n",
    "train_band_2_2, varid_band_2_2 = np.split(train_band_2_2, [N])\n",
    "train_inc_angle2, varid_inc_angle2 = np.split(train_inc_angle2, [N])\n",
    "train_is_iceberg2, varid_is_iceberg2 = np.split(train_is_iceberg2, [N])"
   ]
  },
  {
   "cell_type": "code",
   "execution_count": 13,
   "metadata": {},
   "outputs": [],
   "source": [
    "import tensorflow as tf\n",
    "from tqdm import tqdm"
   ]
  },
  {
   "cell_type": "code",
   "execution_count": 15,
   "metadata": {},
   "outputs": [
    {
     "name": "stdout",
     "output_type": "stream",
     "text": [
      "epoch:\t10\tloss:\t0\ttrain acc:\t0.6633333563804626\ttest acc:\t0.6212871074676514\n",
      "epoch:\t20\tloss:\t0\ttrain acc:\t0.7333333492279053\ttest acc:\t0.6732673048973083\n",
      "epoch:\t30\tloss:\t0\ttrain acc:\t0.7925000190734863\ttest acc:\t0.6732673048973083\n",
      "epoch:\t40\tloss:\t0\ttrain acc:\t0.9024999737739563\ttest acc:\t0.7821782231330872\n",
      "epoch:\t50\tloss:\t0\ttrain acc:\t0.9300000071525574\ttest acc:\t0.7920792102813721\n",
      "epoch:\t60\tloss:\t0\ttrain acc:\t0.9208333492279053\ttest acc:\t0.8316831588745117\n",
      "epoch:\t70\tloss:\t0\ttrain acc:\t0.9674999713897705\ttest acc:\t0.8193069100379944\n",
      "epoch:\t80\tloss:\t0\ttrain acc:\t0.9758333563804626\ttest acc:\t0.8415841460227966\n",
      "epoch:\t90\tloss:\t0\ttrain acc:\t0.9900000095367432\ttest acc:\t0.853960394859314\n",
      "epoch:\t100\tloss:\t0\ttrain acc:\t0.9891666769981384\ttest acc:\t0.8465346693992615\n"
     ]
    }
   ],
   "source": [
    "xb1_ = tf.placeholder(tf.float32, shape=(None, 75, 75, 1)) # x: band_1\n",
    "xb2_ = tf.placeholder(tf.float32, shape=(None, 75, 75, 1)) # x: band_2\n",
    "xia_ = tf.placeholder(tf.float32, shape=(None, 1)) # x: inc_angle\n",
    "y_ = tf.placeholder(tf.float32, shape=(None, 2)) # y: is_iceberg\n",
    "\n",
    "xb1_conv1_features = 30\n",
    "xb1_max_pool_size1 = 2\n",
    "xb1_conv1_w = tf.Variable(tf.truncated_normal([5, 5, 1, xb1_conv1_features], stddev=0.1), dtype=tf.float32)\n",
    "xb1_conv1_b = tf.Variable(tf.constant(0.1, shape=[xb1_conv1_features]), dtype=tf.float32)\n",
    "xb1_conv1_c2 = tf.nn.conv2d(xb1_, xb1_conv1_w, strides=[1,1,1,1], padding='SAME')\n",
    "xb1_conv1_relu = tf.nn.relu(xb1_conv1_c2+xb1_conv1_b)\n",
    "xb1_conv1_mp = tf.nn.max_pool(xb1_conv1_relu, ksize=[1, xb1_max_pool_size1, xb1_max_pool_size1, 1], strides=[1, xb1_max_pool_size1, xb1_max_pool_size1, 1], padding='SAME')\n",
    "xb1_s = xb1_conv1_mp.get_shape().as_list()\n",
    "xb1_conv_result = tf.reshape(xb1_conv1_mp, [-1, xb1_s[1]*xb1_s[2]*xb1_s[3]])\n",
    "\n",
    "xb2_conv1_features = 30\n",
    "xb2_max_pool_size1 = 2\n",
    "xb2_conv1_w = tf.Variable(tf.truncated_normal([5, 5, 1, xb2_conv1_features], stddev=0.1), dtype=tf.float32)\n",
    "xb2_conv1_b = tf.Variable(tf.constant(0.1, shape=[xb2_conv1_features]), dtype=tf.float32)\n",
    "xb2_conv1_c2 = tf.nn.conv2d(xb2_, xb2_conv1_w, strides=[1,1,1,1], padding='SAME')\n",
    "xb2_conv1_relu = tf.nn.relu(xb2_conv1_c2+xb2_conv1_b)\n",
    "xb2_conv1_mp = tf.nn.max_pool(xb2_conv1_relu, ksize=[1, xb2_max_pool_size1, xb2_max_pool_size1, 1], strides=[1, xb2_max_pool_size1, xb2_max_pool_size1, 1], padding='SAME')\n",
    "xb2_s = xb1_conv1_mp.get_shape().as_list()\n",
    "xb2_conv_result = tf.reshape(xb2_conv1_mp, [-1, xb2_s[1]*xb2_s[2]*xb2_s[3]])\n",
    "\n",
    "xia_fc1_features = 50\n",
    "xia_fc1_w = tf.Variable(tf.truncated_normal([1, xia_fc1_features], stddev=0.1), dtype=tf.float32)\n",
    "xia_fc1_b = tf.Variable(tf.constant(0.1, shape=[xia_fc1_features]), dtype=tf.float32)\n",
    "xia_fc1 = tf.nn.relu(tf.matmul(xia_, xia_fc1_w)+xia_fc1_b)\n",
    "\n",
    "result_concat = tf.concat([xb1_conv_result, xb2_conv_result, xia_fc1], axis=1)\n",
    "\n",
    "fc_features = 100\n",
    "fc1_w = tf.Variable(tf.truncated_normal([result_concat.shape[1].value, fc_features], stddev=0.1), dtype=tf.float32)\n",
    "fc1_b = tf.Variable(tf.constant(0.1, shape=[fc_features]), dtype=tf.float32)\n",
    "fc1_m = tf.matmul(result_concat, fc1_w)+fc1_b\n",
    "fc1 = fc1_m*tf.nn.sigmoid(fc1_m)\n",
    "\n",
    "fc2_w = tf.Variable(tf.truncated_normal([fc_features, 2], stddev=0.1), dtype=tf.float32)\n",
    "fc2_b = tf.Variable(tf.constant(0.1, shape=[2]), dtype=tf.float32)\n",
    "y = tf.matmul(fc1, fc2_w)+fc2_b\n",
    "\n",
    "cross_entropy = tf.reduce_mean(tf.nn.softmax_cross_entropy_with_logits(labels=y_, logits=y))\n",
    "train_step = tf.train.AdamOptimizer().minimize(cross_entropy)\n",
    "correct_prediction = tf.equal(tf.argmax(y, 1), tf.argmax(y_, 1))\n",
    "accuracy = tf.reduce_mean(tf.cast(correct_prediction, tf.float32))\n",
    "prob = tf.nn.softmax(y)\n",
    "\n",
    "EPOCH_NUM = 100\n",
    "BATCH_SIZE = 200\n",
    "\n",
    "sess = tf.Session()\n",
    "sess.run(tf.global_variables_initializer())\n",
    "for epoch in range(EPOCH_NUM):\n",
    "    perm = np.random.permutation(N)\n",
    "    loss  = 0\n",
    "    for i in range(0, N, BATCH_SIZE):\n",
    "        batch_xb1 = train_band_1_2[perm[i:i+BATCH_SIZE]]\n",
    "        batch_xb2 = train_band_2_2[perm[i:i+BATCH_SIZE]]\n",
    "        batch_xia = train_inc_angle2[perm[i:i+BATCH_SIZE]]\n",
    "        batch_y = train_is_iceberg2[perm[i:i+BATCH_SIZE]]\n",
    "        train_step.run(session=sess, feed_dict={xb1_: batch_xb1, xb2_: batch_xb2, xia_: batch_xia, y_: batch_y})\n",
    "    train_accuracy = accuracy.eval(session=sess, feed_dict={xb1_: train_band_1_2, xb2_: train_band_2_2, xia_: train_inc_angle2, y_: train_is_iceberg2})\n",
    "    test_accuracy = accuracy.eval(session=sess, feed_dict={xb1_: varid_band_1_2, xb2_: varid_band_2_2, xia_: varid_inc_angle2, y_: varid_is_iceberg2})\n",
    "    if (epoch+1) % 10 == 0:\n",
    "        print(\"epoch:\\t{}\\tloss:\\t{}\\ttrain acc:\\t{}\\ttest acc:\\t{}\".format(epoch+1, loss, train_accuracy, test_accuracy))"
   ]
  },
  {
   "cell_type": "code",
   "execution_count": 20,
   "metadata": {},
   "outputs": [
    {
     "data": {
      "text/plain": [
       "array([0.7158221 , 0.19485727, 0.77252895, 0.55088705, 0.8516039 ,\n",
       "       0.22196984, 0.83809304, 0.3239814 , 0.03360997, 0.3305467 ,\n",
       "       0.6967359 , 0.14113627, 0.9936469 , 0.19300793, 0.00592783,\n",
       "       0.06695471, 0.56661606, 0.26381668, 0.02489205, 0.62879974,\n",
       "       0.9628189 , 0.75322825, 0.00584668, 0.74227095, 0.31670472,\n",
       "       0.1593704 , 0.03078315, 0.09333576, 0.01285369, 0.17544198,\n",
       "       0.2585224 , 0.0385753 , 0.03175983, 0.08054496, 0.0539799 ,\n",
       "       0.6009393 , 0.47134802, 0.54488593, 0.23239134, 0.6594467 ,\n",
       "       0.00477477, 0.25164202, 0.04261281, 0.06691042, 0.9172952 ,\n",
       "       0.5361519 , 0.9726777 , 0.00383775, 0.3702118 , 0.00273449,\n",
       "       0.9120252 , 0.03584305, 0.50983876, 0.8166622 , 0.03822677,\n",
       "       0.00904701, 0.17514555, 0.12455195, 0.06210341, 0.97703904,\n",
       "       0.666223  , 0.00873818, 0.10843845, 0.093592  , 0.83911395,\n",
       "       0.42779815, 0.3690727 , 0.37122962, 0.0191766 , 0.1493067 ,\n",
       "       0.82803327, 0.00512316, 0.49745604, 0.13680136, 0.91536707,\n",
       "       0.01741289, 0.02803139, 0.8894291 , 0.26435038, 0.36427233,\n",
       "       0.02990082, 0.00657726, 0.00550663, 0.64782286, 0.1895521 ,\n",
       "       0.29137203, 0.1058841 , 0.9487179 , 0.0233322 , 0.25409737,\n",
       "       0.5850266 , 0.9231621 , 0.28928393, 0.13865937, 0.2637563 ,\n",
       "       0.8013965 , 0.54192376, 0.9589268 , 0.7996043 , 0.76988876],\n",
       "      dtype=float32)"
      ]
     },
     "execution_count": 20,
     "metadata": {},
     "output_type": "execute_result"
    }
   ],
   "source": [
    "p = prob.eval(session=sess, feed_dict={xb1_: varid_band_1_2, xb2_: varid_band_2_2, xia_: varid_inc_angle2})\n",
    "p[:, 1][:100]"
   ]
  },
  {
   "cell_type": "code",
   "execution_count": 24,
   "metadata": {},
   "outputs": [
    {
     "name": "stderr",
     "output_type": "stream",
     "text": [
      "100%|██████████| 9/9 [00:00<00:00, 22.56it/s]\n"
     ]
    }
   ],
   "source": [
    "pre = np.array([], dtype=np.float32)\n",
    "\n",
    "tmp_size = 1000\n",
    "for i in tqdm(range(0, len(test), tmp_size)):\n",
    "    batch_xb1 = test_band_1_2[i:i+tmp_size]\n",
    "    batch_xb2 = test_band_2_2[i:i+tmp_size]\n",
    "    batch_xia = test_inc_angle2[i:i+tmp_size]\n",
    "    p = prob.eval(session=sess, feed_dict={xb1_: batch_xb1, xb2_: batch_xb2, xia_: batch_xia})\n",
    "    pre = np.hstack([pre, p[:,1]])"
   ]
  },
  {
   "cell_type": "code",
   "execution_count": 27,
   "metadata": {},
   "outputs": [
    {
     "data": {
      "text/plain": [
       "((8424,), (8424,))"
      ]
     },
     "execution_count": 27,
     "metadata": {},
     "output_type": "execute_result"
    }
   ],
   "source": [
    "test_id.shape, pre.shape"
   ]
  }
 ],
 "metadata": {
  "kernelspec": {
   "display_name": "Python 3",
   "language": "python",
   "name": "python3"
  },
  "language_info": {
   "codemirror_mode": {
    "name": "ipython",
    "version": 3
   },
   "file_extension": ".py",
   "mimetype": "text/x-python",
   "name": "python",
   "nbconvert_exporter": "python",
   "pygments_lexer": "ipython3",
   "version": "3.6.3"
  }
 },
 "nbformat": 4,
 "nbformat_minor": 2
}
